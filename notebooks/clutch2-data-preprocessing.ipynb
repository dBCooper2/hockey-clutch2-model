{
 "cells": [
  {
   "cell_type": "markdown",
   "metadata": {},
   "source": [
    "# Data Preprocessing for the Clutch<sup>2</sup> Model"
   ]
  },
  {
   "cell_type": "markdown",
   "metadata": {},
   "source": [
    "For the Model, we need the Shots Dataset for 2007-2024. We will also need players and teams for these seasons. Once these datasets are created, we can combine them to create the necessary dataframes for the WPA model.\n",
    "\n",
    "Recall the required data for the Pettigrew WP model are:\n",
    "- Strength Data(5on5, 4on5, 5on4, etc)\n",
    "- Scoring Rates for a Team (Pull Aggregated Team Data) at each Strength\n",
    "- Time Remaining in the Game\n",
    "- The Score Differential (Goals For Per Game - GFg, Goals Allowed Per Game - GAg)\n",
    "- Time Remaining for a Penalty\n",
    "\n",
    "And the data for the Ryder Estimation are:\n",
    "- Goal Differential\n",
    "- Time Remaining\n",
    "- GFg and GAg\n",
    "\n"
   ]
  },
  {
   "cell_type": "code",
   "execution_count": 1,
   "metadata": {},
   "outputs": [],
   "source": [
    "import os\n",
    "import pandas as pd\n",
    "import polars as pl\n",
    "from tqdm import tqdm\n",
    "from pathlib import Path\n",
    "import requests\n",
    "import pandas as pd\n",
    "from collections import defaultdict\n",
    "from typing import Tuple, Union\n",
    "import numpy as np\n",
    "from math import sqrt, exp\n",
    "from scipy.stats import poisson"
   ]
  },
  {
   "cell_type": "markdown",
   "metadata": {},
   "source": [
    "# 1. Create the Team, Player, Line and Shot datasets\n",
    "\n",
    "This data comes from Peter Tanner's [MoneyPuck](<>) site, and was renamed to the format `{category}_{season}.csv`. For example, the team data from 2024 would be `teams_2024.csv`."
   ]
  },
  {
   "cell_type": "code",
   "execution_count": 2,
   "metadata": {},
   "outputs": [],
   "source": [
    "# Paths to data directories\n",
    "teams_path = '/Users/dB/Documents/repos/github/hockey-clutch2-model/data/teams_data/'\n",
    "skaters_path = '/Users/dB/Documents/repos/github/hockey-clutch2-model/data/skaters_data/'\n",
    "lines_path = '/Users/dB/Documents/repos/github/hockey-clutch2-model/data/lines_data/'\n",
    "\n",
    "# Starting and Ending Dates\n",
    "start = 2008\n",
    "end = 2024"
   ]
  },
  {
   "cell_type": "markdown",
   "metadata": {},
   "source": [
    "### 1.a. Creating the Teams Data\n",
    "\n",
    "**Important Notes for People Recreating This:** \n",
    "\n",
    "- The 2018 Teams dataset has the columns `penalitiesFor` and `penalitiesAgainst` instead of `penaltiesFor` and `penaltiesAgainst`, this needs to be fixed for the program to run!"
   ]
  },
  {
   "cell_type": "code",
   "execution_count": 3,
   "metadata": {},
   "outputs": [],
   "source": [
    "def process_teams_data(teams_path):\n",
    "    dfs = [] # store dfs here\n",
    "    \n",
    "    # First pass: collect schema information\n",
    "    all_columns = set()\n",
    "    for team_file in os.listdir(teams_path):\n",
    "        if not team_file.endswith('.csv'):\n",
    "            continue\n",
    "        df = pl.scan_csv(f\"{teams_path}/{team_file}\").collect()\n",
    "        all_columns.update(df.columns)\n",
    "    \n",
    "    print(f\"Total unique columns found: {len(all_columns)}\")\n",
    "    \n",
    "    # Second pass: load and standardize each file\n",
    "    for team_file in tqdm(os.listdir(teams_path)):\n",
    "        if not team_file.endswith('.csv'):\n",
    "            continue\n",
    "            \n",
    "        try:\n",
    "            # Extract season from filename\n",
    "            season = int(team_file.split('_')[1].split('.')[0])\n",
    "            \n",
    "            # Read CSV with more flexible schema handling\n",
    "            df = pl.scan_csv(f\"{teams_path}/{team_file}\").collect()\n",
    "            \n",
    "            # Add missing columns with null values\n",
    "            missing_cols = all_columns - set(df.columns)\n",
    "            for col in missing_cols:\n",
    "                df = df.with_columns(pl.lit(None).alias(col))\n",
    "            \n",
    "            # Add season column - Redundant but whatever\n",
    "            df = df.with_columns(pl.lit(season).alias('season'))\n",
    "            \n",
    "            # Cast all numeric cols to floats\n",
    "            for col in df.columns:\n",
    "                if df[col].dtype in [pl.Int64, pl.Float64]:\n",
    "                    df = df.with_columns(pl.col(col).cast(pl.Float64))\n",
    "            \n",
    "            dfs.append(df)\n",
    "            \n",
    "        except Exception as e:\n",
    "            print(f\"Error processing {team_file}: {str(e)}\")\n",
    "    \n",
    "    if not dfs:\n",
    "        print(\"No valid team files were processed\")\n",
    "        return None\n",
    "    \n",
    "    # Combine all DataFrames\n",
    "    teams = pl.concat(dfs, how=\"vertical\")\n",
    "    \n",
    "    # Sort by season and team\n",
    "    teams = teams.sort([\"season\", \"team\"])\n",
    "    \n",
    "    # Create output directory if it doesn't exist\n",
    "    os.makedirs(\"processed_data\", exist_ok=True)\n",
    "    \n",
    "    # Save to parquet\n",
    "    teams.write_parquet(f'{teams_path[:-11]}processed_data/teams.parquet')\n",
    "    print(\"parquet file written to data/processed_data/teams.parquet\")\n",
    "    \n",
    "    return teams"
   ]
  },
  {
   "cell_type": "code",
   "execution_count": 4,
   "metadata": {},
   "outputs": [
    {
     "name": "stdout",
     "output_type": "stream",
     "text": [
      "Total unique columns found: 107\n"
     ]
    },
    {
     "name": "stderr",
     "output_type": "stream",
     "text": [
      "100%|██████████| 17/17 [00:01<00:00, 12.72it/s]"
     ]
    },
    {
     "name": "stdout",
     "output_type": "stream",
     "text": [
      "parquet file written to data/processed_data/teams.parquet\n",
      "\n",
      "First few rows of processed data:\n",
      "shape: (5, 107)\n",
      "┌──────┬────────┬──────┬──────────────┬───┬──────────────┬─────────────┬─────────────┬─────────────┐\n",
      "│ team ┆ season ┆ name ┆ team_duplica ┆ … ┆ reboundxGoal ┆ totalShotCr ┆ scoreAdjust ┆ scoreFlurry │\n",
      "│ ---  ┆ ---    ┆ ---  ┆ ted_0        ┆   ┆ sAgainst     ┆ editAgainst ┆ edTotalShot ┆ AdjustedTot │\n",
      "│ str  ┆ i32    ┆ str  ┆ ---          ┆   ┆ ---          ┆ ---         ┆ CreditAg…   ┆ alShotCr…   │\n",
      "│      ┆        ┆      ┆ str          ┆   ┆ f64          ┆ f64         ┆ ---         ┆ ---         │\n",
      "│      ┆        ┆      ┆              ┆   ┆              ┆             ┆ f64         ┆ f64         │\n",
      "╞══════╪════════╪══════╪══════════════╪═══╪══════════════╪═════════════╪═════════════╪═════════════╡\n",
      "│ ANA  ┆ 2008   ┆ ANA  ┆ ANA          ┆ … ┆ 35.0         ┆ 219.8       ┆ 219.52      ┆ 212.32      │\n",
      "│ ANA  ┆ 2008   ┆ ANA  ┆ ANA          ┆ … ┆ 20.34        ┆ 124.43      ┆ 124.14      ┆ 122.46      │\n",
      "│ ANA  ┆ 2008   ┆ ANA  ┆ ANA          ┆ … ┆ 12.56        ┆ 63.45       ┆ 63.45       ┆ 59.65       │\n",
      "│ ANA  ┆ 2008   ┆ ANA  ┆ ANA          ┆ … ┆ 0.27         ┆ 4.63        ┆ 4.63        ┆ 4.51        │\n",
      "│ ANA  ┆ 2008   ┆ ANA  ┆ ANA          ┆ … ┆ 1.83         ┆ 27.3        ┆ 27.3        ┆ 25.7        │\n",
      "└──────┴────────┴──────┴──────────────┴───┴──────────────┴─────────────┴─────────────┴─────────────┘\n",
      "\n",
      "DataFrame schema:\n",
      "Schema([('team', String), ('season', Int32), ('name', String), ('team_duplicated_0', String), ('position', String), ('situation', String), ('games_played', Float64), ('xGoalsPercentage', Float64), ('corsiPercentage', Float64), ('fenwickPercentage', Float64), ('iceTime', Float64), ('xOnGoalFor', Float64), ('xGoalsFor', Float64), ('xReboundsFor', Float64), ('xFreezeFor', Float64), ('xPlayStoppedFor', Float64), ('xPlayContinuedInZoneFor', Float64), ('xPlayContinuedOutsideZoneFor', Float64), ('flurryAdjustedxGoalsFor', Float64), ('scoreVenueAdjustedxGoalsFor', Float64), ('flurryScoreVenueAdjustedxGoalsFor', Float64), ('shotsOnGoalFor', Float64), ('missedShotsFor', Float64), ('blockedShotAttemptsFor', Float64), ('shotAttemptsFor', Float64), ('goalsFor', Float64), ('reboundsFor', Float64), ('reboundGoalsFor', Float64), ('freezeFor', Float64), ('playStoppedFor', Float64), ('playContinuedInZoneFor', Float64), ('playContinuedOutsideZoneFor', Float64), ('savedShotsOnGoalFor', Float64), ('savedUnblockedShotAttemptsFor', Float64), ('penaltiesFor', Float64), ('penaltyMinutesFor', Float64), ('faceOffsWonFor', Float64), ('hitsFor', Float64), ('takeawaysFor', Float64), ('giveawaysFor', Float64), ('lowDangerShotsFor', Float64), ('mediumDangerShotsFor', Float64), ('highDangerShotsFor', Float64), ('lowDangerxGoalsFor', Float64), ('mediumDangerxGoalsFor', Float64), ('highDangerxGoalsFor', Float64), ('lowDangerGoalsFor', Float64), ('mediumDangerGoalsFor', Float64), ('highDangerGoalsFor', Float64), ('scoreAdjustedShotsAttemptsFor', Float64), ('unblockedShotAttemptsFor', Float64), ('scoreAdjustedUnblockedShotAttemptsFor', Float64), ('dZoneGiveawaysFor', Float64), ('xGoalsFromxReboundsOfShotsFor', Float64), ('xGoalsFromActualReboundsOfShotsFor', Float64), ('reboundxGoalsFor', Float64), ('totalShotCreditFor', Float64), ('scoreAdjustedTotalShotCreditFor', Float64), ('scoreFlurryAdjustedTotalShotCreditFor', Float64), ('xOnGoalAgainst', Float64), ('xGoalsAgainst', Float64), ('xReboundsAgainst', Float64), ('xFreezeAgainst', Float64), ('xPlayStoppedAgainst', Float64), ('xPlayContinuedInZoneAgainst', Float64), ('xPlayContinuedOutsideZoneAgainst', Float64), ('flurryAdjustedxGoalsAgainst', Float64), ('scoreVenueAdjustedxGoalsAgainst', Float64), ('flurryScoreVenueAdjustedxGoalsAgainst', Float64), ('shotsOnGoalAgainst', Float64), ('missedShotsAgainst', Float64), ('blockedShotAttemptsAgainst', Float64), ('shotAttemptsAgainst', Float64), ('goalsAgainst', Float64), ('reboundsAgainst', Float64), ('reboundGoalsAgainst', Float64), ('freezeAgainst', Float64), ('playStoppedAgainst', Float64), ('playContinuedInZoneAgainst', Float64), ('playContinuedOutsideZoneAgainst', Float64), ('savedShotsOnGoalAgainst', Float64), ('savedUnblockedShotAttemptsAgainst', Float64), ('penaltiesAgainst', Float64), ('penalityMinutesAgainst', Float64), ('faceOffsWonAgainst', Float64), ('hitsAgainst', Float64), ('takeawaysAgainst', Float64), ('giveawaysAgainst', Float64), ('lowDangerShotsAgainst', Float64), ('mediumDangerShotsAgainst', Float64), ('highDangerShotsAgainst', Float64), ('lowDangerxGoalsAgainst', Float64), ('mediumDangerxGoalsAgainst', Float64), ('highDangerxGoalsAgainst', Float64), ('lowDangerGoalsAgainst', Float64), ('mediumDangerGoalsAgainst', Float64), ('highDangerGoalsAgainst', Float64), ('scoreAdjustedShotsAttemptsAgainst', Float64), ('unblockedShotAttemptsAgainst', Float64), ('scoreAdjustedUnblockedShotAttemptsAgainst', Float64), ('dZoneGiveawaysAgainst', Float64), ('xGoalsFromxReboundsOfShotsAgainst', Float64), ('xGoalsFromActualReboundsOfShotsAgainst', Float64), ('reboundxGoalsAgainst', Float64), ('totalShotCreditAgainst', Float64), ('scoreAdjustedTotalShotCreditAgainst', Float64), ('scoreFlurryAdjustedTotalShotCreditAgainst', Float64)])\n",
      "\n",
      "Shape of final DataFrame:\n",
      "(2610, 107)\n"
     ]
    },
    {
     "name": "stderr",
     "output_type": "stream",
     "text": [
      "\n"
     ]
    }
   ],
   "source": [
    "teams = process_teams_data(teams_path)\n",
    "\n",
    "if teams is not None:\n",
    "    print(\"\\nFirst few rows of processed data:\")\n",
    "    print(teams.head())\n",
    "    print(\"\\nDataFrame schema:\")\n",
    "    print(teams.schema)\n",
    "    print(\"\\nShape of final DataFrame:\")\n",
    "    print(teams.shape)"
   ]
  },
  {
   "cell_type": "code",
   "execution_count": 5,
   "metadata": {},
   "outputs": [
    {
     "data": {
      "text/html": [
       "<div><style>\n",
       ".dataframe > thead > tr,\n",
       ".dataframe > tbody > tr {\n",
       "  text-align: right;\n",
       "  white-space: pre-wrap;\n",
       "}\n",
       "</style>\n",
       "<small>shape: (1, 107)</small><table border=\"1\" class=\"dataframe\"><thead><tr><th>team</th><th>season</th><th>name</th><th>team_duplicated_0</th><th>position</th><th>situation</th><th>games_played</th><th>xGoalsPercentage</th><th>corsiPercentage</th><th>fenwickPercentage</th><th>iceTime</th><th>xOnGoalFor</th><th>xGoalsFor</th><th>xReboundsFor</th><th>xFreezeFor</th><th>xPlayStoppedFor</th><th>xPlayContinuedInZoneFor</th><th>xPlayContinuedOutsideZoneFor</th><th>flurryAdjustedxGoalsFor</th><th>scoreVenueAdjustedxGoalsFor</th><th>flurryScoreVenueAdjustedxGoalsFor</th><th>shotsOnGoalFor</th><th>missedShotsFor</th><th>blockedShotAttemptsFor</th><th>shotAttemptsFor</th><th>goalsFor</th><th>reboundsFor</th><th>reboundGoalsFor</th><th>freezeFor</th><th>playStoppedFor</th><th>playContinuedInZoneFor</th><th>playContinuedOutsideZoneFor</th><th>savedShotsOnGoalFor</th><th>savedUnblockedShotAttemptsFor</th><th>penaltiesFor</th><th>penaltyMinutesFor</th><th>faceOffsWonFor</th><th>&hellip;</th><th>missedShotsAgainst</th><th>blockedShotAttemptsAgainst</th><th>shotAttemptsAgainst</th><th>goalsAgainst</th><th>reboundsAgainst</th><th>reboundGoalsAgainst</th><th>freezeAgainst</th><th>playStoppedAgainst</th><th>playContinuedInZoneAgainst</th><th>playContinuedOutsideZoneAgainst</th><th>savedShotsOnGoalAgainst</th><th>savedUnblockedShotAttemptsAgainst</th><th>penaltiesAgainst</th><th>penalityMinutesAgainst</th><th>faceOffsWonAgainst</th><th>hitsAgainst</th><th>takeawaysAgainst</th><th>giveawaysAgainst</th><th>lowDangerShotsAgainst</th><th>mediumDangerShotsAgainst</th><th>highDangerShotsAgainst</th><th>lowDangerxGoalsAgainst</th><th>mediumDangerxGoalsAgainst</th><th>highDangerxGoalsAgainst</th><th>lowDangerGoalsAgainst</th><th>mediumDangerGoalsAgainst</th><th>highDangerGoalsAgainst</th><th>scoreAdjustedShotsAttemptsAgainst</th><th>unblockedShotAttemptsAgainst</th><th>scoreAdjustedUnblockedShotAttemptsAgainst</th><th>dZoneGiveawaysAgainst</th><th>xGoalsFromxReboundsOfShotsAgainst</th><th>xGoalsFromActualReboundsOfShotsAgainst</th><th>reboundxGoalsAgainst</th><th>totalShotCreditAgainst</th><th>scoreAdjustedTotalShotCreditAgainst</th><th>scoreFlurryAdjustedTotalShotCreditAgainst</th></tr><tr><td>u32</td><td>u32</td><td>u32</td><td>u32</td><td>u32</td><td>u32</td><td>u32</td><td>u32</td><td>u32</td><td>u32</td><td>u32</td><td>u32</td><td>u32</td><td>u32</td><td>u32</td><td>u32</td><td>u32</td><td>u32</td><td>u32</td><td>u32</td><td>u32</td><td>u32</td><td>u32</td><td>u32</td><td>u32</td><td>u32</td><td>u32</td><td>u32</td><td>u32</td><td>u32</td><td>u32</td><td>u32</td><td>u32</td><td>u32</td><td>u32</td><td>u32</td><td>u32</td><td>&hellip;</td><td>u32</td><td>u32</td><td>u32</td><td>u32</td><td>u32</td><td>u32</td><td>u32</td><td>u32</td><td>u32</td><td>u32</td><td>u32</td><td>u32</td><td>u32</td><td>u32</td><td>u32</td><td>u32</td><td>u32</td><td>u32</td><td>u32</td><td>u32</td><td>u32</td><td>u32</td><td>u32</td><td>u32</td><td>u32</td><td>u32</td><td>u32</td><td>u32</td><td>u32</td><td>u32</td><td>u32</td><td>u32</td><td>u32</td><td>u32</td><td>u32</td><td>u32</td><td>u32</td></tr></thead><tbody><tr><td>0</td><td>0</td><td>0</td><td>0</td><td>0</td><td>0</td><td>0</td><td>0</td><td>0</td><td>0</td><td>0</td><td>0</td><td>0</td><td>0</td><td>0</td><td>0</td><td>0</td><td>0</td><td>0</td><td>0</td><td>0</td><td>0</td><td>0</td><td>0</td><td>0</td><td>0</td><td>0</td><td>0</td><td>0</td><td>0</td><td>0</td><td>0</td><td>0</td><td>0</td><td>0</td><td>0</td><td>0</td><td>&hellip;</td><td>0</td><td>0</td><td>0</td><td>0</td><td>0</td><td>0</td><td>0</td><td>0</td><td>0</td><td>0</td><td>0</td><td>0</td><td>0</td><td>0</td><td>0</td><td>0</td><td>0</td><td>0</td><td>0</td><td>0</td><td>0</td><td>0</td><td>0</td><td>0</td><td>0</td><td>0</td><td>0</td><td>0</td><td>0</td><td>0</td><td>0</td><td>0</td><td>0</td><td>0</td><td>0</td><td>0</td><td>0</td></tr></tbody></table></div>"
      ],
      "text/plain": [
       "shape: (1, 107)\n",
       "┌──────┬────────┬──────┬──────────────┬───┬──────────────┬─────────────┬─────────────┬─────────────┐\n",
       "│ team ┆ season ┆ name ┆ team_duplica ┆ … ┆ reboundxGoal ┆ totalShotCr ┆ scoreAdjust ┆ scoreFlurry │\n",
       "│ ---  ┆ ---    ┆ ---  ┆ ted_0        ┆   ┆ sAgainst     ┆ editAgainst ┆ edTotalShot ┆ AdjustedTot │\n",
       "│ u32  ┆ u32    ┆ u32  ┆ ---          ┆   ┆ ---          ┆ ---         ┆ CreditAg…   ┆ alShotCr…   │\n",
       "│      ┆        ┆      ┆ u32          ┆   ┆ u32          ┆ u32         ┆ ---         ┆ ---         │\n",
       "│      ┆        ┆      ┆              ┆   ┆              ┆             ┆ u32         ┆ u32         │\n",
       "╞══════╪════════╪══════╪══════════════╪═══╪══════════════╪═════════════╪═════════════╪═════════════╡\n",
       "│ 0    ┆ 0      ┆ 0    ┆ 0            ┆ … ┆ 0            ┆ 0           ┆ 0           ┆ 0           │\n",
       "└──────┴────────┴──────┴──────────────┴───┴──────────────┴─────────────┴─────────────┴─────────────┘"
      ]
     },
     "execution_count": 5,
     "metadata": {},
     "output_type": "execute_result"
    }
   ],
   "source": [
    "teams.null_count()"
   ]
  },
  {
   "cell_type": "markdown",
   "metadata": {},
   "source": [
    "### 1.b. Creating the Skaters Data"
   ]
  },
  {
   "cell_type": "code",
   "execution_count": 6,
   "metadata": {},
   "outputs": [],
   "source": [
    "def process_skaters_data(skaters_path):\n",
    "    dfs = []  # store dfs here\n",
    "    \n",
    "    # First pass: collect schema information\n",
    "    all_columns = set()\n",
    "    for skater_file in os.listdir(skaters_path):\n",
    "        if not skater_file.endswith('.csv'):\n",
    "            continue\n",
    "        df = pl.scan_csv(f\"{skaters_path}/{skater_file}\").collect()\n",
    "        all_columns.update(df.columns)\n",
    "    \n",
    "    print(f\"Total unique columns found: {len(all_columns)}\")\n",
    "    \n",
    "    # Second pass: load and standardize each file\n",
    "    for skater_file in tqdm(os.listdir(skaters_path)):\n",
    "        if not skater_file.endswith('.csv'):\n",
    "            continue\n",
    "            \n",
    "        try:\n",
    "            # Extract season from filename\n",
    "            season = int(skater_file.split('_')[1].split('.')[0])\n",
    "            \n",
    "            # Read CSV with more flexible schema handling\n",
    "            df = pl.scan_csv(f\"{skaters_path}/{skater_file}\").collect()\n",
    "            \n",
    "            # Add missing columns with null values\n",
    "            missing_cols = all_columns - set(df.columns)\n",
    "            for col in missing_cols:\n",
    "                df = df.with_columns(pl.lit(None).alias(col))\n",
    "            \n",
    "            # Add season column - Redundant but whatever\n",
    "            df = df.with_columns(pl.lit(season).alias('season'))\n",
    "            \n",
    "            # Cast all numeric cols to floats\n",
    "            for col in df.columns:\n",
    "                if df[col].dtype in [pl.Int64, pl.Float64]:\n",
    "                    df = df.with_columns(pl.col(col).cast(pl.Float64))\n",
    "                    \n",
    "            dfs.append(df)\n",
    "            \n",
    "        except Exception as e:\n",
    "            print(f\"Error processing {skater_file}: {str(e)}\")\n",
    "    \n",
    "    if not dfs:\n",
    "        print(\"No valid skater files were processed\")\n",
    "        return None\n",
    "        \n",
    "    # Combine all DataFrames\n",
    "    skaters = pl.concat(dfs, how=\"vertical\")\n",
    "    \n",
    "    # Sort by season and player\n",
    "    skaters = skaters.sort([\"season\", \"playerId\"])\n",
    "    \n",
    "    # Create output directory if it doesn't exist\n",
    "    os.makedirs(\"processed_data\", exist_ok=True)\n",
    "    \n",
    "    # Save to parquet\n",
    "    skaters.write_parquet(f'{skaters_path[:-13]}processed_data/skaters.parquet')\n",
    "    print(\"parquet file written to data/processed_data/skaters.parquet\")\n",
    "    \n",
    "    return skaters\n"
   ]
  },
  {
   "cell_type": "code",
   "execution_count": 7,
   "metadata": {},
   "outputs": [
    {
     "name": "stdout",
     "output_type": "stream",
     "text": [
      "Total unique columns found: 154\n"
     ]
    },
    {
     "name": "stderr",
     "output_type": "stream",
     "text": [
      "100%|██████████| 17/17 [00:28<00:00,  1.70s/it]\n"
     ]
    },
    {
     "name": "stdout",
     "output_type": "stream",
     "text": [
      "parquet file written to data/processed_data/skaters.parquet\n",
      "\n",
      "First few rows of processed data:\n",
      "shape: (5, 107)\n",
      "┌──────┬────────┬──────┬──────────────┬───┬──────────────┬─────────────┬─────────────┬─────────────┐\n",
      "│ team ┆ season ┆ name ┆ team_duplica ┆ … ┆ reboundxGoal ┆ totalShotCr ┆ scoreAdjust ┆ scoreFlurry │\n",
      "│ ---  ┆ ---    ┆ ---  ┆ ted_0        ┆   ┆ sAgainst     ┆ editAgainst ┆ edTotalShot ┆ AdjustedTot │\n",
      "│ str  ┆ i32    ┆ str  ┆ ---          ┆   ┆ ---          ┆ ---         ┆ CreditAg…   ┆ alShotCr…   │\n",
      "│      ┆        ┆      ┆ str          ┆   ┆ f64          ┆ f64         ┆ ---         ┆ ---         │\n",
      "│      ┆        ┆      ┆              ┆   ┆              ┆             ┆ f64         ┆ f64         │\n",
      "╞══════╪════════╪══════╪══════════════╪═══╪══════════════╪═════════════╪═════════════╪═════════════╡\n",
      "│ ANA  ┆ 2008   ┆ ANA  ┆ ANA          ┆ … ┆ 35.0         ┆ 219.8       ┆ 219.52      ┆ 212.32      │\n",
      "│ ANA  ┆ 2008   ┆ ANA  ┆ ANA          ┆ … ┆ 20.34        ┆ 124.43      ┆ 124.14      ┆ 122.46      │\n",
      "│ ANA  ┆ 2008   ┆ ANA  ┆ ANA          ┆ … ┆ 12.56        ┆ 63.45       ┆ 63.45       ┆ 59.65       │\n",
      "│ ANA  ┆ 2008   ┆ ANA  ┆ ANA          ┆ … ┆ 0.27         ┆ 4.63        ┆ 4.63        ┆ 4.51        │\n",
      "│ ANA  ┆ 2008   ┆ ANA  ┆ ANA          ┆ … ┆ 1.83         ┆ 27.3        ┆ 27.3        ┆ 25.7        │\n",
      "└──────┴────────┴──────┴──────────────┴───┴──────────────┴─────────────┴─────────────┴─────────────┘\n",
      "\n",
      "DataFrame schema:\n",
      "Schema([('team', String), ('season', Int32), ('name', String), ('team_duplicated_0', String), ('position', String), ('situation', String), ('games_played', Float64), ('xGoalsPercentage', Float64), ('corsiPercentage', Float64), ('fenwickPercentage', Float64), ('iceTime', Float64), ('xOnGoalFor', Float64), ('xGoalsFor', Float64), ('xReboundsFor', Float64), ('xFreezeFor', Float64), ('xPlayStoppedFor', Float64), ('xPlayContinuedInZoneFor', Float64), ('xPlayContinuedOutsideZoneFor', Float64), ('flurryAdjustedxGoalsFor', Float64), ('scoreVenueAdjustedxGoalsFor', Float64), ('flurryScoreVenueAdjustedxGoalsFor', Float64), ('shotsOnGoalFor', Float64), ('missedShotsFor', Float64), ('blockedShotAttemptsFor', Float64), ('shotAttemptsFor', Float64), ('goalsFor', Float64), ('reboundsFor', Float64), ('reboundGoalsFor', Float64), ('freezeFor', Float64), ('playStoppedFor', Float64), ('playContinuedInZoneFor', Float64), ('playContinuedOutsideZoneFor', Float64), ('savedShotsOnGoalFor', Float64), ('savedUnblockedShotAttemptsFor', Float64), ('penaltiesFor', Float64), ('penaltyMinutesFor', Float64), ('faceOffsWonFor', Float64), ('hitsFor', Float64), ('takeawaysFor', Float64), ('giveawaysFor', Float64), ('lowDangerShotsFor', Float64), ('mediumDangerShotsFor', Float64), ('highDangerShotsFor', Float64), ('lowDangerxGoalsFor', Float64), ('mediumDangerxGoalsFor', Float64), ('highDangerxGoalsFor', Float64), ('lowDangerGoalsFor', Float64), ('mediumDangerGoalsFor', Float64), ('highDangerGoalsFor', Float64), ('scoreAdjustedShotsAttemptsFor', Float64), ('unblockedShotAttemptsFor', Float64), ('scoreAdjustedUnblockedShotAttemptsFor', Float64), ('dZoneGiveawaysFor', Float64), ('xGoalsFromxReboundsOfShotsFor', Float64), ('xGoalsFromActualReboundsOfShotsFor', Float64), ('reboundxGoalsFor', Float64), ('totalShotCreditFor', Float64), ('scoreAdjustedTotalShotCreditFor', Float64), ('scoreFlurryAdjustedTotalShotCreditFor', Float64), ('xOnGoalAgainst', Float64), ('xGoalsAgainst', Float64), ('xReboundsAgainst', Float64), ('xFreezeAgainst', Float64), ('xPlayStoppedAgainst', Float64), ('xPlayContinuedInZoneAgainst', Float64), ('xPlayContinuedOutsideZoneAgainst', Float64), ('flurryAdjustedxGoalsAgainst', Float64), ('scoreVenueAdjustedxGoalsAgainst', Float64), ('flurryScoreVenueAdjustedxGoalsAgainst', Float64), ('shotsOnGoalAgainst', Float64), ('missedShotsAgainst', Float64), ('blockedShotAttemptsAgainst', Float64), ('shotAttemptsAgainst', Float64), ('goalsAgainst', Float64), ('reboundsAgainst', Float64), ('reboundGoalsAgainst', Float64), ('freezeAgainst', Float64), ('playStoppedAgainst', Float64), ('playContinuedInZoneAgainst', Float64), ('playContinuedOutsideZoneAgainst', Float64), ('savedShotsOnGoalAgainst', Float64), ('savedUnblockedShotAttemptsAgainst', Float64), ('penaltiesAgainst', Float64), ('penalityMinutesAgainst', Float64), ('faceOffsWonAgainst', Float64), ('hitsAgainst', Float64), ('takeawaysAgainst', Float64), ('giveawaysAgainst', Float64), ('lowDangerShotsAgainst', Float64), ('mediumDangerShotsAgainst', Float64), ('highDangerShotsAgainst', Float64), ('lowDangerxGoalsAgainst', Float64), ('mediumDangerxGoalsAgainst', Float64), ('highDangerxGoalsAgainst', Float64), ('lowDangerGoalsAgainst', Float64), ('mediumDangerGoalsAgainst', Float64), ('highDangerGoalsAgainst', Float64), ('scoreAdjustedShotsAttemptsAgainst', Float64), ('unblockedShotAttemptsAgainst', Float64), ('scoreAdjustedUnblockedShotAttemptsAgainst', Float64), ('dZoneGiveawaysAgainst', Float64), ('xGoalsFromxReboundsOfShotsAgainst', Float64), ('xGoalsFromActualReboundsOfShotsAgainst', Float64), ('reboundxGoalsAgainst', Float64), ('totalShotCreditAgainst', Float64), ('scoreAdjustedTotalShotCreditAgainst', Float64), ('scoreFlurryAdjustedTotalShotCreditAgainst', Float64)])\n",
      "\n",
      "Shape of final DataFrame:\n",
      "(2610, 107)\n"
     ]
    }
   ],
   "source": [
    "skaters = process_skaters_data(skaters_path)\n",
    "\n",
    "if skaters is not None:\n",
    "    print(\"\\nFirst few rows of processed data:\")\n",
    "    print(teams.head())\n",
    "    print(\"\\nDataFrame schema:\")\n",
    "    print(teams.schema)\n",
    "    print(\"\\nShape of final DataFrame:\")\n",
    "    print(teams.shape)"
   ]
  },
  {
   "cell_type": "markdown",
   "metadata": {},
   "source": [
    "### 1.c. Creating the Lines Data"
   ]
  },
  {
   "cell_type": "code",
   "execution_count": 8,
   "metadata": {},
   "outputs": [],
   "source": [
    "def process_lines_data(lines_path):\n",
    "    dfs = []  # store dfs here\n",
    "    \n",
    "    # First pass: collect schema information\n",
    "    all_columns = set()\n",
    "    for line_file in os.listdir(lines_path):\n",
    "        if not line_file.endswith('.csv'):\n",
    "            continue\n",
    "        df = pl.scan_csv(f\"{lines_path}/{line_file}\").collect()\n",
    "        all_columns.update(df.columns)\n",
    "    \n",
    "    print(f\"Total unique columns found: {len(all_columns)}\")\n",
    "    \n",
    "    # Second pass: load and standardize each file\n",
    "    for line_file in tqdm(os.listdir(lines_path)):\n",
    "        if not line_file.endswith('.csv'):\n",
    "            continue\n",
    "            \n",
    "        try:\n",
    "            # Extract season from filename\n",
    "            season = int(line_file.split('_')[1].split('.')[0])\n",
    "            \n",
    "            # Read CSV with more flexible schema handling\n",
    "            df = pl.scan_csv(f\"{lines_path}/{line_file}\").collect()\n",
    "            \n",
    "            # Add missing columns with null values\n",
    "            missing_cols = all_columns - set(df.columns)\n",
    "            for col in missing_cols:\n",
    "                df = df.with_columns(pl.lit(None).alias(col))\n",
    "            \n",
    "            # Add season column - Redundant but whatever\n",
    "            df = df.with_columns(pl.lit(season).alias('season'))\n",
    "            \n",
    "            # Cast all numeric cols to floats\n",
    "            for col in df.columns:\n",
    "                if df[col].dtype in [pl.Int64, pl.Float64]:\n",
    "                    df = df.with_columns(pl.col(col).cast(pl.Float64))\n",
    "                    \n",
    "            dfs.append(df)\n",
    "            \n",
    "        except Exception as e:\n",
    "            print(f\"Error processing {line_file}: {str(e)}\")\n",
    "    \n",
    "    if not dfs:\n",
    "        print(\"No valid line files were processed\")\n",
    "        return None\n",
    "        \n",
    "    # Combine all DataFrames\n",
    "    lines = pl.concat(dfs, how=\"vertical\")\n",
    "    \n",
    "    # Sort by season and line\n",
    "    lines = lines.sort([\"season\", \"lineId\"])\n",
    "    \n",
    "    # Create output directory if it doesn't exist\n",
    "    os.makedirs(\"processed_data\", exist_ok=True)\n",
    "    \n",
    "    # Save to parquet\n",
    "    lines.write_parquet(f'{lines_path[:-11]}processed_data/lines.parquet')\n",
    "    print(\"parquet file written to data/processed_data/lines.parquet\")\n",
    "    \n",
    "    return lines"
   ]
  },
  {
   "cell_type": "code",
   "execution_count": 9,
   "metadata": {},
   "outputs": [
    {
     "name": "stdout",
     "output_type": "stream",
     "text": [
      "Total unique columns found: 108\n"
     ]
    },
    {
     "name": "stderr",
     "output_type": "stream",
     "text": [
      "100%|██████████| 17/17 [00:13<00:00,  1.28it/s]\n"
     ]
    },
    {
     "name": "stdout",
     "output_type": "stream",
     "text": [
      "parquet file written to data/processed_data/lines.parquet\n",
      "\n",
      "First few rows of processed data:\n",
      "shape: (5, 107)\n",
      "┌──────┬────────┬──────┬──────────────┬───┬──────────────┬─────────────┬─────────────┬─────────────┐\n",
      "│ team ┆ season ┆ name ┆ team_duplica ┆ … ┆ reboundxGoal ┆ totalShotCr ┆ scoreAdjust ┆ scoreFlurry │\n",
      "│ ---  ┆ ---    ┆ ---  ┆ ted_0        ┆   ┆ sAgainst     ┆ editAgainst ┆ edTotalShot ┆ AdjustedTot │\n",
      "│ str  ┆ i32    ┆ str  ┆ ---          ┆   ┆ ---          ┆ ---         ┆ CreditAg…   ┆ alShotCr…   │\n",
      "│      ┆        ┆      ┆ str          ┆   ┆ f64          ┆ f64         ┆ ---         ┆ ---         │\n",
      "│      ┆        ┆      ┆              ┆   ┆              ┆             ┆ f64         ┆ f64         │\n",
      "╞══════╪════════╪══════╪══════════════╪═══╪══════════════╪═════════════╪═════════════╪═════════════╡\n",
      "│ ANA  ┆ 2008   ┆ ANA  ┆ ANA          ┆ … ┆ 35.0         ┆ 219.8       ┆ 219.52      ┆ 212.32      │\n",
      "│ ANA  ┆ 2008   ┆ ANA  ┆ ANA          ┆ … ┆ 20.34        ┆ 124.43      ┆ 124.14      ┆ 122.46      │\n",
      "│ ANA  ┆ 2008   ┆ ANA  ┆ ANA          ┆ … ┆ 12.56        ┆ 63.45       ┆ 63.45       ┆ 59.65       │\n",
      "│ ANA  ┆ 2008   ┆ ANA  ┆ ANA          ┆ … ┆ 0.27         ┆ 4.63        ┆ 4.63        ┆ 4.51        │\n",
      "│ ANA  ┆ 2008   ┆ ANA  ┆ ANA          ┆ … ┆ 1.83         ┆ 27.3        ┆ 27.3        ┆ 25.7        │\n",
      "└──────┴────────┴──────┴──────────────┴───┴──────────────┴─────────────┴─────────────┴─────────────┘\n",
      "\n",
      "DataFrame schema:\n",
      "Schema([('team', String), ('season', Int32), ('name', String), ('team_duplicated_0', String), ('position', String), ('situation', String), ('games_played', Float64), ('xGoalsPercentage', Float64), ('corsiPercentage', Float64), ('fenwickPercentage', Float64), ('iceTime', Float64), ('xOnGoalFor', Float64), ('xGoalsFor', Float64), ('xReboundsFor', Float64), ('xFreezeFor', Float64), ('xPlayStoppedFor', Float64), ('xPlayContinuedInZoneFor', Float64), ('xPlayContinuedOutsideZoneFor', Float64), ('flurryAdjustedxGoalsFor', Float64), ('scoreVenueAdjustedxGoalsFor', Float64), ('flurryScoreVenueAdjustedxGoalsFor', Float64), ('shotsOnGoalFor', Float64), ('missedShotsFor', Float64), ('blockedShotAttemptsFor', Float64), ('shotAttemptsFor', Float64), ('goalsFor', Float64), ('reboundsFor', Float64), ('reboundGoalsFor', Float64), ('freezeFor', Float64), ('playStoppedFor', Float64), ('playContinuedInZoneFor', Float64), ('playContinuedOutsideZoneFor', Float64), ('savedShotsOnGoalFor', Float64), ('savedUnblockedShotAttemptsFor', Float64), ('penaltiesFor', Float64), ('penaltyMinutesFor', Float64), ('faceOffsWonFor', Float64), ('hitsFor', Float64), ('takeawaysFor', Float64), ('giveawaysFor', Float64), ('lowDangerShotsFor', Float64), ('mediumDangerShotsFor', Float64), ('highDangerShotsFor', Float64), ('lowDangerxGoalsFor', Float64), ('mediumDangerxGoalsFor', Float64), ('highDangerxGoalsFor', Float64), ('lowDangerGoalsFor', Float64), ('mediumDangerGoalsFor', Float64), ('highDangerGoalsFor', Float64), ('scoreAdjustedShotsAttemptsFor', Float64), ('unblockedShotAttemptsFor', Float64), ('scoreAdjustedUnblockedShotAttemptsFor', Float64), ('dZoneGiveawaysFor', Float64), ('xGoalsFromxReboundsOfShotsFor', Float64), ('xGoalsFromActualReboundsOfShotsFor', Float64), ('reboundxGoalsFor', Float64), ('totalShotCreditFor', Float64), ('scoreAdjustedTotalShotCreditFor', Float64), ('scoreFlurryAdjustedTotalShotCreditFor', Float64), ('xOnGoalAgainst', Float64), ('xGoalsAgainst', Float64), ('xReboundsAgainst', Float64), ('xFreezeAgainst', Float64), ('xPlayStoppedAgainst', Float64), ('xPlayContinuedInZoneAgainst', Float64), ('xPlayContinuedOutsideZoneAgainst', Float64), ('flurryAdjustedxGoalsAgainst', Float64), ('scoreVenueAdjustedxGoalsAgainst', Float64), ('flurryScoreVenueAdjustedxGoalsAgainst', Float64), ('shotsOnGoalAgainst', Float64), ('missedShotsAgainst', Float64), ('blockedShotAttemptsAgainst', Float64), ('shotAttemptsAgainst', Float64), ('goalsAgainst', Float64), ('reboundsAgainst', Float64), ('reboundGoalsAgainst', Float64), ('freezeAgainst', Float64), ('playStoppedAgainst', Float64), ('playContinuedInZoneAgainst', Float64), ('playContinuedOutsideZoneAgainst', Float64), ('savedShotsOnGoalAgainst', Float64), ('savedUnblockedShotAttemptsAgainst', Float64), ('penaltiesAgainst', Float64), ('penalityMinutesAgainst', Float64), ('faceOffsWonAgainst', Float64), ('hitsAgainst', Float64), ('takeawaysAgainst', Float64), ('giveawaysAgainst', Float64), ('lowDangerShotsAgainst', Float64), ('mediumDangerShotsAgainst', Float64), ('highDangerShotsAgainst', Float64), ('lowDangerxGoalsAgainst', Float64), ('mediumDangerxGoalsAgainst', Float64), ('highDangerxGoalsAgainst', Float64), ('lowDangerGoalsAgainst', Float64), ('mediumDangerGoalsAgainst', Float64), ('highDangerGoalsAgainst', Float64), ('scoreAdjustedShotsAttemptsAgainst', Float64), ('unblockedShotAttemptsAgainst', Float64), ('scoreAdjustedUnblockedShotAttemptsAgainst', Float64), ('dZoneGiveawaysAgainst', Float64), ('xGoalsFromxReboundsOfShotsAgainst', Float64), ('xGoalsFromActualReboundsOfShotsAgainst', Float64), ('reboundxGoalsAgainst', Float64), ('totalShotCreditAgainst', Float64), ('scoreAdjustedTotalShotCreditAgainst', Float64), ('scoreFlurryAdjustedTotalShotCreditAgainst', Float64)])\n",
      "\n",
      "Shape of final DataFrame:\n",
      "(2610, 107)\n"
     ]
    }
   ],
   "source": [
    "lines = process_lines_data(lines_path)\n",
    "\n",
    "if lines is not None:\n",
    "    print(\"\\nFirst few rows of processed data:\")\n",
    "    print(teams.head())\n",
    "    print(\"\\nDataFrame schema:\")\n",
    "    print(teams.schema)\n",
    "    print(\"\\nShape of final DataFrame:\")\n",
    "    print(teams.shape)"
   ]
  },
  {
   "cell_type": "markdown",
   "metadata": {},
   "source": [
    "## 2. Shot Data\n",
    "\n",
    "To classify Clutch<sup>2</sup> goals, we need to read in data of all shots taken (again, from [Moneypuck](<>)). We will read in the shot data and add dates of the game each shot took place in. This will let us connect the shot's clutch-ness to the team's stats (like Corsi, Fenwick, etc.) at the time, providing a more accurate model than the season-level aggregation of those same statistics."
   ]
  },
  {
   "cell_type": "markdown",
   "metadata": {},
   "source": [
    "### 2.a. Combining 2007-2023 and 2024 Shot Data\n",
    "\n",
    "The complete shot dataset is only updated at season's end, so to account for this season, we need to concatenate the 2024 season's shots to the 2007-2023 dataset."
   ]
  },
  {
   "cell_type": "code",
   "execution_count": 10,
   "metadata": {},
   "outputs": [],
   "source": [
    "# Set filepaths+names\n",
    "historical_shots_file = '/Users/dB/Documents/repos/github/hockey-clutch2-model/data/shot_data/shots_2007-2023.csv'\n",
    "current_shots_file = '/Users/dB/Documents/repos/github/hockey-clutch2-model/data/shot_data/shots_2024.csv'\n",
    "\n",
    "# Get Historical and Current Shots\n",
    "historical_shots = pl.scan_csv(historical_shots_file).collect()\n",
    "current_shots = pl.scan_csv(current_shots_file).collect()\n",
    "\n",
    "# Cast all Numeric Variables to Floats\n",
    "for col in historical_shots.columns:\n",
    "                if historical_shots[col].dtype in [pl.Int64, pl.Float64]:\n",
    "                    historical_shots = historical_shots.with_columns(pl.col(col).cast(pl.Float64))\n",
    "\n",
    "for col in current_shots.columns:\n",
    "                if current_shots[col].dtype in [pl.Int64, pl.Float64]:\n",
    "                    current_shots = current_shots.with_columns(pl.col(col).cast(pl.Float64))"
   ]
  },
  {
   "cell_type": "markdown",
   "metadata": {},
   "source": [
    "I am borrowing this function from `shots-concat-cleaner.ipynb` in this repository. This will merge the current and historical shots:\n",
    "\n",
    "\n",
    "Compare two dataframes to check if they have the same columns, regardless of order.\n",
    "Returns a tuple containing:\n",
    "- Boolean indicating if columns match exactly\n",
    "- Set of columns in df1 but not in df2 (if any)\n",
    "- Set of columns in df2 but not in df1 (if any)\n",
    "    \n",
    "Parameters:\n",
    "df1 : pandas.DataFrame\n",
    "    First DataFrame to compare\n",
    "df2 : pandas.DataFrame\n",
    "    Second DataFrame to compare\n",
    "        \n",
    "Returns:\n",
    "\n",
    "tuple : (bool, set, set)\n",
    "- True if columns match exactly, False otherwise\n",
    "- Columns unique to df1\n",
    "- Columns unique to df2\n",
    "    \n",
    "Runtime Complexity: O(n) where n is the total number of columns\n",
    "Space Complexity: O(n) to store the column sets"
   ]
  },
  {
   "cell_type": "code",
   "execution_count": 11,
   "metadata": {},
   "outputs": [],
   "source": [
    "def compare_dataframe_columns(df1, df2):\n",
    "    # Convert column lists to sets for O(1) lookup time\n",
    "    cols1 = set(df1.columns)\n",
    "    cols2 = set(df2.columns)\n",
    "    \n",
    "    # Find columns unique to each DataFrame\n",
    "    cols_only_in_df1 = cols1 - cols2\n",
    "    cols_only_in_df2 = cols2 - cols1\n",
    "    \n",
    "    # Check if the columns match exactly\n",
    "    columns_match = len(cols_only_in_df1) == 0 and len(cols_only_in_df2) == 0\n",
    "    \n",
    "    return columns_match, cols_only_in_df1, cols_only_in_df2"
   ]
  },
  {
   "cell_type": "code",
   "execution_count": 12,
   "metadata": {},
   "outputs": [
    {
     "data": {
      "text/plain": [
       "(False,\n",
       " set(),\n",
       " {'homeTeamScore',\n",
       "  'homeWinProbability',\n",
       "  'shotGoalProbability',\n",
       "  'shotPlayContinued',\n",
       "  'timeBetweenEvents',\n",
       "  'timeLeft'})"
      ]
     },
     "execution_count": 12,
     "metadata": {},
     "output_type": "execute_result"
    }
   ],
   "source": [
    "compare_dataframe_columns(historical_shots, current_shots)"
   ]
  },
  {
   "cell_type": "code",
   "execution_count": 13,
   "metadata": {},
   "outputs": [],
   "source": [
    "def append_matching_columns(df1: pl.DataFrame, df2: pl.DataFrame) -> pl.DataFrame:\n",
    "    # Get columns that are common to both DataFrames\n",
    "    common_cols = [col for col in df1.columns if col in df2.columns]\n",
    "\n",
    "    # Select only matching columns from df2\n",
    "    df2_selected = df2.select(common_cols)\n",
    "\n",
    "    # Add missing columns with null values to df2 to align with df1\n",
    "    missing_cols = [col for col in df1.columns if col not in df2.columns]\n",
    "    df2_aligned = df2_selected.with_columns([pl.lit(None).alias(col) for col in missing_cols])\n",
    "\n",
    "    # Reorder df2 to match df1's column order\n",
    "    df2_reordered = df2_aligned.select(df1.columns)\n",
    "\n",
    "    # Concatenate the two DataFrames\n",
    "    combined_df = pl.concat([df1, df2_reordered], how=\"vertical\")\n",
    "\n",
    "    return combined_df\n"
   ]
  },
  {
   "cell_type": "code",
   "execution_count": 14,
   "metadata": {},
   "outputs": [],
   "source": [
    "shots = append_matching_columns(historical_shots, current_shots)"
   ]
  },
  {
   "cell_type": "code",
   "execution_count": 15,
   "metadata": {},
   "outputs": [
    {
     "data": {
      "text/html": [
       "<div><style>\n",
       ".dataframe > thead > tr,\n",
       ".dataframe > tbody > tr {\n",
       "  text-align: right;\n",
       "  white-space: pre-wrap;\n",
       "}\n",
       "</style>\n",
       "<small>shape: (5, 124)</small><table border=\"1\" class=\"dataframe\"><thead><tr><th>shotID</th><th>homeTeamCode</th><th>awayTeamCode</th><th>season</th><th>isPlayoffGame</th><th>game_id</th><th>homeTeamWon</th><th>id</th><th>time</th><th>timeUntilNextEvent</th><th>timeSinceLastEvent</th><th>period</th><th>team</th><th>location</th><th>event</th><th>goal</th><th>shotPlayContinuedOutsideZone</th><th>shotPlayContinuedInZone</th><th>shotGoalieFroze</th><th>shotPlayStopped</th><th>shotGeneratedRebound</th><th>homeTeamGoals</th><th>awayTeamGoals</th><th>xCord</th><th>yCord</th><th>xCordAdjusted</th><th>yCordAdjusted</th><th>shotAngle</th><th>shotAngleAdjusted</th><th>shotAnglePlusRebound</th><th>shotAngleReboundRoyalRoad</th><th>shotDistance</th><th>shotType</th><th>shotOnEmptyNet</th><th>shotRebound</th><th>shotAnglePlusReboundSpeed</th><th>shotRush</th><th>&hellip;</th><th>defendingTeamDefencemenOnIce</th><th>defendingTeamAverageTimeOnIce</th><th>defendingTeamAverageTimeOnIceOfForwards</th><th>defendingTeamAverageTimeOnIceOfDefencemen</th><th>defendingTeamMaxTimeOnIce</th><th>defendingTeamMaxTimeOnIceOfForwards</th><th>defendingTeamMaxTimeOnIceOfDefencemen</th><th>defendingTeamMinTimeOnIce</th><th>defendingTeamMinTimeOnIceOfForwards</th><th>defendingTeamMinTimeOnIceOfDefencemen</th><th>defendingTeamAverageTimeOnIceSinceFaceoff</th><th>defendingTeamAverageTimeOnIceOfForwardsSinceFaceoff</th><th>defendingTeamAverageTimeOnIceOfDefencemenSinceFaceoff</th><th>defendingTeamMaxTimeOnIceSinceFaceoff</th><th>defendingTeamMaxTimeOnIceOfForwardsSinceFaceoff</th><th>defendingTeamMaxTimeOnIceOfDefencemenSinceFaceoff</th><th>defendingTeamMinTimeOnIceSinceFaceoff</th><th>defendingTeamMinTimeOnIceOfForwardsSinceFaceoff</th><th>defendingTeamMinTimeOnIceOfDefencemenSinceFaceoff</th><th>offWing</th><th>arenaAdjustedShotDistance</th><th>arenaAdjustedXCord</th><th>arenaAdjustedYCord</th><th>arenaAdjustedYCordAbs</th><th>timeDifferenceSinceChange</th><th>averageRestDifference</th><th>xGoal</th><th>xFroze</th><th>xRebound</th><th>xPlayContinuedInZone</th><th>xPlayContinuedOutsideZone</th><th>xPlayStopped</th><th>xShotWasOnGoal</th><th>isHomeTeam</th><th>shotWasOnGoal</th><th>teamCode</th><th>arenaAdjustedXCordABS</th></tr><tr><td>f64</td><td>str</td><td>str</td><td>f64</td><td>f64</td><td>f64</td><td>f64</td><td>f64</td><td>f64</td><td>f64</td><td>f64</td><td>f64</td><td>str</td><td>str</td><td>str</td><td>f64</td><td>f64</td><td>f64</td><td>f64</td><td>f64</td><td>f64</td><td>f64</td><td>f64</td><td>f64</td><td>f64</td><td>f64</td><td>f64</td><td>f64</td><td>f64</td><td>f64</td><td>f64</td><td>f64</td><td>str</td><td>f64</td><td>f64</td><td>f64</td><td>f64</td><td>&hellip;</td><td>f64</td><td>f64</td><td>f64</td><td>f64</td><td>f64</td><td>f64</td><td>f64</td><td>f64</td><td>f64</td><td>f64</td><td>f64</td><td>f64</td><td>f64</td><td>f64</td><td>f64</td><td>f64</td><td>f64</td><td>f64</td><td>f64</td><td>f64</td><td>f64</td><td>f64</td><td>f64</td><td>f64</td><td>f64</td><td>f64</td><td>f64</td><td>f64</td><td>f64</td><td>f64</td><td>f64</td><td>f64</td><td>f64</td><td>f64</td><td>f64</td><td>str</td><td>f64</td></tr></thead><tbody><tr><td>0.0</td><td>&quot;TBL&quot;</td><td>&quot;NSH&quot;</td><td>2023.0</td><td>0.0</td><td>20001.0</td><td>1.0</td><td>10.0</td><td>61.0</td><td>9.0</td><td>3.0</td><td>1.0</td><td>&quot;HOME&quot;</td><td>&quot;AWAYZONE&quot;</td><td>&quot;SHOT&quot;</td><td>0.0</td><td>0.0</td><td>1.0</td><td>0.0</td><td>0.0</td><td>0.0</td><td>0.0</td><td>0.0</td><td>59.0</td><td>-26.0</td><td>59.0</td><td>-26.0</td><td>-40.914383</td><td>40.914383</td><td>0.0</td><td>0.0</td><td>39.698866</td><td>&quot;WRIST&quot;</td><td>0.0</td><td>0.0</td><td>0.0</td><td>0.0</td><td>&hellip;</td><td>2.0</td><td>30.0</td><td>28.666667</td><td>32.0</td><td>33.0</td><td>31.0</td><td>33.0</td><td>26.0</td><td>26.0</td><td>31.0</td><td>26.0</td><td>26.0</td><td>26.0</td><td>26.0</td><td>26.0</td><td>26.0</td><td>26.0</td><td>26.0</td><td>26.0</td><td>0.0</td><td>39.698866</td><td>59.0</td><td>-26.0</td><td>26.0</td><td>-6.0</td><td>-3.4</td><td>0.035813</td><td>0.249174</td><td>0.035816</td><td>0.37931</td><td>0.277143</td><td>0.0227439</td><td>0.75132</td><td>1.0</td><td>1.0</td><td>&quot;TBL&quot;</td><td>59.0</td></tr><tr><td>1.0</td><td>&quot;TBL&quot;</td><td>&quot;NSH&quot;</td><td>2023.0</td><td>0.0</td><td>20001.0</td><td>1.0</td><td>11.0</td><td>70.0</td><td>26.0</td><td>9.0</td><td>1.0</td><td>&quot;HOME&quot;</td><td>&quot;AWAYZONE&quot;</td><td>&quot;SHOT&quot;</td><td>0.0</td><td>1.0</td><td>0.0</td><td>0.0</td><td>0.0</td><td>0.0</td><td>0.0</td><td>0.0</td><td>81.0</td><td>8.0</td><td>81.0</td><td>8.0</td><td>45.0</td><td>45.0</td><td>85.914383</td><td>1.0</td><td>11.313708</td><td>&quot;TIP&quot;</td><td>0.0</td><td>0.0</td><td>9.546043</td><td>0.0</td><td>&hellip;</td><td>2.0</td><td>39.0</td><td>37.666667</td><td>41.0</td><td>42.0</td><td>40.0</td><td>42.0</td><td>35.0</td><td>35.0</td><td>40.0</td><td>35.0</td><td>35.0</td><td>35.0</td><td>35.0</td><td>35.0</td><td>35.0</td><td>35.0</td><td>35.0</td><td>35.0</td><td>1.0</td><td>11.313708</td><td>81.0</td><td>8.0</td><td>8.0</td><td>-6.0</td><td>-3.4</td><td>0.057705</td><td>0.107945</td><td>0.051285</td><td>0.464358</td><td>0.298119</td><td>0.020588</td><td>0.589712</td><td>1.0</td><td>1.0</td><td>&quot;TBL&quot;</td><td>81.0</td></tr><tr><td>2.0</td><td>&quot;TBL&quot;</td><td>&quot;NSH&quot;</td><td>2023.0</td><td>0.0</td><td>20001.0</td><td>1.0</td><td>13.0</td><td>107.0</td><td>2.0</td><td>11.0</td><td>1.0</td><td>&quot;HOME&quot;</td><td>&quot;AWAYZONE&quot;</td><td>&quot;SHOT&quot;</td><td>0.0</td><td>0.0</td><td>1.0</td><td>0.0</td><td>0.0</td><td>0.0</td><td>0.0</td><td>0.0</td><td>55.0</td><td>30.0</td><td>55.0</td><td>30.0</td><td>41.423666</td><td>41.423666</td><td>0.0</td><td>0.0</td><td>45.343136</td><td>&quot;SNAP&quot;</td><td>0.0</td><td>0.0</td><td>0.0</td><td>0.0</td><td>&hellip;</td><td>2.0</td><td>23.8</td><td>22.333333</td><td>26.0</td><td>26.0</td><td>25.0</td><td>26.0</td><td>19.0</td><td>19.0</td><td>26.0</td><td>23.8</td><td>22.333333</td><td>26.0</td><td>26.0</td><td>25.0</td><td>26.0</td><td>19.0</td><td>19.0</td><td>26.0</td><td>0.0</td><td>45.343136</td><td>55.0</td><td>30.0</td><td>30.0</td><td>0.0</td><td>-3.8</td><td>0.016126</td><td>0.236193</td><td>0.030269</td><td>0.390417</td><td>0.301375</td><td>0.02562</td><td>0.785765</td><td>1.0</td><td>1.0</td><td>&quot;TBL&quot;</td><td>55.0</td></tr><tr><td>3.0</td><td>&quot;TBL&quot;</td><td>&quot;NSH&quot;</td><td>2023.0</td><td>0.0</td><td>20001.0</td><td>1.0</td><td>19.0</td><td>177.0</td><td>35.0</td><td>32.0</td><td>1.0</td><td>&quot;HOME&quot;</td><td>&quot;AWAYZONE&quot;</td><td>&quot;SHOT&quot;</td><td>0.0</td><td>1.0</td><td>0.0</td><td>0.0</td><td>0.0</td><td>0.0</td><td>0.0</td><td>0.0</td><td>58.0</td><td>-30.0</td><td>58.0</td><td>-30.0</td><td>-44.060809</td><td>44.060809</td><td>0.0</td><td>0.0</td><td>43.139309</td><td>&quot;WRIST&quot;</td><td>0.0</td><td>0.0</td><td>0.0</td><td>0.0</td><td>&hellip;</td><td>2.0</td><td>40.0</td><td>36.666667</td><td>45.0</td><td>47.0</td><td>47.0</td><td>46.0</td><td>26.0</td><td>26.0</td><td>44.0</td><td>40.0</td><td>36.666667</td><td>45.0</td><td>47.0</td><td>47.0</td><td>46.0</td><td>26.0</td><td>26.0</td><td>44.0</td><td>1.0</td><td>43.139309</td><td>58.0</td><td>-30.0</td><td>30.0</td><td>2.0</td><td>-3.4</td><td>0.0167967</td><td>0.198635</td><td>0.0336855</td><td>0.438052</td><td>0.291724</td><td>0.021107</td><td>0.724471</td><td>1.0</td><td>1.0</td><td>&quot;TBL&quot;</td><td>58.0</td></tr><tr><td>4.0</td><td>&quot;TBL&quot;</td><td>&quot;NSH&quot;</td><td>2023.0</td><td>0.0</td><td>20001.0</td><td>1.0</td><td>21.0</td><td>231.0</td><td>29.0</td><td>19.0</td><td>1.0</td><td>&quot;AWAY&quot;</td><td>&quot;HOMEZONE&quot;</td><td>&quot;MISS&quot;</td><td>0.0</td><td>1.0</td><td>0.0</td><td>0.0</td><td>0.0</td><td>0.0</td><td>0.0</td><td>0.0</td><td>-64.0</td><td>34.0</td><td>64.0</td><td>-34.0</td><td>-53.673174</td><td>53.673174</td><td>0.0</td><td>0.0</td><td>42.201896</td><td>&quot;WRIST&quot;</td><td>0.0</td><td>0.0</td><td>0.0</td><td>0.0</td><td>&hellip;</td><td>2.0</td><td>44.4</td><td>47.0</td><td>40.5</td><td>48.0</td><td>48.0</td><td>44.0</td><td>37.0</td><td>46.0</td><td>37.0</td><td>44.4</td><td>47.0</td><td>40.5</td><td>48.0</td><td>48.0</td><td>44.0</td><td>37.0</td><td>46.0</td><td>37.0</td><td>0.0</td><td>42.201896</td><td>-64.0</td><td>34.0</td><td>34.0</td><td>-36.0</td><td>-15.0</td><td>0.008709</td><td>0.188582</td><td>0.0271462</td><td>0.406288</td><td>0.349752</td><td>0.0195234</td><td>0.727481</td><td>0.0</td><td>0.0</td><td>&quot;NSH&quot;</td><td>64.0</td></tr></tbody></table></div>"
      ],
      "text/plain": [
       "shape: (5, 124)\n",
       "┌────────┬─────────────┬────────────┬────────┬───┬────────────┬────────────┬──────────┬────────────┐\n",
       "│ shotID ┆ homeTeamCod ┆ awayTeamCo ┆ season ┆ … ┆ isHomeTeam ┆ shotWasOnG ┆ teamCode ┆ arenaAdjus │\n",
       "│ ---    ┆ e           ┆ de         ┆ ---    ┆   ┆ ---        ┆ oal        ┆ ---      ┆ tedXCordAB │\n",
       "│ f64    ┆ ---         ┆ ---        ┆ f64    ┆   ┆ f64        ┆ ---        ┆ str      ┆ S          │\n",
       "│        ┆ str         ┆ str        ┆        ┆   ┆            ┆ f64        ┆          ┆ ---        │\n",
       "│        ┆             ┆            ┆        ┆   ┆            ┆            ┆          ┆ f64        │\n",
       "╞════════╪═════════════╪════════════╪════════╪═══╪════════════╪════════════╪══════════╪════════════╡\n",
       "│ 0.0    ┆ TBL         ┆ NSH        ┆ 2023.0 ┆ … ┆ 1.0        ┆ 1.0        ┆ TBL      ┆ 59.0       │\n",
       "│ 1.0    ┆ TBL         ┆ NSH        ┆ 2023.0 ┆ … ┆ 1.0        ┆ 1.0        ┆ TBL      ┆ 81.0       │\n",
       "│ 2.0    ┆ TBL         ┆ NSH        ┆ 2023.0 ┆ … ┆ 1.0        ┆ 1.0        ┆ TBL      ┆ 55.0       │\n",
       "│ 3.0    ┆ TBL         ┆ NSH        ┆ 2023.0 ┆ … ┆ 1.0        ┆ 1.0        ┆ TBL      ┆ 58.0       │\n",
       "│ 4.0    ┆ TBL         ┆ NSH        ┆ 2023.0 ┆ … ┆ 0.0        ┆ 0.0        ┆ NSH      ┆ 64.0       │\n",
       "└────────┴─────────────┴────────────┴────────┴───┴────────────┴────────────┴──────────┴────────────┘"
      ]
     },
     "execution_count": 15,
     "metadata": {},
     "output_type": "execute_result"
    }
   ],
   "source": [
    "shots.head()"
   ]
  },
  {
   "cell_type": "markdown",
   "metadata": {},
   "source": [
    "Now that we have a concatenated shots DataFrame, we need to assign a custom game ID to each game. Moneypuck's datasets reset each season so the first `game_id` in each dataset is 20001. We first need to cast `season` and `game_id` back to ints, then merge the numbers into one big ID, `composite_game_id`.\n",
    "\n",
    "These had to be broken into 2 cells for some reason idk"
   ]
  },
  {
   "cell_type": "code",
   "execution_count": 16,
   "metadata": {},
   "outputs": [],
   "source": [
    "shots = shots.with_columns(\n",
    "    pl.when(pl.col(\"game_id\").cast(pl.Int64) < 100000)\n",
    "    .then((pl.col(\"season\").cast(pl.Int64) * 10**6 + pl.col(\"game_id\").cast(pl.Int64) + 10**5))\n",
    "    .otherwise((pl.col(\"season\").cast(pl.Int64) * 10**6 + pl.col(\"game_id\").cast(pl.Int64)))\n",
    "    .alias(\"composite_game_id\")\n",
    ")\n",
    "\n",
    "shots = shots.with_columns(\n",
    "    [\n",
    "        pl.col(\"season\").cast(pl.Int64),\n",
    "        pl.col(\"game_id\").cast(pl.Int64)\n",
    "    ]\n",
    ")"
   ]
  },
  {
   "cell_type": "code",
   "execution_count": 17,
   "metadata": {},
   "outputs": [
    {
     "data": {
      "text/html": [
       "<div><style>\n",
       ".dataframe > thead > tr,\n",
       ".dataframe > tbody > tr {\n",
       "  text-align: right;\n",
       "  white-space: pre-wrap;\n",
       "}\n",
       "</style>\n",
       "<small>shape: (1_888_892, 125)</small><table border=\"1\" class=\"dataframe\"><thead><tr><th>shotID</th><th>homeTeamCode</th><th>awayTeamCode</th><th>season</th><th>isPlayoffGame</th><th>game_id</th><th>homeTeamWon</th><th>id</th><th>time</th><th>timeUntilNextEvent</th><th>timeSinceLastEvent</th><th>period</th><th>team</th><th>location</th><th>event</th><th>goal</th><th>shotPlayContinuedOutsideZone</th><th>shotPlayContinuedInZone</th><th>shotGoalieFroze</th><th>shotPlayStopped</th><th>shotGeneratedRebound</th><th>homeTeamGoals</th><th>awayTeamGoals</th><th>xCord</th><th>yCord</th><th>xCordAdjusted</th><th>yCordAdjusted</th><th>shotAngle</th><th>shotAngleAdjusted</th><th>shotAnglePlusRebound</th><th>shotAngleReboundRoyalRoad</th><th>shotDistance</th><th>shotType</th><th>shotOnEmptyNet</th><th>shotRebound</th><th>shotAnglePlusReboundSpeed</th><th>shotRush</th><th>&hellip;</th><th>defendingTeamAverageTimeOnIce</th><th>defendingTeamAverageTimeOnIceOfForwards</th><th>defendingTeamAverageTimeOnIceOfDefencemen</th><th>defendingTeamMaxTimeOnIce</th><th>defendingTeamMaxTimeOnIceOfForwards</th><th>defendingTeamMaxTimeOnIceOfDefencemen</th><th>defendingTeamMinTimeOnIce</th><th>defendingTeamMinTimeOnIceOfForwards</th><th>defendingTeamMinTimeOnIceOfDefencemen</th><th>defendingTeamAverageTimeOnIceSinceFaceoff</th><th>defendingTeamAverageTimeOnIceOfForwardsSinceFaceoff</th><th>defendingTeamAverageTimeOnIceOfDefencemenSinceFaceoff</th><th>defendingTeamMaxTimeOnIceSinceFaceoff</th><th>defendingTeamMaxTimeOnIceOfForwardsSinceFaceoff</th><th>defendingTeamMaxTimeOnIceOfDefencemenSinceFaceoff</th><th>defendingTeamMinTimeOnIceSinceFaceoff</th><th>defendingTeamMinTimeOnIceOfForwardsSinceFaceoff</th><th>defendingTeamMinTimeOnIceOfDefencemenSinceFaceoff</th><th>offWing</th><th>arenaAdjustedShotDistance</th><th>arenaAdjustedXCord</th><th>arenaAdjustedYCord</th><th>arenaAdjustedYCordAbs</th><th>timeDifferenceSinceChange</th><th>averageRestDifference</th><th>xGoal</th><th>xFroze</th><th>xRebound</th><th>xPlayContinuedInZone</th><th>xPlayContinuedOutsideZone</th><th>xPlayStopped</th><th>xShotWasOnGoal</th><th>isHomeTeam</th><th>shotWasOnGoal</th><th>teamCode</th><th>arenaAdjustedXCordABS</th><th>composite_game_id</th></tr><tr><td>f64</td><td>str</td><td>str</td><td>i64</td><td>f64</td><td>i64</td><td>f64</td><td>f64</td><td>f64</td><td>f64</td><td>f64</td><td>f64</td><td>str</td><td>str</td><td>str</td><td>f64</td><td>f64</td><td>f64</td><td>f64</td><td>f64</td><td>f64</td><td>f64</td><td>f64</td><td>f64</td><td>f64</td><td>f64</td><td>f64</td><td>f64</td><td>f64</td><td>f64</td><td>f64</td><td>f64</td><td>str</td><td>f64</td><td>f64</td><td>f64</td><td>f64</td><td>&hellip;</td><td>f64</td><td>f64</td><td>f64</td><td>f64</td><td>f64</td><td>f64</td><td>f64</td><td>f64</td><td>f64</td><td>f64</td><td>f64</td><td>f64</td><td>f64</td><td>f64</td><td>f64</td><td>f64</td><td>f64</td><td>f64</td><td>f64</td><td>f64</td><td>f64</td><td>f64</td><td>f64</td><td>f64</td><td>f64</td><td>f64</td><td>f64</td><td>f64</td><td>f64</td><td>f64</td><td>f64</td><td>f64</td><td>f64</td><td>f64</td><td>str</td><td>f64</td><td>i64</td></tr></thead><tbody><tr><td>0.0</td><td>&quot;TBL&quot;</td><td>&quot;NSH&quot;</td><td>2023</td><td>0.0</td><td>20001</td><td>1.0</td><td>10.0</td><td>61.0</td><td>9.0</td><td>3.0</td><td>1.0</td><td>&quot;HOME&quot;</td><td>&quot;AWAYZONE&quot;</td><td>&quot;SHOT&quot;</td><td>0.0</td><td>0.0</td><td>1.0</td><td>0.0</td><td>0.0</td><td>0.0</td><td>0.0</td><td>0.0</td><td>59.0</td><td>-26.0</td><td>59.0</td><td>-26.0</td><td>-40.914383</td><td>40.914383</td><td>0.0</td><td>0.0</td><td>39.698866</td><td>&quot;WRIST&quot;</td><td>0.0</td><td>0.0</td><td>0.0</td><td>0.0</td><td>&hellip;</td><td>30.0</td><td>28.666667</td><td>32.0</td><td>33.0</td><td>31.0</td><td>33.0</td><td>26.0</td><td>26.0</td><td>31.0</td><td>26.0</td><td>26.0</td><td>26.0</td><td>26.0</td><td>26.0</td><td>26.0</td><td>26.0</td><td>26.0</td><td>26.0</td><td>0.0</td><td>39.698866</td><td>59.0</td><td>-26.0</td><td>26.0</td><td>-6.0</td><td>-3.4</td><td>0.035813</td><td>0.249174</td><td>0.035816</td><td>0.37931</td><td>0.277143</td><td>0.0227439</td><td>0.75132</td><td>1.0</td><td>1.0</td><td>&quot;TBL&quot;</td><td>59.0</td><td>2023120001</td></tr><tr><td>1.0</td><td>&quot;TBL&quot;</td><td>&quot;NSH&quot;</td><td>2023</td><td>0.0</td><td>20001</td><td>1.0</td><td>11.0</td><td>70.0</td><td>26.0</td><td>9.0</td><td>1.0</td><td>&quot;HOME&quot;</td><td>&quot;AWAYZONE&quot;</td><td>&quot;SHOT&quot;</td><td>0.0</td><td>1.0</td><td>0.0</td><td>0.0</td><td>0.0</td><td>0.0</td><td>0.0</td><td>0.0</td><td>81.0</td><td>8.0</td><td>81.0</td><td>8.0</td><td>45.0</td><td>45.0</td><td>85.914383</td><td>1.0</td><td>11.313708</td><td>&quot;TIP&quot;</td><td>0.0</td><td>0.0</td><td>9.546043</td><td>0.0</td><td>&hellip;</td><td>39.0</td><td>37.666667</td><td>41.0</td><td>42.0</td><td>40.0</td><td>42.0</td><td>35.0</td><td>35.0</td><td>40.0</td><td>35.0</td><td>35.0</td><td>35.0</td><td>35.0</td><td>35.0</td><td>35.0</td><td>35.0</td><td>35.0</td><td>35.0</td><td>1.0</td><td>11.313708</td><td>81.0</td><td>8.0</td><td>8.0</td><td>-6.0</td><td>-3.4</td><td>0.057705</td><td>0.107945</td><td>0.051285</td><td>0.464358</td><td>0.298119</td><td>0.020588</td><td>0.589712</td><td>1.0</td><td>1.0</td><td>&quot;TBL&quot;</td><td>81.0</td><td>2023120001</td></tr><tr><td>2.0</td><td>&quot;TBL&quot;</td><td>&quot;NSH&quot;</td><td>2023</td><td>0.0</td><td>20001</td><td>1.0</td><td>13.0</td><td>107.0</td><td>2.0</td><td>11.0</td><td>1.0</td><td>&quot;HOME&quot;</td><td>&quot;AWAYZONE&quot;</td><td>&quot;SHOT&quot;</td><td>0.0</td><td>0.0</td><td>1.0</td><td>0.0</td><td>0.0</td><td>0.0</td><td>0.0</td><td>0.0</td><td>55.0</td><td>30.0</td><td>55.0</td><td>30.0</td><td>41.423666</td><td>41.423666</td><td>0.0</td><td>0.0</td><td>45.343136</td><td>&quot;SNAP&quot;</td><td>0.0</td><td>0.0</td><td>0.0</td><td>0.0</td><td>&hellip;</td><td>23.8</td><td>22.333333</td><td>26.0</td><td>26.0</td><td>25.0</td><td>26.0</td><td>19.0</td><td>19.0</td><td>26.0</td><td>23.8</td><td>22.333333</td><td>26.0</td><td>26.0</td><td>25.0</td><td>26.0</td><td>19.0</td><td>19.0</td><td>26.0</td><td>0.0</td><td>45.343136</td><td>55.0</td><td>30.0</td><td>30.0</td><td>0.0</td><td>-3.8</td><td>0.016126</td><td>0.236193</td><td>0.030269</td><td>0.390417</td><td>0.301375</td><td>0.02562</td><td>0.785765</td><td>1.0</td><td>1.0</td><td>&quot;TBL&quot;</td><td>55.0</td><td>2023120001</td></tr><tr><td>3.0</td><td>&quot;TBL&quot;</td><td>&quot;NSH&quot;</td><td>2023</td><td>0.0</td><td>20001</td><td>1.0</td><td>19.0</td><td>177.0</td><td>35.0</td><td>32.0</td><td>1.0</td><td>&quot;HOME&quot;</td><td>&quot;AWAYZONE&quot;</td><td>&quot;SHOT&quot;</td><td>0.0</td><td>1.0</td><td>0.0</td><td>0.0</td><td>0.0</td><td>0.0</td><td>0.0</td><td>0.0</td><td>58.0</td><td>-30.0</td><td>58.0</td><td>-30.0</td><td>-44.060809</td><td>44.060809</td><td>0.0</td><td>0.0</td><td>43.139309</td><td>&quot;WRIST&quot;</td><td>0.0</td><td>0.0</td><td>0.0</td><td>0.0</td><td>&hellip;</td><td>40.0</td><td>36.666667</td><td>45.0</td><td>47.0</td><td>47.0</td><td>46.0</td><td>26.0</td><td>26.0</td><td>44.0</td><td>40.0</td><td>36.666667</td><td>45.0</td><td>47.0</td><td>47.0</td><td>46.0</td><td>26.0</td><td>26.0</td><td>44.0</td><td>1.0</td><td>43.139309</td><td>58.0</td><td>-30.0</td><td>30.0</td><td>2.0</td><td>-3.4</td><td>0.0167967</td><td>0.198635</td><td>0.0336855</td><td>0.438052</td><td>0.291724</td><td>0.021107</td><td>0.724471</td><td>1.0</td><td>1.0</td><td>&quot;TBL&quot;</td><td>58.0</td><td>2023120001</td></tr><tr><td>4.0</td><td>&quot;TBL&quot;</td><td>&quot;NSH&quot;</td><td>2023</td><td>0.0</td><td>20001</td><td>1.0</td><td>21.0</td><td>231.0</td><td>29.0</td><td>19.0</td><td>1.0</td><td>&quot;AWAY&quot;</td><td>&quot;HOMEZONE&quot;</td><td>&quot;MISS&quot;</td><td>0.0</td><td>1.0</td><td>0.0</td><td>0.0</td><td>0.0</td><td>0.0</td><td>0.0</td><td>0.0</td><td>-64.0</td><td>34.0</td><td>64.0</td><td>-34.0</td><td>-53.673174</td><td>53.673174</td><td>0.0</td><td>0.0</td><td>42.201896</td><td>&quot;WRIST&quot;</td><td>0.0</td><td>0.0</td><td>0.0</td><td>0.0</td><td>&hellip;</td><td>44.4</td><td>47.0</td><td>40.5</td><td>48.0</td><td>48.0</td><td>44.0</td><td>37.0</td><td>46.0</td><td>37.0</td><td>44.4</td><td>47.0</td><td>40.5</td><td>48.0</td><td>48.0</td><td>44.0</td><td>37.0</td><td>46.0</td><td>37.0</td><td>0.0</td><td>42.201896</td><td>-64.0</td><td>34.0</td><td>34.0</td><td>-36.0</td><td>-15.0</td><td>0.008709</td><td>0.188582</td><td>0.0271462</td><td>0.406288</td><td>0.349752</td><td>0.0195234</td><td>0.727481</td><td>0.0</td><td>0.0</td><td>&quot;NSH&quot;</td><td>64.0</td><td>2023120001</td></tr><tr><td>&hellip;</td><td>&hellip;</td><td>&hellip;</td><td>&hellip;</td><td>&hellip;</td><td>&hellip;</td><td>&hellip;</td><td>&hellip;</td><td>&hellip;</td><td>&hellip;</td><td>&hellip;</td><td>&hellip;</td><td>&hellip;</td><td>&hellip;</td><td>&hellip;</td><td>&hellip;</td><td>&hellip;</td><td>&hellip;</td><td>&hellip;</td><td>&hellip;</td><td>&hellip;</td><td>&hellip;</td><td>&hellip;</td><td>&hellip;</td><td>&hellip;</td><td>&hellip;</td><td>&hellip;</td><td>&hellip;</td><td>&hellip;</td><td>&hellip;</td><td>&hellip;</td><td>&hellip;</td><td>&hellip;</td><td>&hellip;</td><td>&hellip;</td><td>&hellip;</td><td>&hellip;</td><td>&hellip;</td><td>&hellip;</td><td>&hellip;</td><td>&hellip;</td><td>&hellip;</td><td>&hellip;</td><td>&hellip;</td><td>&hellip;</td><td>&hellip;</td><td>&hellip;</td><td>&hellip;</td><td>&hellip;</td><td>&hellip;</td><td>&hellip;</td><td>&hellip;</td><td>&hellip;</td><td>&hellip;</td><td>&hellip;</td><td>&hellip;</td><td>&hellip;</td><td>&hellip;</td><td>&hellip;</td><td>&hellip;</td><td>&hellip;</td><td>&hellip;</td><td>&hellip;</td><td>&hellip;</td><td>&hellip;</td><td>&hellip;</td><td>&hellip;</td><td>&hellip;</td><td>&hellip;</td><td>&hellip;</td><td>&hellip;</td><td>&hellip;</td><td>&hellip;</td><td>&hellip;</td><td>&hellip;</td></tr><tr><td>961.0</td><td>&quot;SJS&quot;</td><td>&quot;CGY&quot;</td><td>2024</td><td>0.0</td><td>20576</td><td>0.0</td><td>307.0</td><td>3540.0</td><td>1.0</td><td>11.0</td><td>3.0</td><td>&quot;HOME&quot;</td><td>&quot;AWAYZONE&quot;</td><td>&quot;SHOT&quot;</td><td>0.0</td><td>0.0</td><td>0.0</td><td>0.0</td><td>0.0</td><td>1.0</td><td>1.0</td><td>2.0</td><td>51.0</td><td>27.0</td><td>51.0</td><td>27.0</td><td>35.394796</td><td>35.394796</td><td>0.0</td><td>0.0</td><td>46.615448</td><td>&quot;WRIST&quot;</td><td>0.0</td><td>0.0</td><td>0.0</td><td>0.0</td><td>&hellip;</td><td>101.0</td><td>101.0</td><td>101.0</td><td>101.0</td><td>101.0</td><td>101.0</td><td>101.0</td><td>101.0</td><td>101.0</td><td>14.0</td><td>14.0</td><td>14.0</td><td>14.0</td><td>14.0</td><td>14.0</td><td>14.0</td><td>14.0</td><td>14.0</td><td>0.0</td><td>46.615448</td><td>51.0</td><td>27.0</td><td>27.0</td><td>0.0</td><td>0.0</td><td>0.0212311</td><td>0.147853</td><td>0.0523227</td><td>0.596147</td><td>0.165319</td><td>0.0171276</td><td>0.677108</td><td>1.0</td><td>1.0</td><td>&quot;SJS&quot;</td><td>51.0</td><td>2024120576</td></tr><tr><td>962.0</td><td>&quot;SJS&quot;</td><td>&quot;CGY&quot;</td><td>2024</td><td>0.0</td><td>20576</td><td>0.0</td><td>308.0</td><td>3541.0</td><td>7.0</td><td>1.0</td><td>3.0</td><td>&quot;HOME&quot;</td><td>&quot;AWAYZONE&quot;</td><td>&quot;SHOT&quot;</td><td>0.0</td><td>0.0</td><td>1.0</td><td>0.0</td><td>0.0</td><td>0.0</td><td>1.0</td><td>2.0</td><td>86.0</td><td>5.0</td><td>86.0</td><td>5.0</td><td>59.036243</td><td>59.036243</td><td>23.641448</td><td>0.0</td><td>5.830952</td><td>&quot;WRIST&quot;</td><td>0.0</td><td>1.0</td><td>23.641448</td><td>0.0</td><td>&hellip;</td><td>102.0</td><td>102.0</td><td>102.0</td><td>102.0</td><td>102.0</td><td>102.0</td><td>102.0</td><td>102.0</td><td>102.0</td><td>15.0</td><td>15.0</td><td>15.0</td><td>15.0</td><td>15.0</td><td>15.0</td><td>15.0</td><td>15.0</td><td>15.0</td><td>1.0</td><td>5.830952</td><td>86.0</td><td>5.0</td><td>5.0</td><td>0.0</td><td>0.0</td><td>0.216073</td><td>0.303168</td><td>0.132603</td><td>0.251905</td><td>0.0734014</td><td>0.0228494</td><td>0.958996</td><td>1.0</td><td>1.0</td><td>&quot;SJS&quot;</td><td>86.0</td><td>2024120576</td></tr><tr><td>963.0</td><td>&quot;SJS&quot;</td><td>&quot;CGY&quot;</td><td>2024</td><td>0.0</td><td>20576</td><td>0.0</td><td>309.0</td><td>3548.0</td><td>13.0</td><td>7.0</td><td>3.0</td><td>&quot;HOME&quot;</td><td>&quot;AWAYZONE&quot;</td><td>&quot;MISS&quot;</td><td>0.0</td><td>0.0</td><td>1.0</td><td>0.0</td><td>0.0</td><td>0.0</td><td>1.0</td><td>2.0</td><td>46.0</td><td>-28.0</td><td>46.0</td><td>-28.0</td><td>-33.070678</td><td>33.070678</td><td>92.106921</td><td>1.0</td><td>51.312766</td><td>&quot;SLAP&quot;</td><td>0.0</td><td>0.0</td><td>13.158132</td><td>0.0</td><td>&hellip;</td><td>109.0</td><td>109.0</td><td>109.0</td><td>109.0</td><td>109.0</td><td>109.0</td><td>109.0</td><td>109.0</td><td>109.0</td><td>22.0</td><td>22.0</td><td>22.0</td><td>22.0</td><td>22.0</td><td>22.0</td><td>22.0</td><td>22.0</td><td>22.0</td><td>0.0</td><td>51.312766</td><td>46.0</td><td>-28.0</td><td>28.0</td><td>0.0</td><td>0.0</td><td>0.0205377</td><td>0.0860614</td><td>0.0677492</td><td>0.612983</td><td>0.192211</td><td>0.020458</td><td>0.596606</td><td>1.0</td><td>0.0</td><td>&quot;SJS&quot;</td><td>46.0</td><td>2024120576</td></tr><tr><td>964.0</td><td>&quot;SJS&quot;</td><td>&quot;CGY&quot;</td><td>2024</td><td>0.0</td><td>20576</td><td>0.0</td><td>312.0</td><td>3586.0</td><td>13.0</td><td>6.0</td><td>3.0</td><td>&quot;HOME&quot;</td><td>&quot;AWAYZONE&quot;</td><td>&quot;SHOT&quot;</td><td>0.0</td><td>1.0</td><td>0.0</td><td>0.0</td><td>0.0</td><td>0.0</td><td>1.0</td><td>2.0</td><td>82.0</td><td>-3.0</td><td>82.0</td><td>-3.0</td><td>-23.198591</td><td>23.198591</td><td>0.0</td><td>0.0</td><td>7.615773</td><td>&quot;SLAP&quot;</td><td>0.0</td><td>0.0</td><td>0.0</td><td>0.0</td><td>&hellip;</td><td>41.2</td><td>13.666667</td><td>82.5</td><td>147.0</td><td>14.0</td><td>147.0</td><td>13.0</td><td>13.0</td><td>18.0</td><td>23.8</td><td>13.666667</td><td>39.0</td><td>60.0</td><td>14.0</td><td>60.0</td><td>13.0</td><td>13.0</td><td>18.0</td><td>1.0</td><td>7.615773</td><td>82.0</td><td>-3.0</td><td>3.0</td><td>47.0</td><td>36.2</td><td>0.181846</td><td>0.122058</td><td>0.0916501</td><td>0.420768</td><td>0.16289</td><td>0.0207878</td><td>0.881162</td><td>1.0</td><td>1.0</td><td>&quot;SJS&quot;</td><td>82.0</td><td>2024120576</td></tr><tr><td>965.0</td><td>&quot;SJS&quot;</td><td>&quot;CGY&quot;</td><td>2024</td><td>0.0</td><td>20576</td><td>0.0</td><td>313.0</td><td>3599.0</td><td>1.0</td><td>13.0</td><td>3.0</td><td>&quot;AWAY&quot;</td><td>&quot;HOMEZONE&quot;</td><td>&quot;GOAL&quot;</td><td>1.0</td><td>0.0</td><td>0.0</td><td>0.0</td><td>0.0</td><td>0.0</td><td>1.0</td><td>2.0</td><td>-87.0</td><td>-5.0</td><td>87.0</td><td>5.0</td><td>68.198591</td><td>68.198591</td><td>0.0</td><td>0.0</td><td>5.385165</td><td>&quot;BACK&quot;</td><td>1.0</td><td>0.0</td><td>0.0</td><td>0.0</td><td>&hellip;</td><td>152.666667</td><td>152.666667</td><td>999.0</td><td>160.0</td><td>160.0</td><td>0.0</td><td>116.0</td><td>116.0</td><td>999.0</td><td>73.0</td><td>73.0</td><td>999.0</td><td>73.0</td><td>73.0</td><td>0.0</td><td>73.0</td><td>73.0</td><td>999.0</td><td>0.0</td><td>5.385165</td><td>-87.0</td><td>-5.0</td><td>5.0</td><td>-47.0</td><td>-36.2</td><td>0.884746</td><td>0.0108328</td><td>0.0158139</td><td>0.0412663</td><td>0.0414553</td><td>0.005885</td><td>0.887365</td><td>0.0</td><td>1.0</td><td>&quot;CGY&quot;</td><td>87.0</td><td>2024120576</td></tr></tbody></table></div>"
      ],
      "text/plain": [
       "shape: (1_888_892, 125)\n",
       "┌────────┬─────────────┬────────────┬────────┬───┬────────────┬──────────┬────────────┬────────────┐\n",
       "│ shotID ┆ homeTeamCod ┆ awayTeamCo ┆ season ┆ … ┆ shotWasOnG ┆ teamCode ┆ arenaAdjus ┆ composite_ │\n",
       "│ ---    ┆ e           ┆ de         ┆ ---    ┆   ┆ oal        ┆ ---      ┆ tedXCordAB ┆ game_id    │\n",
       "│ f64    ┆ ---         ┆ ---        ┆ i64    ┆   ┆ ---        ┆ str      ┆ S          ┆ ---        │\n",
       "│        ┆ str         ┆ str        ┆        ┆   ┆ f64        ┆          ┆ ---        ┆ i64        │\n",
       "│        ┆             ┆            ┆        ┆   ┆            ┆          ┆ f64        ┆            │\n",
       "╞════════╪═════════════╪════════════╪════════╪═══╪════════════╪══════════╪════════════╪════════════╡\n",
       "│ 0.0    ┆ TBL         ┆ NSH        ┆ 2023   ┆ … ┆ 1.0        ┆ TBL      ┆ 59.0       ┆ 2023120001 │\n",
       "│ 1.0    ┆ TBL         ┆ NSH        ┆ 2023   ┆ … ┆ 1.0        ┆ TBL      ┆ 81.0       ┆ 2023120001 │\n",
       "│ 2.0    ┆ TBL         ┆ NSH        ┆ 2023   ┆ … ┆ 1.0        ┆ TBL      ┆ 55.0       ┆ 2023120001 │\n",
       "│ 3.0    ┆ TBL         ┆ NSH        ┆ 2023   ┆ … ┆ 1.0        ┆ TBL      ┆ 58.0       ┆ 2023120001 │\n",
       "│ 4.0    ┆ TBL         ┆ NSH        ┆ 2023   ┆ … ┆ 0.0        ┆ NSH      ┆ 64.0       ┆ 2023120001 │\n",
       "│ …      ┆ …           ┆ …          ┆ …      ┆ … ┆ …          ┆ …        ┆ …          ┆ …          │\n",
       "│ 961.0  ┆ SJS         ┆ CGY        ┆ 2024   ┆ … ┆ 1.0        ┆ SJS      ┆ 51.0       ┆ 2024120576 │\n",
       "│ 962.0  ┆ SJS         ┆ CGY        ┆ 2024   ┆ … ┆ 1.0        ┆ SJS      ┆ 86.0       ┆ 2024120576 │\n",
       "│ 963.0  ┆ SJS         ┆ CGY        ┆ 2024   ┆ … ┆ 0.0        ┆ SJS      ┆ 46.0       ┆ 2024120576 │\n",
       "│ 964.0  ┆ SJS         ┆ CGY        ┆ 2024   ┆ … ┆ 1.0        ┆ SJS      ┆ 82.0       ┆ 2024120576 │\n",
       "│ 965.0  ┆ SJS         ┆ CGY        ┆ 2024   ┆ … ┆ 1.0        ┆ CGY      ┆ 87.0       ┆ 2024120576 │\n",
       "└────────┴─────────────┴────────────┴────────┴───┴────────────┴──────────┴────────────┴────────────┘"
      ]
     },
     "execution_count": 17,
     "metadata": {},
     "output_type": "execute_result"
    }
   ],
   "source": [
    "shots"
   ]
  },
  {
   "cell_type": "markdown",
   "metadata": {},
   "source": [
    "### 2.a. Adding Dates to Shots\n",
    "\n",
    "To add dates to shots, we need to query the NHL API to find the game's date. This date needs to be added to a column in the shot, and then the entire dataframe needs to be returned. This will be done in batches so we don't overload the API or have the API stop the program."
   ]
  },
  {
   "cell_type": "code",
   "execution_count": 18,
   "metadata": {},
   "outputs": [],
   "source": [
    "def add_dates_to_shots(shots:pl.DataFrame)->pl.DataFrame:\n",
    "    # Get upper and lower bounds of our seasons (2007-2024 for this instance)\n",
    "    start = min(shots['season'])\n",
    "    end = max(shots['season'])\n",
    "\n",
    "    api_endpt = ''\n",
    "\n",
    "    # We only need the date for a game a shot takes place in, not the shot itself...\n",
    "    #  - create groups of unique games, then send those up to the API\n",
    "    return"
   ]
  },
  {
   "cell_type": "code",
   "execution_count": 19,
   "metadata": {},
   "outputs": [],
   "source": [
    "shots_with_dates = add_dates_to_shots(shots)"
   ]
  },
  {
   "cell_type": "markdown",
   "metadata": {},
   "source": [
    "We'll skip this for now and come back to it if we need to. Now we have a completed shots dataset, and go into the dataset for the model."
   ]
  },
  {
   "cell_type": "markdown",
   "metadata": {},
   "source": [
    "## 3. Creating the Dataset for the Model\n",
    "\n",
    "The model will look at each shot and classify it as a clutch shot if it wins the game or sends it to overtime in the last 5 minutes. Then each game will be grouped and a win probability for each game will be computed, and shots will be classified as Clutch<sup>2</sup> when the change in win probability is higher than average (or higher than a certain quantile). To do this we will need to combine the team and shot data"
   ]
  },
  {
   "cell_type": "code",
   "execution_count": 20,
   "metadata": {},
   "outputs": [],
   "source": [
    "shot_cols_to_use = [\n",
    "    'shotID',\n",
    "    'homeTeamCode',\n",
    "    'awayTeamCode',\n",
    "    'season',\n",
    "    'isPlayoffGame',\n",
    "    'game_id',\n",
    "    'shooterPlayerId',\n",
    "    'shooterName',\n",
    "    'homeTeamWon',\n",
    "    'composite_game_id',\n",
    "    'time',\n",
    "    'period',\n",
    "    'goal',\n",
    "    'xGoal',\n",
    "    'shotGeneratedRebound',\n",
    "    'xRebound',\n",
    "    'shotGoalieFroze',\n",
    "    'xFroze',\n",
    "    'shotPlayContinuedInZone',\n",
    "    'xPlayContinuedInZone',\n",
    "    'shotPlayContinuedOutsideZone',\n",
    "    'xPlayContinuedOutsideZone',\n",
    "    'shotPlayStopped',\n",
    "    'xPlayStopped',\n",
    "    'shotWasOnGoal',\n",
    "    'xShotWasOnGoal',\n",
    "    'isHomeTeam',\n",
    "    'homeTeamGoals',\n",
    "    'awayTeamGoals',\n",
    "    'homeSkatersOnIce',\n",
    "    'awaySkatersOnIce',\n",
    "    'awayPenalty1TimeLeft',\n",
    "    'awayPenalty1Length',\n",
    "    'homePenalty1TimeLeft',\n",
    "    'homePenalty1Length'\n",
    "]\n",
    "\n",
    "shots_filtered = shots.select(shot_cols_to_use)"
   ]
  },
  {
   "cell_type": "code",
   "execution_count": 27,
   "metadata": {},
   "outputs": [],
   "source": [
    "team_cols_to_use = ['team', \n",
    "               'season', \n",
    "               'position', \n",
    "               'situation', \n",
    "               'games_played', \n",
    "               'xGoalsPercentage', \n",
    "               'corsiPercentage', \n",
    "               'fenwickPercentage', \n",
    "               'shotsOnGoalFor', \n",
    "               'missedShotsFor',\n",
    "               'blockedShotAttemptsFor',\n",
    "               'shotAttemptsFor',\n",
    "               'goalsFor',\n",
    "               'goalsAgainst',\n",
    "               'reboundsFor',\n",
    "               'reboundGoalsFor'\n",
    "               ]\n",
    "\n",
    "teams_filtered = teams.select(team_cols_to_use)"
   ]
  },
  {
   "cell_type": "code",
   "execution_count": 22,
   "metadata": {},
   "outputs": [],
   "source": [
    "def add_GFg_GAg_scoring_rates_to_teams(df: pl.DataFrame) -> pl.DataFrame:\n",
    "    return df.with_columns(\n",
    "        (pl.col(\"goalsFor\") / pl.col(\"shotAttemptsFor\")).alias(\"scoringRate\"),\n",
    "        (pl.col(\"goalsFor\") / pl.col(\"games_played\")).alias(\"GFg\"),\n",
    "        (pl.col(\"goalsAgainst\") / pl.col(\"games_played\")).alias(\"GAg\")\n",
    "    )"
   ]
  },
  {
   "cell_type": "code",
   "execution_count": 23,
   "metadata": {},
   "outputs": [],
   "source": [
    "def merge_shots_and_teams(shots_df:pl.DataFrame, teams_df:pl.DataFrame) -> pl.DataFrame:\n",
    "    # Pivot the DataFrame\n",
    "    df_pivoted = teams_df.pivot(\n",
    "        index=[\"team\", \"season\"],  # Group by team and season\n",
    "        columns=\"situation\",      # Situations become new columns\n",
    "        values=[\"scoringRate\"]      # Values in the new columns\n",
    "    )\n",
    "    print(df_pivoted)\n",
    "\n",
    "    # Rename Columns for Clarity\n",
    "    df_pivoted = df_pivoted.rename(\n",
    "    {col: f\"scoringRate_{col}\" for col in df_pivoted.columns if col not in [\"team\", \"season\"]}\n",
    "    )\n",
    "    \n",
    "    # Now pivot with GFg and GAg here\n",
    "    teams_pivoted_2 = teams_df.pivot(\n",
    "        index=[\"team\", \"season\"],  # Group by team and season\n",
    "        columns=\"situation\",      # Situations become new columns\n",
    "        values=[\"GFg\",\"GAg\"]              # Values in the new columns\n",
    "    )\n",
    "\n",
    "    # Join shots with the Team data (just for home team scoring rates!)\n",
    "    shots_with_home = shots_df.join(\n",
    "        df_pivoted,\n",
    "        left_on=[\"homeTeamCode\", \"season\"],\n",
    "        right_on=[\"team\", \"season\"],\n",
    "        how=\"left\"#,\n",
    "        #suffix=\"_home\"\n",
    "    )\n",
    "\n",
    "    # Join away team goal efficiency with shots (adds away team scoring rates!)\n",
    "    shots_with_home_and_away = shots_with_home.join(\n",
    "        df_pivoted,\n",
    "        left_on=[\"awayTeamCode\", \"season\"],\n",
    "        right_on=[\"team\", \"season\"],\n",
    "        how=\"left\",\n",
    "        suffix=\"_away\"\n",
    "    )\n",
    "\n",
    "    shots_with_home_2 = shots_with_home_and_away.join(\n",
    "    teams_pivoted_2,\n",
    "    left_on=[\"homeTeamCode\", \"season\"],\n",
    "    right_on=[\"team\", \"season\"],\n",
    "    how=\"left\"\n",
    "    )\n",
    "    shots_final_2 = shots_with_home_2.join(\n",
    "        teams_pivoted_2,\n",
    "        left_on=[\"awayTeamCode\", \"season\"],\n",
    "        right_on=[\"team\", \"season\"],\n",
    "        how=\"left\",\n",
    "        suffix=\"_away\"\n",
    "    )\n",
    "\n",
    "    return shots_final_2"
   ]
  },
  {
   "cell_type": "code",
   "execution_count": 24,
   "metadata": {},
   "outputs": [],
   "source": [
    "def get_combined_df(shots_df:pl.DataFrame, teams_df:pl.DataFrame) -> pl.DataFrame:\n",
    "    nu_teams_df = add_GFg_GAg_scoring_rates_to_teams(teams_df)\n",
    "    df = merge_shots_and_teams(shots_df, nu_teams_df)\n",
    "    return df"
   ]
  },
  {
   "cell_type": "code",
   "execution_count": 28,
   "metadata": {},
   "outputs": [
    {
     "name": "stderr",
     "output_type": "stream",
     "text": [
      "/var/folders/b6/zrz7f_vs0k79qphqm5sprhzr0000gn/T/ipykernel_80819/2658159492.py:3: DeprecationWarning: The argument `columns` for `DataFrame.pivot` is deprecated. It has been renamed to `on`.\n",
      "  df_pivoted = teams_df.pivot(\n",
      "/var/folders/b6/zrz7f_vs0k79qphqm5sprhzr0000gn/T/ipykernel_80819/2658159492.py:16: DeprecationWarning: The argument `columns` for `DataFrame.pivot` is deprecated. It has been renamed to `on`.\n",
      "  teams_pivoted_2 = teams_df.pivot(\n"
     ]
    },
    {
     "name": "stdout",
     "output_type": "stream",
     "text": [
      "shape: (522, 7)\n",
      "┌──────┬────────┬──────────┬──────────┬──────────┬──────────┬──────────┐\n",
      "│ team ┆ season ┆ all      ┆ 5on5     ┆ 4on5     ┆ 5on4     ┆ other    │\n",
      "│ ---  ┆ ---    ┆ ---      ┆ ---      ┆ ---      ┆ ---      ┆ ---      │\n",
      "│ str  ┆ i32    ┆ f64      ┆ f64      ┆ f64      ┆ f64      ┆ f64      │\n",
      "╞══════╪════════╪══════════╪══════════╪══════════╪══════════╪══════════╡\n",
      "│ ANA  ┆ 2008   ┆ 0.054889 ┆ 0.047356 ┆ 0.054545 ┆ 0.078979 ┆ 0.065625 │\n",
      "│ ARI  ┆ 2008   ┆ 0.048112 ┆ 0.042609 ┆ 0.036585 ┆ 0.056962 ┆ 0.094017 │\n",
      "│ ATL  ┆ 2008   ┆ 0.060269 ┆ 0.050067 ┆ 0.086957 ┆ 0.07878  ┆ 0.1      │\n",
      "│ BOS  ┆ 2008   ┆ 0.060558 ┆ 0.049579 ┆ 0.081395 ┆ 0.086957 ┆ 0.122881 │\n",
      "│ BUF  ┆ 2008   ┆ 0.054702 ┆ 0.047872 ┆ 0.055556 ┆ 0.073082 ┆ 0.07571  │\n",
      "│ …    ┆ …      ┆ …        ┆ …        ┆ …        ┆ …        ┆ …        │\n",
      "│ UTA  ┆ 2024   ┆ 0.050445 ┆ 0.040915 ┆ 0.060606 ┆ 0.084071 ┆ 0.128713 │\n",
      "│ VAN  ┆ 2024   ┆ 0.057807 ┆ 0.049349 ┆ 0.025641 ┆ 0.081301 ┆ 0.130841 │\n",
      "│ VGK  ┆ 2024   ┆ 0.0595   ┆ 0.05     ┆ 0.125    ┆ 0.075893 ┆ 0.208333 │\n",
      "│ WPG  ┆ 2024   ┆ 0.065324 ┆ 0.043818 ┆ 0.05     ┆ 0.133891 ┆ 0.243243 │\n",
      "│ WSH  ┆ 2024   ┆ 0.061485 ┆ 0.052045 ┆ 0.083333 ┆ 0.071146 ┆ 0.153846 │\n",
      "└──────┴────────┴──────────┴──────────┴──────────┴──────────┴──────────┘\n"
     ]
    }
   ],
   "source": [
    "df = get_combined_df(shots_filtered, teams_filtered)"
   ]
  },
  {
   "cell_type": "code",
   "execution_count": null,
   "metadata": {},
   "outputs": [],
   "source": []
  }
 ],
 "metadata": {
  "kernelspec": {
   "display_name": ".venv",
   "language": "python",
   "name": "python3"
  },
  "language_info": {
   "codemirror_mode": {
    "name": "ipython",
    "version": 3
   },
   "file_extension": ".py",
   "mimetype": "text/x-python",
   "name": "python",
   "nbconvert_exporter": "python",
   "pygments_lexer": "ipython3",
   "version": "3.11.6"
  }
 },
 "nbformat": 4,
 "nbformat_minor": 2
}
