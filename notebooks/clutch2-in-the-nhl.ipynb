{
 "cells": [
  {
   "cell_type": "markdown",
   "metadata": {},
   "source": []
  },
  {
   "cell_type": "markdown",
   "metadata": {},
   "source": [
    "**Remove this section after conversion!**\n",
    "\n",
    "# Defining Clutch: Hype Moments in the NHL"
   ]
  },
  {
   "cell_type": "markdown",
   "metadata": {},
   "source": [
    "###### By:: Trevor Rowland ([dBCooper2](<https://github.com/dBCooper2>)), Abhishek Menothu ([sh4ken](<https://github.com/sh4ken>)) and Johnathen Wigfall ([jwigfall4627](<https://github.com/Jwigfall4627>))"
   ]
  },
  {
   "cell_type": "markdown",
   "metadata": {},
   "source": [
    "## Resources\n",
    "\n",
    "Beuoy, Mike. *Measuring Clutch Play in the NBA* <https://www.inpredictable.com/2014/03/measuring-clutch-play-in-nba.html>\n",
    "\n",
    "MacKelvie, Michael. *The Clutch GOAT... It's not who you think* <https://www.youtube.com/watch?v=qjjW1l9KjXQ>\n",
    "\n",
    "Stanley Cup Playoff Goals But They Get Increasingly More Clutch (In the Last 10 Years) <https://www.youtube.com/watch?v=HhZR-6u2kWA>\n",
    "\n",
    "<https://www.chicagowolves.com/gameday/hockey-101/statistic-abbreviations/>\n",
    "\n",
    "<https://xgboost.readthedocs.io/en/stable/gpu/index.html>\n",
    "\n",
    "\n",
    "\n"
   ]
  },
  {
   "cell_type": "markdown",
   "metadata": {},
   "source": [
    "## Table of Contents\n",
    "\n",
    "1. Abstract - Problem Statement, Resources, Method Overview\n",
    "\n",
    "2. Introduction - What do we know, what gaps are we trying to fill?\n",
    "\n",
    "3. Methodology - How do we fill this gap, what did we do?\n",
    "    - Defined Clutch (Game winning goals?)\n",
    "    - Applied Clutch^2 model to hockey\n",
    "\n",
    "4. Results\n",
    "    - What does this tell us about players? Teams?\n",
    "    - Issues with the model when translating from basketball to hockey (maybe do this in #5)\n",
    "\n",
    "5. Discussion - Does this bridge/fill the gap in our knowledge\n",
    "\n",
    "6. Conclusion - What does this mean going forward?\n",
    "\n",
    "7. Resources"
   ]
  },
  {
   "cell_type": "markdown",
   "metadata": {},
   "source": [
    "## Abstract\n",
    "\n",
    "Hearts pounding, sticks clashing, the clock counting down. These are the moments that fill us with excitement, and remind us why we are hockey fans. In the NBA, you can't go a day without hearing whether Lebron has the same \"clutch factor\" as Jordan, if a player can make a shot when it counts, and this clutch component to the game is simply written off as a genetic, immaterial component. But what if clutch play could not only be measured, but predicted? The purpose of this article is to create a working definition of clutch-ness in the NHL for offensive players, and to classify players and shots as clutch using an adaptation of Mike Beuoy's Clutch<sup>2</sup> model.\n",
    "\n",
    "The resources used to classify clutch are NHL data from Peter Tanner's MoneyPuck site, Alan Ryder's Win Probability Models for hockey, and Stephen Pettigrew's Added Goal Value (AGV) Model for hockey. These are used to recreate a simple version of Mike Beuoy's Clutch<sup>2</sup> model for the NHL.\n",
    "\n",
    "### Method Overview\n",
    "\n",
    "To define a shot or goal as \"clutch\", we used a modified version of the NBA's definition of a Clutch Play, as we were unable to find one for the NHL. In basketball, clutch is defined as \"shots made when the score is within five points or less with five minutes or less left in the game\" (MacKelvie). While this creates a good starting point, MacKelvie notes that this isn't what people think of when they think of a clutch play. Clutch plays are buzzer beaters, last second bombs, not layups that win the game with four minutes and 50 seconds left on the clock. This leads us to Mike Beuoy's Clutch<sup>2</sup> model, where \"Clutch plays are when a play (either positive or negative) has a greater than average impact on win probability, and garbage time is when a play has a lower than average impact\" (Beuoy).\n",
    "\n",
    "These definitions need some slight adjustments for hockey. Hockey is lower-scoring than basketball, and the shots that are seen as clutch are game-winning in overtime, where the next goal wins. There is a stat we can use called Game Winning Goals (GWG), however it does not take the time the goal happened into account. Only the fact that the score differential changed from 0 to 1, and didn't return to 0 for the rest of the game is used in this metric. This can be used later in conjunction with the time the goal was scored to create our own \"clutch\" metric.\n",
    "\n",
    "To handle differences between hockey and basketball, we will do away with the 5-point score differential, and only include goals when both teams are tied with 5 (EDITOR: Maybe change if the model is giving too many clutches) minutes left in the third period, or goals scored in overtime. For Beuoy's Clutch<sup>2</sup> model, we can keep the definition the same, but our win probability calculations will be different to account for hockey's differences."
   ]
  },
  {
   "cell_type": "markdown",
   "metadata": {},
   "source": [
    "## Introduction\n",
    "\n",
    "I have no idea how to write this without just repeating the abstract section..."
   ]
  },
  {
   "cell_type": "markdown",
   "metadata": {},
   "source": [
    "## Methodology\n",
    "\n",
    "### a. How should we fill the gap?\n",
    "\n",
    "### b. What did you do?"
   ]
  },
  {
   "cell_type": "markdown",
   "metadata": {},
   "source": []
  }
 ],
 "metadata": {
  "language_info": {
   "name": "python"
  }
 },
 "nbformat": 4,
 "nbformat_minor": 2
}
