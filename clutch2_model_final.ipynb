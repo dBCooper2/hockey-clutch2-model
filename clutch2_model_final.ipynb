{
 "cells": [
  {
   "cell_type": "markdown",
   "id": "2aadcb1d",
   "metadata": {},
   "source": [
    "## Defining Clutch: Hype Moments in the NHL\n",
    "\n",
    "###### By:: Trevor Rowland ([dBCooper2](<https://github.com/dBCooper2>)), Abhishek Menothu ([sh4ken](<https://github.com/sh4ken>)) and Johnathen Wigfall ([jwigfall4627](<https://github.com/Jwigfall4627>))"
   ]
  },
  {
   "cell_type": "markdown",
   "id": "987a586e",
   "metadata": {},
   "source": [
    "With the time waning, the score is tied. Fans lean forward, sticks clash, and every pass is loaded\n",
    "with consequence. In these last moments, players need abilities beyond skill to draw from: stamina, grit,\n",
    "and the illusory ‘clutch’ factor. As fans of hockey, how is clutch defined? From that definition, how can\n",
    "we rank players and teams to know which team is the most clutch, and therefore the most exciting? With\n",
    "games competing in the same time slot on TV, and rising prices for tickets, how can a fan be sure that\n",
    "their chosen experience will be the high-octane event that hockey is known to be? This notebook aims to\n",
    "create a working definition for Clutch in the NHL, and classify teams and players who model this\n",
    "definition.\n",
    "\n",
    "Using Michael MacKelvie's video, \"[The Clutch GOAT...(it's not who you think).](<https://www.youtube.com/watch?v=qjjW1l9KjXQ>)\", as a springboard to start figuring out a definition of clutch in the NHL. In the video, Mackelvie uses Mike Beuoy's Clutch^2 model, which uses a Win Probability Added Model to find which shots in the NBA moved the win probability of a team more than an average amount, and those shots are called \"Clutch^2\". Taking this to the NHL is fairly straightforward, we just need to create a Win Probability Model for hockey games.\n",
    "\n",
    "For this model, there is significant work being done by experts that we can draw from. For the data, there is [MoneyPuck](<https://moneypuck.com/>), which provides fantastic datasets for all things NHL, including historical shot data. This shot data will be used in conjunction with Stephen Pettigrew's [Home Team Win Probability Model](<https://cdn.prod.website-files.com/5f1af76ed86d6771ad48324b/5fee098cacad0134c9e8d403_1028_rppaper_pettigrew%20sloan%20submission.pdf>) (WP Model) to compute the win probability added by each shot. The formula for this model is:\n",
    "\n",
    "$$\n",
    "\\begin{align*}\n",
    "\n",
    "P_t(w) &= \\space P_t(w \\space|\\space \\delta_t + 1)\\cdot \\space \\Lambda (\\mathbf{\\gamma_h} \\cdot \\mathbf{\\nu_t}) \\\\\n",
    "&+ \\space P_t(w \\space|\\space \\delta_t - 1)\\cdot \\space \\Lambda (\\mathbf{\\gamma_a} \\cdot \\mathbf{\\nu_t}) \\\\\n",
    "&+ \\space P_t(w \\space | \\space \\delta_t) (1-\\Lambda(\\mathbf{\\gamma_h} \\cdot v_t))(1-\\Lambda(\\mathbf{\\gamma_a} \\cdot \\mathbf{\\nu_t}))\n",
    "\n",
    "\\end{align*}\n",
    "$$\n",
    "\n",
    "*Where...*\n",
    "\n",
    "- $t$ is time remaining in the game.\n",
    "- $P_t(w)$ is the probability of a win at time remaining, $t$.\n",
    "- $\\sigma_t$ is the score differential(`homeGoals` minus `awayGoals`) at time remaining, $t$.\n",
    "- $\\gamma_h$ is a vector of goal-scoring rates (accessed from MoneyPuck Teams Data) at different non-even strengths ([5on4, 5on3, 4on3, 3on4, 3on5, 4on5] or [5on5, other, 4on5] from the Teams dataset).\n",
    "- $\\gamma_a$ is the same as $\\gamma_h$, only in reverse order to correspond to the away team's scoring rate ([4on5, other, 5on4]).\n",
    "- $\\mathbf{\\nu_t}$ is a vector of seconds remaining in each of the six non-even strength situations at time $t$, using penalty times for home in 4on5, 3on5 and 3on4, and away penalty times in 5on4, 5on3 and 4on3. Unfortunately, the Moneypuck data does not provide a way to use multiple times remaining across multiple penalties, so we are assuming that we just want to use the penalty time remaining at the index of current strength for each team, and use the penalty time corresponding to when the strength of either team changes, by any amount.\n",
    "- $\\Lambda$ is the Poisson PMF, evaluated at $P(x=1)^2$, and will be deployed using the `scipy.stats` package.\n",
    "\n",
    "Additionally, the term $P_t(w \\space | \\space \\delta_t)$ is the probability that the home team will win, given a score differential $\\delta_t$. This is estimated with [Alan Ryder's model](<https://www.hockeyanalytics.com/Research_files/Win_Probabilities.pdf>), and can be found on page 16 of the linked document."
   ]
  },
  {
   "cell_type": "markdown",
   "id": "644df5bf",
   "metadata": {},
   "source": [
    "## 1. Installing Packages and Importing Data\n",
    "\n",
    "[Change later if needed!]\n",
    "\n",
    "To run this code, you will need the polars dataframe package and scipy.stats for the poisson PMF. To install these, run:\n",
    "\n",
    "```bash\n",
    "pip install numpy polars scipy\n",
    "```"
   ]
  },
  {
   "cell_type": "code",
   "execution_count": 1,
   "id": "af1b443e",
   "metadata": {},
   "outputs": [],
   "source": [
    "import numpy as np\n",
    "import polars as pl\n",
    "from scipy import special\n",
    "from math import sqrt, exp\n",
    "# use for P(x=1)^2 with poisson.pmf(1, vector)\n",
    "from scipy.stats import poisson"
   ]
  },
  {
   "cell_type": "code",
   "execution_count": 2,
   "id": "353ae482",
   "metadata": {},
   "outputs": [],
   "source": [
    "df_shots = pl.read_csv('/Users/dB/Desktop/fall_24/DS-4210/final-proj/final_datasets/combined_shots_2023-24.csv')\n",
    "df_teams = pl.read_csv('/Users/dB/Desktop/fall_24/DS-4210/final-proj/final_datasets/combined_teams.csv')\n",
    "\n",
    "# df_shots = df_shots.select(df_shots.columns[1:])\n",
    "# df_teams = df_teams.select(df_teams.columns[1:])"
   ]
  },
  {
   "cell_type": "markdown",
   "id": "abdcea53",
   "metadata": {},
   "source": [
    "## 2. Cleaning and Combining the Dataframes\n",
    "\n",
    "We need to remove unnecessary columns from the DataFrames so they only contain features we need for the WP Model (We are no longer doing this to keep the dataset the same when it is imported into Tableau). Individual Team Scoring Rates for each season also need to be computed to create the $\\mathbf{\\gamma_{h}}$/$\\mathbf{\\gamma_{a}}$ vectors.\n",
    "\n",
    "Many of the columns in the shots dataframe are just there for visualizing the data later in Tableau, like Shot ID's, Game ID's and the game's date. The important columns are:\n",
    "\n",
    "- `homeTeamCode` and `awayTeamCode`: these give us the home and away team abbreviations which we will use to append the correct scoring rates to each team, and will be used later to aggregate team statistics.\n",
    "\n",
    "- `homeTeamGoals` and `awayTeamGoals`: These are the goals each team scores within a game, and are used to find the goal differential and the win probabilities.\n",
    "\n",
    "- `homeSkatersOnIce` and `awaySkatersOnIce`: These are used to calculate each team's strength (number of skaters on the ice) for the $\\mathbf{\\nu_t}$ vector.\n",
    "\n",
    "- `homePenalty1TimeLeft` and `awayPenalty1TimeLeft`: These are used as the times for $\\mathbf{\\nu_t}$, and are the time left until each team's strength changes.\n",
    "\n",
    "- `season`: season will be used for assigning the correct goal scoring percentage to a team. This model will use just 2023 and 2024 data, but is able to handle any number of seasons, as long as the data is properly formatted.\n",
    "\n",
    "- `goal` and `isHomeTeam`: these variables say whether the shot resulted in a goal and whether that shot came from the home team, respectively. These will be used in conjunction to determine who scored a goal, and will be important for creating the win probabilities to import into tableau (this will be covered later).\n",
    "\n",
    "In the teams data, we are extracting the following features:\n",
    "\n",
    "- `team`: This is the team's abbreviation, and is used to match up the features with the shots dataset.\n",
    "\n",
    "- `situation`: This describes whether the team is playing 5on5, 4on5, 5on4, or another configuration of skaters. This will be transformed into columns and used in the shots dataset for the $\\mathbf{\\gamma}$ vectors.\n",
    "\n",
    "- `season`: This is just the season that the team's stats are from, and is used to match the season's stats correctly with season corresponding to a given team's shot.\n",
    "\n",
    "- `shotOnGoalsFor` and `shotAttemptsFor`: Both of these can be used as the denominator in computing the goal-scoring rate of a team. For this analysis, shotAttemptsFor was chosen to include all shots, not just the ones on goal. This may change in future analyses.\n",
    "\n",
    "- `goalsFor`: This is used as the numerator for the goal-scoring rate of a team.\n",
    "\n",
    "Here is the code to clean the `shot` and `teams` data:"
   ]
  },
  {
   "cell_type": "markdown",
   "id": "df5de149",
   "metadata": {},
   "source": [
    "The following function adds goals for per game (`GFg`) and goals allowed per game (`GAg`) to the teams data."
   ]
  },
  {
   "cell_type": "code",
   "execution_count": 3,
   "id": "17e2d7cd",
   "metadata": {},
   "outputs": [],
   "source": [
    "# Create GFg, GAg and Scoring Rates\n",
    "def add_GFg_GAg_scoring_rates_to_teams(df: pl.DataFrame) -> pl.DataFrame:\n",
    "    return df.with_columns(\n",
    "        (pl.col(\"goalsFor\") / pl.col(\"shotAttemptsFor\")).alias(\"scoringRate\"),\n",
    "        (pl.col(\"goalsFor\") / pl.col(\"games_played\")).alias(\"GFg\"),\n",
    "        (pl.col(\"goalsAgainst\") / pl.col(\"games_played\")).alias(\"GAg\")\n",
    "    )"
   ]
  },
  {
   "cell_type": "markdown",
   "id": "64673bd7",
   "metadata": {},
   "source": [
    "Now, with the completed teams data, we apply that data to the shots dataset."
   ]
  },
  {
   "cell_type": "code",
   "execution_count": 4,
   "id": "731f1131",
   "metadata": {},
   "outputs": [],
   "source": [
    "# Add the Teams Data to the Shots\n",
    "def merge_shots_and_teams(shots_df:pl.DataFrame, teams_df:pl.DataFrame) -> pl.DataFrame:\n",
    "    # Pivot the DataFrame\n",
    "    df_pivoted = teams_df.pivot(\n",
    "        index=[\"team\", \"season\"],  # Group by team and season\n",
    "        columns=\"situation\",      # Situations become new columns\n",
    "        values=[\"scoringRate\"]      # Values in the new columns\n",
    "    )\n",
    "    print(df_pivoted)\n",
    "\n",
    "    # Rename Columns for Clarity\n",
    "    df_pivoted = df_pivoted.rename(\n",
    "    {col: f\"scoringRate_{col}\" for col in df_pivoted.columns if col not in [\"team\", \"season\"]}\n",
    "    )\n",
    "    \n",
    "    # Now pivot with GFg and GAg here\n",
    "    teams_pivoted_2 = teams_df.pivot(\n",
    "        index=[\"team\", \"season\"],  # Group by team and season\n",
    "        columns=\"situation\",      # Situations become new columns\n",
    "        values=[\"GFg\",\"GAg\"]              # Values in the new columns\n",
    "    )\n",
    "\n",
    "    # Join shots with the Team data (just for home team scoring rates!)\n",
    "    shots_with_home = shots_df.join(\n",
    "        df_pivoted,\n",
    "        left_on=[\"homeTeamCode\", \"season\"],\n",
    "        right_on=[\"team\", \"season\"],\n",
    "        how=\"left\"#,\n",
    "        #suffix=\"_home\"\n",
    "    )\n",
    "\n",
    "    # Join away team goal efficiency with shots (adds away team scoring rates!)\n",
    "    shots_with_home_and_away = shots_with_home.join(\n",
    "        df_pivoted,\n",
    "        left_on=[\"awayTeamCode\", \"season\"],\n",
    "        right_on=[\"team\", \"season\"],\n",
    "        how=\"left\",\n",
    "        suffix=\"_away\"\n",
    "    )\n",
    "\n",
    "    shots_with_home_2 = shots_with_home_and_away.join(\n",
    "    teams_pivoted_2,\n",
    "    left_on=[\"homeTeamCode\", \"season\"],\n",
    "    right_on=[\"team\", \"season\"],\n",
    "    how=\"left\"\n",
    "    )\n",
    "    shots_final_2 = shots_with_home_2.join(\n",
    "        teams_pivoted_2,\n",
    "        left_on=[\"awayTeamCode\", \"season\"],\n",
    "        right_on=[\"team\", \"season\"],\n",
    "        how=\"left\",\n",
    "        suffix=\"_away\"\n",
    "    )\n",
    "\n",
    "    return shots_final_2"
   ]
  },
  {
   "cell_type": "markdown",
   "id": "cc35b800",
   "metadata": {},
   "source": [
    "This is just a simple function to group all of our cleaning functions together:"
   ]
  },
  {
   "cell_type": "code",
   "execution_count": 5,
   "id": "dfc03671",
   "metadata": {},
   "outputs": [],
   "source": [
    "def get_combined_df(shots_df:pl.DataFrame, teams_df:pl.DataFrame) -> pl.DataFrame:\n",
    "    nu_teams_df = add_GFg_GAg_scoring_rates_to_teams(teams_df)\n",
    "    df = merge_shots_and_teams(shots_df, nu_teams_df)\n",
    "    return df"
   ]
  },
  {
   "cell_type": "markdown",
   "id": "f0bf6195",
   "metadata": {},
   "source": [
    "Running this code will return the DataFrame with all of the required data for the model. We are not finished yet, we will need to create numpy arrays for the model, but for now all the values we need are within the DataFrame."
   ]
  },
  {
   "cell_type": "code",
   "execution_count": 6,
   "id": "ea2fbe39",
   "metadata": {},
   "outputs": [
    {
     "name": "stdout",
     "output_type": "stream",
     "text": [
      "shape: (522, 7)\n",
      "┌──────┬────────┬──────────┬──────────┬──────────┬──────────┬──────────┐\n",
      "│ team ┆ season ┆ other    ┆ all      ┆ 5on5     ┆ 4on5     ┆ 5on4     │\n",
      "│ ---  ┆ ---    ┆ ---      ┆ ---      ┆ ---      ┆ ---      ┆ ---      │\n",
      "│ str  ┆ i64    ┆ f64      ┆ f64      ┆ f64      ┆ f64      ┆ f64      │\n",
      "╞══════╪════════╪══════════╪══════════╪══════════╪══════════╪══════════╡\n",
      "│ NJD  ┆ 2024   ┆ 0.135802 ┆ 0.056782 ┆ 0.043033 ┆ 0.083333 ┆ 0.090909 │\n",
      "│ PHI  ┆ 2024   ┆ 0.131868 ┆ 0.051556 ┆ 0.040816 ┆ 0.035714 ┆ 0.064    │\n",
      "│ WPG  ┆ 2024   ┆ 0.305085 ┆ 0.072529 ┆ 0.047253 ┆ 0.1      ┆ 0.145161 │\n",
      "│ CAR  ┆ 2024   ┆ 0.174603 ┆ 0.056152 ┆ 0.045168 ┆ 0.066667 ┆ 0.071823 │\n",
      "│ UTA  ┆ 2024   ┆ 0.173913 ┆ 0.044872 ┆ 0.038674 ┆ 0.0      ┆ 0.048387 │\n",
      "│ …    ┆ …      ┆ …        ┆ …        ┆ …        ┆ …        ┆ …        │\n",
      "│ NYR  ┆ 2008   ┆ 0.078624 ┆ 0.04071  ┆ 0.034737 ┆ 0.064516 ┆ 0.044903 │\n",
      "│ CGY  ┆ 2008   ┆ 0.102837 ┆ 0.051356 ┆ 0.044519 ┆ 0.04918  ┆ 0.063779 │\n",
      "│ S.J  ┆ 2008   ┆ 0.087193 ┆ 0.051308 ┆ 0.037752 ┆ 0.102804 ┆ 0.081224 │\n",
      "│ MTL  ┆ 2008   ┆ 0.093023 ┆ 0.051931 ┆ 0.044744 ┆ 0.053571 ┆ 0.061637 │\n",
      "│ FLA  ┆ 2008   ┆ 0.116981 ┆ 0.052512 ┆ 0.046718 ┆ 0.055556 ┆ 0.054616 │\n",
      "└──────┴────────┴──────────┴──────────┴──────────┴──────────┴──────────┘\n"
     ]
    },
    {
     "name": "stderr",
     "output_type": "stream",
     "text": [
      "/var/folders/b6/zrz7f_vs0k79qphqm5sprhzr0000gn/T/ipykernel_93476/3597725823.py:4: DeprecationWarning: The argument `columns` for `DataFrame.pivot` is deprecated. It has been renamed to `on`.\n",
      "  df_pivoted = teams_df.pivot(\n",
      "/var/folders/b6/zrz7f_vs0k79qphqm5sprhzr0000gn/T/ipykernel_93476/3597725823.py:17: DeprecationWarning: The argument `columns` for `DataFrame.pivot` is deprecated. It has been renamed to `on`.\n",
      "  teams_pivoted_2 = teams_df.pivot(\n"
     ]
    }
   ],
   "source": [
    "df = get_combined_df(df_shots, df_teams)"
   ]
  },
  {
   "cell_type": "code",
   "execution_count": 7,
   "id": "6bad2f71",
   "metadata": {},
   "outputs": [
    {
     "data": {
      "text/html": [
       "<div><style>\n",
       ".dataframe > thead > tr,\n",
       ".dataframe > tbody > tr {\n",
       "  text-align: right;\n",
       "  white-space: pre-wrap;\n",
       "}\n",
       "</style>\n",
       "<small>shape: (5, 157)</small><table border=\"1\" class=\"dataframe\"><thead><tr><th></th><th>shotID</th><th>arenaAdjustedShotDistance</th><th>arenaAdjustedXCord</th><th>arenaAdjustedXCordABS</th><th>arenaAdjustedYCord</th><th>arenaAdjustedYCordAbs</th><th>averageRestDifference</th><th>awayEmptyNet</th><th>awayPenalty1Length</th><th>awayPenalty1TimeLeft</th><th>awaySkatersOnIce</th><th>awayTeamCode</th><th>awayTeamGoals</th><th>defendingTeamAverageTimeOnIce</th><th>defendingTeamAverageTimeOnIceOfDefencemen</th><th>defendingTeamAverageTimeOnIceOfDefencemenSinceFaceoff</th><th>defendingTeamAverageTimeOnIceOfForwards</th><th>defendingTeamAverageTimeOnIceOfForwardsSinceFaceoff</th><th>defendingTeamAverageTimeOnIceSinceFaceoff</th><th>defendingTeamDefencemenOnIce</th><th>defendingTeamForwardsOnIce</th><th>defendingTeamMaxTimeOnIce</th><th>defendingTeamMaxTimeOnIceOfDefencemen</th><th>defendingTeamMaxTimeOnIceOfDefencemenSinceFaceoff</th><th>defendingTeamMaxTimeOnIceOfForwards</th><th>defendingTeamMaxTimeOnIceOfForwardsSinceFaceoff</th><th>defendingTeamMaxTimeOnIceSinceFaceoff</th><th>defendingTeamMinTimeOnIce</th><th>defendingTeamMinTimeOnIceOfDefencemen</th><th>defendingTeamMinTimeOnIceOfDefencemenSinceFaceoff</th><th>defendingTeamMinTimeOnIceOfForwards</th><th>defendingTeamMinTimeOnIceOfForwardsSinceFaceoff</th><th>defendingTeamMinTimeOnIceSinceFaceoff</th><th>distanceFromLastEvent</th><th>event</th><th>game_id</th><th>&hellip;</th><th>xPlayStopped</th><th>xRebound</th><th>xShotWasOnGoal</th><th>yCord</th><th>yCordAdjusted</th><th>composite_game_id</th><th>game_date</th><th>scoringRate_other</th><th>scoringRate_all</th><th>scoringRate_5on5</th><th>scoringRate_4on5</th><th>scoringRate_5on4</th><th>scoringRate_other_away</th><th>scoringRate_all_away</th><th>scoringRate_5on5_away</th><th>scoringRate_4on5_away</th><th>scoringRate_5on4_away</th><th>GFg_other</th><th>GFg_all</th><th>GFg_5on5</th><th>GFg_4on5</th><th>GFg_5on4</th><th>GAg_other</th><th>GAg_all</th><th>GAg_5on5</th><th>GAg_4on5</th><th>GAg_5on4</th><th>GFg_other_away</th><th>GFg_all_away</th><th>GFg_5on5_away</th><th>GFg_4on5_away</th><th>GFg_5on4_away</th><th>GAg_other_away</th><th>GAg_all_away</th><th>GAg_5on5_away</th><th>GAg_4on5_away</th><th>GAg_5on4_away</th></tr><tr><td>i64</td><td>i64</td><td>f64</td><td>f64</td><td>f64</td><td>f64</td><td>f64</td><td>f64</td><td>i64</td><td>i64</td><td>i64</td><td>i64</td><td>str</td><td>i64</td><td>f64</td><td>f64</td><td>f64</td><td>f64</td><td>f64</td><td>f64</td><td>i64</td><td>i64</td><td>i64</td><td>i64</td><td>i64</td><td>i64</td><td>i64</td><td>i64</td><td>i64</td><td>i64</td><td>i64</td><td>i64</td><td>i64</td><td>i64</td><td>f64</td><td>str</td><td>i64</td><td>&hellip;</td><td>f64</td><td>f64</td><td>f64</td><td>i64</td><td>i64</td><td>i64</td><td>str</td><td>f64</td><td>f64</td><td>f64</td><td>f64</td><td>f64</td><td>f64</td><td>f64</td><td>f64</td><td>f64</td><td>f64</td><td>f64</td><td>f64</td><td>f64</td><td>f64</td><td>f64</td><td>f64</td><td>f64</td><td>f64</td><td>f64</td><td>f64</td><td>f64</td><td>f64</td><td>f64</td><td>f64</td><td>f64</td><td>f64</td><td>f64</td><td>f64</td><td>f64</td><td>f64</td></tr></thead><tbody><tr><td>150748</td><td>1219</td><td>13.0</td><td>-76.0</td><td>76.0</td><td>3.0</td><td>3.0</td><td>0.0</td><td>0</td><td>0</td><td>0</td><td>5</td><td>&quot;NYR&quot;</td><td>1</td><td>41.6</td><td>42.5</td><td>28.0</td><td>41.0</td><td>28.0</td><td>28.0</td><td>2</td><td>3</td><td>44</td><td>44</td><td>28</td><td>41</td><td>28</td><td>28</td><td>41</td><td>41</td><td>28</td><td>41</td><td>28</td><td>28</td><td>1.414214</td><td>&quot;MISS&quot;</td><td>20332</td><td>&hellip;</td><td>0.0322113</td><td>0.129556</td><td>0.924772</td><td>3</td><td>-3</td><td>2024020332</td><td>&quot;2024-11-23&quot;</td><td>0.153846</td><td>0.041762</td><td>0.03379</td><td>0.0</td><td>0.056338</td><td>0.093333</td><td>0.059339</td><td>0.050743</td><td>0.083333</td><td>0.090909</td><td>0.5</td><td>2.75</td><td>1.85</td><td>0.0</td><td>0.4</td><td>0.35</td><td>3.1</td><td>1.95</td><td>0.8</td><td>0.0</td><td>0.411765</td><td>3.588235</td><td>2.411765</td><td>0.117647</td><td>0.647059</td><td>0.411765</td><td>2.411765</td><td>1.705882</td><td>0.294118</td><td>0.0</td></tr><tr><td>150749</td><td>1220</td><td>32.0</td><td>-58.0</td><td>58.0</td><td>7.0</td><td>7.0</td><td>0.0</td><td>0</td><td>0</td><td>0</td><td>5</td><td>&quot;NYR&quot;</td><td>1</td><td>28.0</td><td>28.0</td><td>28.0</td><td>28.0</td><td>28.0</td><td>28.0</td><td>2</td><td>3</td><td>28</td><td>28</td><td>28</td><td>28</td><td>28</td><td>28</td><td>28</td><td>28</td><td>28</td><td>28</td><td>28</td><td>28</td><td>23.086793</td><td>&quot;GOAL&quot;</td><td>20332</td><td>&hellip;</td><td>0.0259533</td><td>0.0504242</td><td>0.689601</td><td>6</td><td>-6</td><td>2024020332</td><td>&quot;2024-11-23&quot;</td><td>0.153846</td><td>0.041762</td><td>0.03379</td><td>0.0</td><td>0.056338</td><td>0.093333</td><td>0.059339</td><td>0.050743</td><td>0.083333</td><td>0.090909</td><td>0.5</td><td>2.75</td><td>1.85</td><td>0.0</td><td>0.4</td><td>0.35</td><td>3.1</td><td>1.95</td><td>0.8</td><td>0.0</td><td>0.411765</td><td>3.588235</td><td>2.411765</td><td>0.117647</td><td>0.647059</td><td>0.411765</td><td>2.411765</td><td>1.705882</td><td>0.294118</td><td>0.0</td></tr><tr><td>150750</td><td>1221</td><td>53.0</td><td>58.0</td><td>58.0</td><td>43.0</td><td>43.0</td><td>0.0</td><td>0</td><td>0</td><td>0</td><td>5</td><td>&quot;NYR&quot;</td><td>2</td><td>18.0</td><td>18.0</td><td>18.0</td><td>18.0</td><td>18.0</td><td>18.0</td><td>2</td><td>3</td><td>18</td><td>18</td><td>18</td><td>18</td><td>18</td><td>18</td><td>18</td><td>18</td><td>18</td><td>18</td><td>18</td><td>18</td><td>71.84706</td><td>&quot;MISS&quot;</td><td>20332</td><td>&hellip;</td><td>0.0212277</td><td>0.026263</td><td>0.782443</td><td>41</td><td>41</td><td>2024020332</td><td>&quot;2024-11-23&quot;</td><td>0.153846</td><td>0.041762</td><td>0.03379</td><td>0.0</td><td>0.056338</td><td>0.093333</td><td>0.059339</td><td>0.050743</td><td>0.083333</td><td>0.090909</td><td>0.5</td><td>2.75</td><td>1.85</td><td>0.0</td><td>0.4</td><td>0.35</td><td>3.1</td><td>1.95</td><td>0.8</td><td>0.0</td><td>0.411765</td><td>3.588235</td><td>2.411765</td><td>0.117647</td><td>0.647059</td><td>0.411765</td><td>2.411765</td><td>1.705882</td><td>0.294118</td><td>0.0</td></tr><tr><td>150751</td><td>1222</td><td>13.0</td><td>-78.0</td><td>78.0</td><td>7.0</td><td>7.0</td><td>-6.4</td><td>0</td><td>0</td><td>0</td><td>5</td><td>&quot;NYR&quot;</td><td>2</td><td>30.2</td><td>40.0</td><td>33.0</td><td>23.666667</td><td>17.0</td><td>23.4</td><td>2</td><td>3</td><td>53</td><td>40</td><td>33</td><td>53</td><td>33</td><td>33</td><td>8</td><td>40</td><td>33</td><td>8</td><td>8</td><td>8</td><td>27.658633</td><td>&quot;SHOT&quot;</td><td>20332</td><td>&hellip;</td><td>0.0368578</td><td>0.0610083</td><td>0.705245</td><td>6</td><td>-6</td><td>2024020332</td><td>&quot;2024-11-23&quot;</td><td>0.153846</td><td>0.041762</td><td>0.03379</td><td>0.0</td><td>0.056338</td><td>0.093333</td><td>0.059339</td><td>0.050743</td><td>0.083333</td><td>0.090909</td><td>0.5</td><td>2.75</td><td>1.85</td><td>0.0</td><td>0.4</td><td>0.35</td><td>3.1</td><td>1.95</td><td>0.8</td><td>0.0</td><td>0.411765</td><td>3.588235</td><td>2.411765</td><td>0.117647</td><td>0.647059</td><td>0.411765</td><td>2.411765</td><td>1.705882</td><td>0.294118</td><td>0.0</td></tr><tr><td>150752</td><td>1223</td><td>13.0</td><td>-77.0</td><td>77.0</td><td>5.0</td><td>5.0</td><td>-6.6</td><td>0</td><td>0</td><td>0</td><td>5</td><td>&quot;NYR&quot;</td><td>2</td><td>14.4</td><td>9.5</td><td>9.5</td><td>17.666667</td><td>17.666667</td><td>14.4</td><td>2</td><td>3</td><td>29</td><td>11</td><td>11</td><td>29</td><td>29</td><td>29</td><td>8</td><td>8</td><td>8</td><td>11</td><td>11</td><td>8</td><td>19.235384</td><td>&quot;MISS&quot;</td><td>20332</td><td>&hellip;</td><td>0.0508426</td><td>0.0637382</td><td>0.801141</td><td>5</td><td>-5</td><td>2024020332</td><td>&quot;2024-11-23&quot;</td><td>0.153846</td><td>0.041762</td><td>0.03379</td><td>0.0</td><td>0.056338</td><td>0.093333</td><td>0.059339</td><td>0.050743</td><td>0.083333</td><td>0.090909</td><td>0.5</td><td>2.75</td><td>1.85</td><td>0.0</td><td>0.4</td><td>0.35</td><td>3.1</td><td>1.95</td><td>0.8</td><td>0.0</td><td>0.411765</td><td>3.588235</td><td>2.411765</td><td>0.117647</td><td>0.647059</td><td>0.411765</td><td>2.411765</td><td>1.705882</td><td>0.294118</td><td>0.0</td></tr></tbody></table></div>"
      ],
      "text/plain": [
       "shape: (5, 157)\n",
       "┌────────┬────────┬────────────┬────────────┬───┬────────────┬────────────┬────────────┬───────────┐\n",
       "│        ┆ shotID ┆ arenaAdjus ┆ arenaAdjus ┆ … ┆ GAg_all_aw ┆ GAg_5on5_a ┆ GAg_4on5_a ┆ GAg_5on4_ │\n",
       "│ ---    ┆ ---    ┆ tedShotDis ┆ tedXCord   ┆   ┆ ay         ┆ way        ┆ way        ┆ away      │\n",
       "│ i64    ┆ i64    ┆ tance      ┆ ---        ┆   ┆ ---        ┆ ---        ┆ ---        ┆ ---       │\n",
       "│        ┆        ┆ ---        ┆ f64        ┆   ┆ f64        ┆ f64        ┆ f64        ┆ f64       │\n",
       "│        ┆        ┆ f64        ┆            ┆   ┆            ┆            ┆            ┆           │\n",
       "╞════════╪════════╪════════════╪════════════╪═══╪════════════╪════════════╪════════════╪═══════════╡\n",
       "│ 150748 ┆ 1219   ┆ 13.0       ┆ -76.0      ┆ … ┆ 2.411765   ┆ 1.705882   ┆ 0.294118   ┆ 0.0       │\n",
       "│ 150749 ┆ 1220   ┆ 32.0       ┆ -58.0      ┆ … ┆ 2.411765   ┆ 1.705882   ┆ 0.294118   ┆ 0.0       │\n",
       "│ 150750 ┆ 1221   ┆ 53.0       ┆ 58.0       ┆ … ┆ 2.411765   ┆ 1.705882   ┆ 0.294118   ┆ 0.0       │\n",
       "│ 150751 ┆ 1222   ┆ 13.0       ┆ -78.0      ┆ … ┆ 2.411765   ┆ 1.705882   ┆ 0.294118   ┆ 0.0       │\n",
       "│ 150752 ┆ 1223   ┆ 13.0       ┆ -77.0      ┆ … ┆ 2.411765   ┆ 1.705882   ┆ 0.294118   ┆ 0.0       │\n",
       "└────────┴────────┴────────────┴────────────┴───┴────────────┴────────────┴────────────┴───────────┘"
      ]
     },
     "execution_count": 7,
     "metadata": {},
     "output_type": "execute_result"
    }
   ],
   "source": [
    "df.tail()"
   ]
  },
  {
   "cell_type": "markdown",
   "id": "0f40383a",
   "metadata": {},
   "source": [
    "Now we need to take this dataframe and apply the rest of the columns we need for the model. The following cells will be functions, as this needs to be re-applied to the complete dataset after testing. The first thing we need to do is remove OT shots, and create a time remaining variable that is counting down, instead of the moneypuck timer that counts up to 3600. Additionally, we will compute the goal differential here to use in the models later."
   ]
  },
  {
   "cell_type": "code",
   "execution_count": 8,
   "id": "cafef715",
   "metadata": {},
   "outputs": [],
   "source": [
    "def remove_ot(df:pl.DataFrame) -> pl.DataFrame:\n",
    "    filtered_df = df.filter(df[\"time\"] <= 3600)\n",
    "    return filtered_df\n",
    "\n",
    "def add_time_remaining(df: pl.DataFrame) -> pl.DataFrame:\n",
    "    return df.with_columns(\n",
    "        (3600 - df[\"time\"]).alias(\"t\")  # Create a new column 't'\n",
    "    )\n",
    "\n",
    "def add_goal_differential(df: pl.DataFrame) -> pl.DataFrame:\n",
    "    return df.with_columns(\n",
    "        (df['homeTeamGoals'] - df['awayTeamGoals']).alias('goal_delta')\n",
    "    )"
   ]
  },
  {
   "cell_type": "markdown",
   "id": "f8238223",
   "metadata": {},
   "source": [
    "## Creating the Vectors $\\mathbf{\\gamma_h}$, $\\mathbf{\\gamma_a}$ and $\\mathbf{\\nu_t}$\n",
    "\n",
    "The last step in creating the model is adding the `numpy` arrays that store the scoring rates at different strengths and the time remaining until strength changes. This requires us to lump the scoring rates into a single vector, and perform some logic to create the penalty time remaining vector."
   ]
  },
  {
   "cell_type": "code",
   "execution_count": 9,
   "id": "09589983",
   "metadata": {},
   "outputs": [],
   "source": [
    "def create_scoring_rate_vectors(df: pl.DataFrame) -> pl.DataFrame:\n",
    "    return df.with_columns([\n",
    "        pl.concat_list([\n",
    "            pl.col('scoringRate_5on4'),\n",
    "            pl.col('scoringRate_other'),\n",
    "            pl.col('scoringRate_4on5')\n",
    "        ]).alias('y_h'),\n",
    "\n",
    "        pl.concat_list([\n",
    "            pl.col('scoringRate_4on5_away'),\n",
    "            pl.col('scoringRate_other_away'),\n",
    "            pl.col('scoringRate_5on4_away')\n",
    "        ]).alias('y_a')\n",
    "    ])"
   ]
  },
  {
   "cell_type": "code",
   "execution_count": 10,
   "id": "6f57ba17",
   "metadata": {},
   "outputs": [],
   "source": [
    "def create_time_remaining_vectors(df: pl.DataFrame) -> pl.DataFrame:\n",
    "    \"\"\"\n",
    "    Creates a new column 'time_remaining_vector' in the DataFrame which contains a NumPy array of length 3\n",
    "    based on the game conditions for each row.\n",
    "    \"\"\"\n",
    "    def create_vector(rows):\n",
    "        # Initialize a numpy array of length 3 with zeros\n",
    "        time_remaining_vector = np.zeros((len(rows), 3), dtype=np.float64)\n",
    "\n",
    "        for i, row in enumerate(rows):\n",
    "            # Extract relevant columns from the row\n",
    "            homeSkatersOnIce = row[\"homeSkatersOnIce\"]\n",
    "            awaySkatersOnIce = row[\"awaySkatersOnIce\"]\n",
    "            homePenalty1TimeLeft = row[\"homePenalty1TimeLeft\"]\n",
    "            awayPenalty1TimeLeft = row[\"awayPenalty1TimeLeft\"]\n",
    "\n",
    "            # Handle case 1: homeSkatersOnIce == 5 and awaySkatersOnIce == 4\n",
    "            if homeSkatersOnIce == 5 and awaySkatersOnIce == 4:\n",
    "                time_remaining_vector[i, 0] = float(awayPenalty1TimeLeft)\n",
    "\n",
    "            # Handle case 2: homeSkatersOnIce == 4 and awaySkatersOnIce == 5\n",
    "            elif homeSkatersOnIce == 4 and awaySkatersOnIce == 5:\n",
    "                time_remaining_vector[i, 2] = float(homePenalty1TimeLeft)\n",
    "\n",
    "            # Handle case 3: homeSkatersOnIce != awaySkatersOnIce and neither team has 5 skaters\n",
    "            elif homeSkatersOnIce != awaySkatersOnIce and homeSkatersOnIce != 5 and awaySkatersOnIce != 5:\n",
    "                if homePenalty1TimeLeft >= awayPenalty1TimeLeft:\n",
    "                    time_remaining_vector[i, 1] = float(homePenalty1TimeLeft)\n",
    "                else:\n",
    "                    time_remaining_vector[i, 1] = float(awayPenalty1TimeLeft)\n",
    "\n",
    "        return time_remaining_vector\n",
    "\n",
    "    # Apply the function to the DataFrame\n",
    "    df = df.with_columns(\n",
    "        pl.struct([\n",
    "            \"homeSkatersOnIce\",\n",
    "            \"awaySkatersOnIce\",\n",
    "            \"homePenalty1TimeLeft\",\n",
    "            \"awayPenalty1TimeLeft\"\n",
    "        ])\n",
    "        .map_batches(create_vector)\n",
    "        .alias(\"time_remaining_vector\")\n",
    "    )\n",
    "\n",
    "    return df\n",
    "\n",
    "# TODO: REDO, this feels like too much and its all AI generated"
   ]
  },
  {
   "cell_type": "markdown",
   "id": "c922b2e9",
   "metadata": {},
   "source": [
    "Now we need to apply each of these functions to the dataset:"
   ]
  },
  {
   "cell_type": "code",
   "execution_count": 11,
   "id": "53e33960",
   "metadata": {},
   "outputs": [],
   "source": [
    "def add_remaining_cols(df:pl.DataFrame) -> pl.DataFrame:\n",
    "    df = remove_ot(df)\n",
    "    df = add_time_remaining(df)\n",
    "    df = add_goal_differential(df)\n",
    "    # print(\"before\")\n",
    "    # print(df)\n",
    "    df = create_scoring_rate_vectors(df)\n",
    "    # print(\"after\")\n",
    "    # print(df)\n",
    "    df = create_time_remaining_vectors(df)\n",
    "    return df"
   ]
  },
  {
   "cell_type": "code",
   "execution_count": 12,
   "id": "868beb55",
   "metadata": {},
   "outputs": [
    {
     "data": {
      "text/html": [
       "<div><style>\n",
       ".dataframe > thead > tr,\n",
       ".dataframe > tbody > tr {\n",
       "  text-align: right;\n",
       "  white-space: pre-wrap;\n",
       "}\n",
       "</style>\n",
       "<small>shape: (148_803, 162)</small><table border=\"1\" class=\"dataframe\"><thead><tr><th></th><th>shotID</th><th>arenaAdjustedShotDistance</th><th>arenaAdjustedXCord</th><th>arenaAdjustedXCordABS</th><th>arenaAdjustedYCord</th><th>arenaAdjustedYCordAbs</th><th>averageRestDifference</th><th>awayEmptyNet</th><th>awayPenalty1Length</th><th>awayPenalty1TimeLeft</th><th>awaySkatersOnIce</th><th>awayTeamCode</th><th>awayTeamGoals</th><th>defendingTeamAverageTimeOnIce</th><th>defendingTeamAverageTimeOnIceOfDefencemen</th><th>defendingTeamAverageTimeOnIceOfDefencemenSinceFaceoff</th><th>defendingTeamAverageTimeOnIceOfForwards</th><th>defendingTeamAverageTimeOnIceOfForwardsSinceFaceoff</th><th>defendingTeamAverageTimeOnIceSinceFaceoff</th><th>defendingTeamDefencemenOnIce</th><th>defendingTeamForwardsOnIce</th><th>defendingTeamMaxTimeOnIce</th><th>defendingTeamMaxTimeOnIceOfDefencemen</th><th>defendingTeamMaxTimeOnIceOfDefencemenSinceFaceoff</th><th>defendingTeamMaxTimeOnIceOfForwards</th><th>defendingTeamMaxTimeOnIceOfForwardsSinceFaceoff</th><th>defendingTeamMaxTimeOnIceSinceFaceoff</th><th>defendingTeamMinTimeOnIce</th><th>defendingTeamMinTimeOnIceOfDefencemen</th><th>defendingTeamMinTimeOnIceOfDefencemenSinceFaceoff</th><th>defendingTeamMinTimeOnIceOfForwards</th><th>defendingTeamMinTimeOnIceOfForwardsSinceFaceoff</th><th>defendingTeamMinTimeOnIceSinceFaceoff</th><th>distanceFromLastEvent</th><th>event</th><th>game_id</th><th>&hellip;</th><th>composite_game_id</th><th>game_date</th><th>scoringRate_other</th><th>scoringRate_all</th><th>scoringRate_5on5</th><th>scoringRate_4on5</th><th>scoringRate_5on4</th><th>scoringRate_other_away</th><th>scoringRate_all_away</th><th>scoringRate_5on5_away</th><th>scoringRate_4on5_away</th><th>scoringRate_5on4_away</th><th>GFg_other</th><th>GFg_all</th><th>GFg_5on5</th><th>GFg_4on5</th><th>GFg_5on4</th><th>GAg_other</th><th>GAg_all</th><th>GAg_5on5</th><th>GAg_4on5</th><th>GAg_5on4</th><th>GFg_other_away</th><th>GFg_all_away</th><th>GFg_5on5_away</th><th>GFg_4on5_away</th><th>GFg_5on4_away</th><th>GAg_other_away</th><th>GAg_all_away</th><th>GAg_5on5_away</th><th>GAg_4on5_away</th><th>GAg_5on4_away</th><th>t</th><th>goal_delta</th><th>y_h</th><th>y_a</th><th>time_remaining_vector</th></tr><tr><td>i64</td><td>i64</td><td>f64</td><td>f64</td><td>f64</td><td>f64</td><td>f64</td><td>f64</td><td>i64</td><td>i64</td><td>i64</td><td>i64</td><td>str</td><td>i64</td><td>f64</td><td>f64</td><td>f64</td><td>f64</td><td>f64</td><td>f64</td><td>i64</td><td>i64</td><td>i64</td><td>i64</td><td>i64</td><td>i64</td><td>i64</td><td>i64</td><td>i64</td><td>i64</td><td>i64</td><td>i64</td><td>i64</td><td>i64</td><td>f64</td><td>str</td><td>i64</td><td>&hellip;</td><td>i64</td><td>str</td><td>f64</td><td>f64</td><td>f64</td><td>f64</td><td>f64</td><td>f64</td><td>f64</td><td>f64</td><td>f64</td><td>f64</td><td>f64</td><td>f64</td><td>f64</td><td>f64</td><td>f64</td><td>f64</td><td>f64</td><td>f64</td><td>f64</td><td>f64</td><td>f64</td><td>f64</td><td>f64</td><td>f64</td><td>f64</td><td>f64</td><td>f64</td><td>f64</td><td>f64</td><td>f64</td><td>i64</td><td>i64</td><td>list[f64]</td><td>list[f64]</td><td>array[f64, 3]</td></tr></thead><tbody><tr><td>0</td><td>0</td><td>39.698866</td><td>59.0</td><td>59.0</td><td>-26.0</td><td>26.0</td><td>-3.4</td><td>0</td><td>0</td><td>0</td><td>5</td><td>&quot;NSH&quot;</td><td>0</td><td>30.0</td><td>32.0</td><td>26.0</td><td>28.666667</td><td>26.0</td><td>26.0</td><td>2</td><td>3</td><td>33</td><td>33</td><td>26</td><td>31</td><td>26</td><td>26</td><td>26</td><td>31</td><td>26</td><td>26</td><td>26</td><td>26</td><td>56.035703</td><td>&quot;SHOT&quot;</td><td>20001</td><td>&hellip;</td><td>2023020001</td><td>&quot;2023-10-10&quot;</td><td>0.148276</td><td>0.058241</td><td>0.044606</td><td>0.045045</td><td>0.098837</td><td>0.126712</td><td>0.051085</td><td>0.041379</td><td>0.066667</td><td>0.071895</td><td>0.52439</td><td>3.512195</td><td>2.097561</td><td>0.060976</td><td>0.829268</td><td>0.45122</td><td>3.256098</td><td>2.317073</td><td>0.426829</td><td>0.060976</td><td>0.45122</td><td>3.243902</td><td>2.04878</td><td>0.073171</td><td>0.670732</td><td>0.463415</td><td>3.02439</td><td>1.902439</td><td>0.609756</td><td>0.04878</td><td>3539</td><td>0</td><td>[0.098837,&nbsp;0.148276,&nbsp;0.045045]</td><td>[0.066667,&nbsp;0.126712,&nbsp;0.071895]</td><td>[0.0,&nbsp;0.0,&nbsp;0.0]</td></tr><tr><td>1</td><td>1</td><td>11.313708</td><td>81.0</td><td>81.0</td><td>8.0</td><td>8.0</td><td>-3.4</td><td>0</td><td>0</td><td>0</td><td>5</td><td>&quot;NSH&quot;</td><td>0</td><td>39.0</td><td>41.0</td><td>35.0</td><td>37.666667</td><td>35.0</td><td>35.0</td><td>2</td><td>3</td><td>42</td><td>42</td><td>35</td><td>40</td><td>35</td><td>35</td><td>35</td><td>40</td><td>35</td><td>35</td><td>35</td><td>35</td><td>40.496913</td><td>&quot;SHOT&quot;</td><td>20001</td><td>&hellip;</td><td>2023020001</td><td>&quot;2023-10-10&quot;</td><td>0.148276</td><td>0.058241</td><td>0.044606</td><td>0.045045</td><td>0.098837</td><td>0.126712</td><td>0.051085</td><td>0.041379</td><td>0.066667</td><td>0.071895</td><td>0.52439</td><td>3.512195</td><td>2.097561</td><td>0.060976</td><td>0.829268</td><td>0.45122</td><td>3.256098</td><td>2.317073</td><td>0.426829</td><td>0.060976</td><td>0.45122</td><td>3.243902</td><td>2.04878</td><td>0.073171</td><td>0.670732</td><td>0.463415</td><td>3.02439</td><td>1.902439</td><td>0.609756</td><td>0.04878</td><td>3530</td><td>0</td><td>[0.098837,&nbsp;0.148276,&nbsp;0.045045]</td><td>[0.066667,&nbsp;0.126712,&nbsp;0.071895]</td><td>[0.0,&nbsp;0.0,&nbsp;0.0]</td></tr><tr><td>2</td><td>2</td><td>45.343136</td><td>55.0</td><td>55.0</td><td>30.0</td><td>30.0</td><td>-3.8</td><td>0</td><td>0</td><td>0</td><td>5</td><td>&quot;NSH&quot;</td><td>0</td><td>23.8</td><td>26.0</td><td>26.0</td><td>22.333333</td><td>22.333333</td><td>23.8</td><td>2</td><td>3</td><td>26</td><td>26</td><td>26</td><td>25</td><td>25</td><td>26</td><td>19</td><td>26</td><td>26</td><td>19</td><td>19</td><td>19</td><td>120.432554</td><td>&quot;SHOT&quot;</td><td>20001</td><td>&hellip;</td><td>2023020001</td><td>&quot;2023-10-10&quot;</td><td>0.148276</td><td>0.058241</td><td>0.044606</td><td>0.045045</td><td>0.098837</td><td>0.126712</td><td>0.051085</td><td>0.041379</td><td>0.066667</td><td>0.071895</td><td>0.52439</td><td>3.512195</td><td>2.097561</td><td>0.060976</td><td>0.829268</td><td>0.45122</td><td>3.256098</td><td>2.317073</td><td>0.426829</td><td>0.060976</td><td>0.45122</td><td>3.243902</td><td>2.04878</td><td>0.073171</td><td>0.670732</td><td>0.463415</td><td>3.02439</td><td>1.902439</td><td>0.609756</td><td>0.04878</td><td>3493</td><td>0</td><td>[0.098837,&nbsp;0.148276,&nbsp;0.045045]</td><td>[0.066667,&nbsp;0.126712,&nbsp;0.071895]</td><td>[0.0,&nbsp;0.0,&nbsp;0.0]</td></tr><tr><td>3</td><td>3</td><td>43.139309</td><td>58.0</td><td>58.0</td><td>-30.0</td><td>30.0</td><td>-3.4</td><td>0</td><td>0</td><td>0</td><td>5</td><td>&quot;NSH&quot;</td><td>0</td><td>40.0</td><td>45.0</td><td>45.0</td><td>36.666667</td><td>36.666667</td><td>40.0</td><td>2</td><td>3</td><td>47</td><td>46</td><td>46</td><td>47</td><td>47</td><td>47</td><td>26</td><td>44</td><td>44</td><td>26</td><td>26</td><td>26</td><td>21.213203</td><td>&quot;SHOT&quot;</td><td>20001</td><td>&hellip;</td><td>2023020001</td><td>&quot;2023-10-10&quot;</td><td>0.148276</td><td>0.058241</td><td>0.044606</td><td>0.045045</td><td>0.098837</td><td>0.126712</td><td>0.051085</td><td>0.041379</td><td>0.066667</td><td>0.071895</td><td>0.52439</td><td>3.512195</td><td>2.097561</td><td>0.060976</td><td>0.829268</td><td>0.45122</td><td>3.256098</td><td>2.317073</td><td>0.426829</td><td>0.060976</td><td>0.45122</td><td>3.243902</td><td>2.04878</td><td>0.073171</td><td>0.670732</td><td>0.463415</td><td>3.02439</td><td>1.902439</td><td>0.609756</td><td>0.04878</td><td>3423</td><td>0</td><td>[0.098837,&nbsp;0.148276,&nbsp;0.045045]</td><td>[0.066667,&nbsp;0.126712,&nbsp;0.071895]</td><td>[0.0,&nbsp;0.0,&nbsp;0.0]</td></tr><tr><td>4</td><td>4</td><td>42.201896</td><td>-64.0</td><td>64.0</td><td>34.0</td><td>34.0</td><td>-15.0</td><td>0</td><td>0</td><td>0</td><td>5</td><td>&quot;NSH&quot;</td><td>0</td><td>44.4</td><td>40.5</td><td>40.5</td><td>47.0</td><td>47.0</td><td>44.4</td><td>2</td><td>3</td><td>48</td><td>44</td><td>44</td><td>48</td><td>48</td><td>48</td><td>37</td><td>37</td><td>37</td><td>46</td><td>46</td><td>37</td><td>129.799846</td><td>&quot;MISS&quot;</td><td>20001</td><td>&hellip;</td><td>2023020001</td><td>&quot;2023-10-10&quot;</td><td>0.148276</td><td>0.058241</td><td>0.044606</td><td>0.045045</td><td>0.098837</td><td>0.126712</td><td>0.051085</td><td>0.041379</td><td>0.066667</td><td>0.071895</td><td>0.52439</td><td>3.512195</td><td>2.097561</td><td>0.060976</td><td>0.829268</td><td>0.45122</td><td>3.256098</td><td>2.317073</td><td>0.426829</td><td>0.060976</td><td>0.45122</td><td>3.243902</td><td>2.04878</td><td>0.073171</td><td>0.670732</td><td>0.463415</td><td>3.02439</td><td>1.902439</td><td>0.609756</td><td>0.04878</td><td>3369</td><td>0</td><td>[0.098837,&nbsp;0.148276,&nbsp;0.045045]</td><td>[0.066667,&nbsp;0.126712,&nbsp;0.071895]</td><td>[0.0,&nbsp;0.0,&nbsp;0.0]</td></tr><tr><td>&hellip;</td><td>&hellip;</td><td>&hellip;</td><td>&hellip;</td><td>&hellip;</td><td>&hellip;</td><td>&hellip;</td><td>&hellip;</td><td>&hellip;</td><td>&hellip;</td><td>&hellip;</td><td>&hellip;</td><td>&hellip;</td><td>&hellip;</td><td>&hellip;</td><td>&hellip;</td><td>&hellip;</td><td>&hellip;</td><td>&hellip;</td><td>&hellip;</td><td>&hellip;</td><td>&hellip;</td><td>&hellip;</td><td>&hellip;</td><td>&hellip;</td><td>&hellip;</td><td>&hellip;</td><td>&hellip;</td><td>&hellip;</td><td>&hellip;</td><td>&hellip;</td><td>&hellip;</td><td>&hellip;</td><td>&hellip;</td><td>&hellip;</td><td>&hellip;</td><td>&hellip;</td><td>&hellip;</td><td>&hellip;</td><td>&hellip;</td><td>&hellip;</td><td>&hellip;</td><td>&hellip;</td><td>&hellip;</td><td>&hellip;</td><td>&hellip;</td><td>&hellip;</td><td>&hellip;</td><td>&hellip;</td><td>&hellip;</td><td>&hellip;</td><td>&hellip;</td><td>&hellip;</td><td>&hellip;</td><td>&hellip;</td><td>&hellip;</td><td>&hellip;</td><td>&hellip;</td><td>&hellip;</td><td>&hellip;</td><td>&hellip;</td><td>&hellip;</td><td>&hellip;</td><td>&hellip;</td><td>&hellip;</td><td>&hellip;</td><td>&hellip;</td><td>&hellip;</td><td>&hellip;</td><td>&hellip;</td><td>&hellip;</td><td>&hellip;</td><td>&hellip;</td><td>&hellip;</td><td>&hellip;</td></tr><tr><td>150748</td><td>1219</td><td>13.0</td><td>-76.0</td><td>76.0</td><td>3.0</td><td>3.0</td><td>0.0</td><td>0</td><td>0</td><td>0</td><td>5</td><td>&quot;NYR&quot;</td><td>1</td><td>41.6</td><td>42.5</td><td>28.0</td><td>41.0</td><td>28.0</td><td>28.0</td><td>2</td><td>3</td><td>44</td><td>44</td><td>28</td><td>41</td><td>28</td><td>28</td><td>41</td><td>41</td><td>28</td><td>41</td><td>28</td><td>28</td><td>1.414214</td><td>&quot;MISS&quot;</td><td>20332</td><td>&hellip;</td><td>2024020332</td><td>&quot;2024-11-23&quot;</td><td>0.153846</td><td>0.041762</td><td>0.03379</td><td>0.0</td><td>0.056338</td><td>0.093333</td><td>0.059339</td><td>0.050743</td><td>0.083333</td><td>0.090909</td><td>0.5</td><td>2.75</td><td>1.85</td><td>0.0</td><td>0.4</td><td>0.35</td><td>3.1</td><td>1.95</td><td>0.8</td><td>0.0</td><td>0.411765</td><td>3.588235</td><td>2.411765</td><td>0.117647</td><td>0.647059</td><td>0.411765</td><td>2.411765</td><td>1.705882</td><td>0.294118</td><td>0.0</td><td>241</td><td>5</td><td>[0.056338,&nbsp;0.153846,&nbsp;0.0]</td><td>[0.083333,&nbsp;0.093333,&nbsp;0.090909]</td><td>[0.0,&nbsp;0.0,&nbsp;0.0]</td></tr><tr><td>150749</td><td>1220</td><td>32.0</td><td>-58.0</td><td>58.0</td><td>7.0</td><td>7.0</td><td>0.0</td><td>0</td><td>0</td><td>0</td><td>5</td><td>&quot;NYR&quot;</td><td>1</td><td>28.0</td><td>28.0</td><td>28.0</td><td>28.0</td><td>28.0</td><td>28.0</td><td>2</td><td>3</td><td>28</td><td>28</td><td>28</td><td>28</td><td>28</td><td>28</td><td>28</td><td>28</td><td>28</td><td>28</td><td>28</td><td>28</td><td>23.086793</td><td>&quot;GOAL&quot;</td><td>20332</td><td>&hellip;</td><td>2024020332</td><td>&quot;2024-11-23&quot;</td><td>0.153846</td><td>0.041762</td><td>0.03379</td><td>0.0</td><td>0.056338</td><td>0.093333</td><td>0.059339</td><td>0.050743</td><td>0.083333</td><td>0.090909</td><td>0.5</td><td>2.75</td><td>1.85</td><td>0.0</td><td>0.4</td><td>0.35</td><td>3.1</td><td>1.95</td><td>0.8</td><td>0.0</td><td>0.411765</td><td>3.588235</td><td>2.411765</td><td>0.117647</td><td>0.647059</td><td>0.411765</td><td>2.411765</td><td>1.705882</td><td>0.294118</td><td>0.0</td><td>211</td><td>5</td><td>[0.056338,&nbsp;0.153846,&nbsp;0.0]</td><td>[0.083333,&nbsp;0.093333,&nbsp;0.090909]</td><td>[0.0,&nbsp;0.0,&nbsp;0.0]</td></tr><tr><td>150750</td><td>1221</td><td>53.0</td><td>58.0</td><td>58.0</td><td>43.0</td><td>43.0</td><td>0.0</td><td>0</td><td>0</td><td>0</td><td>5</td><td>&quot;NYR&quot;</td><td>2</td><td>18.0</td><td>18.0</td><td>18.0</td><td>18.0</td><td>18.0</td><td>18.0</td><td>2</td><td>3</td><td>18</td><td>18</td><td>18</td><td>18</td><td>18</td><td>18</td><td>18</td><td>18</td><td>18</td><td>18</td><td>18</td><td>18</td><td>71.84706</td><td>&quot;MISS&quot;</td><td>20332</td><td>&hellip;</td><td>2024020332</td><td>&quot;2024-11-23&quot;</td><td>0.153846</td><td>0.041762</td><td>0.03379</td><td>0.0</td><td>0.056338</td><td>0.093333</td><td>0.059339</td><td>0.050743</td><td>0.083333</td><td>0.090909</td><td>0.5</td><td>2.75</td><td>1.85</td><td>0.0</td><td>0.4</td><td>0.35</td><td>3.1</td><td>1.95</td><td>0.8</td><td>0.0</td><td>0.411765</td><td>3.588235</td><td>2.411765</td><td>0.117647</td><td>0.647059</td><td>0.411765</td><td>2.411765</td><td>1.705882</td><td>0.294118</td><td>0.0</td><td>193</td><td>4</td><td>[0.056338,&nbsp;0.153846,&nbsp;0.0]</td><td>[0.083333,&nbsp;0.093333,&nbsp;0.090909]</td><td>[0.0,&nbsp;0.0,&nbsp;0.0]</td></tr><tr><td>150751</td><td>1222</td><td>13.0</td><td>-78.0</td><td>78.0</td><td>7.0</td><td>7.0</td><td>-6.4</td><td>0</td><td>0</td><td>0</td><td>5</td><td>&quot;NYR&quot;</td><td>2</td><td>30.2</td><td>40.0</td><td>33.0</td><td>23.666667</td><td>17.0</td><td>23.4</td><td>2</td><td>3</td><td>53</td><td>40</td><td>33</td><td>53</td><td>33</td><td>33</td><td>8</td><td>40</td><td>33</td><td>8</td><td>8</td><td>8</td><td>27.658633</td><td>&quot;SHOT&quot;</td><td>20332</td><td>&hellip;</td><td>2024020332</td><td>&quot;2024-11-23&quot;</td><td>0.153846</td><td>0.041762</td><td>0.03379</td><td>0.0</td><td>0.056338</td><td>0.093333</td><td>0.059339</td><td>0.050743</td><td>0.083333</td><td>0.090909</td><td>0.5</td><td>2.75</td><td>1.85</td><td>0.0</td><td>0.4</td><td>0.35</td><td>3.1</td><td>1.95</td><td>0.8</td><td>0.0</td><td>0.411765</td><td>3.588235</td><td>2.411765</td><td>0.117647</td><td>0.647059</td><td>0.411765</td><td>2.411765</td><td>1.705882</td><td>0.294118</td><td>0.0</td><td>76</td><td>4</td><td>[0.056338,&nbsp;0.153846,&nbsp;0.0]</td><td>[0.083333,&nbsp;0.093333,&nbsp;0.090909]</td><td>[0.0,&nbsp;0.0,&nbsp;0.0]</td></tr><tr><td>150752</td><td>1223</td><td>13.0</td><td>-77.0</td><td>77.0</td><td>5.0</td><td>5.0</td><td>-6.6</td><td>0</td><td>0</td><td>0</td><td>5</td><td>&quot;NYR&quot;</td><td>2</td><td>14.4</td><td>9.5</td><td>9.5</td><td>17.666667</td><td>17.666667</td><td>14.4</td><td>2</td><td>3</td><td>29</td><td>11</td><td>11</td><td>29</td><td>29</td><td>29</td><td>8</td><td>8</td><td>8</td><td>11</td><td>11</td><td>8</td><td>19.235384</td><td>&quot;MISS&quot;</td><td>20332</td><td>&hellip;</td><td>2024020332</td><td>&quot;2024-11-23&quot;</td><td>0.153846</td><td>0.041762</td><td>0.03379</td><td>0.0</td><td>0.056338</td><td>0.093333</td><td>0.059339</td><td>0.050743</td><td>0.083333</td><td>0.090909</td><td>0.5</td><td>2.75</td><td>1.85</td><td>0.0</td><td>0.4</td><td>0.35</td><td>3.1</td><td>1.95</td><td>0.8</td><td>0.0</td><td>0.411765</td><td>3.588235</td><td>2.411765</td><td>0.117647</td><td>0.647059</td><td>0.411765</td><td>2.411765</td><td>1.705882</td><td>0.294118</td><td>0.0</td><td>14</td><td>4</td><td>[0.056338,&nbsp;0.153846,&nbsp;0.0]</td><td>[0.083333,&nbsp;0.093333,&nbsp;0.090909]</td><td>[0.0,&nbsp;0.0,&nbsp;0.0]</td></tr></tbody></table></div>"
      ],
      "text/plain": [
       "shape: (148_803, 162)\n",
       "┌────────┬────────┬────────────┬────────────┬───┬────────────┬────────────┬────────────┬───────────┐\n",
       "│        ┆ shotID ┆ arenaAdjus ┆ arenaAdjus ┆ … ┆ goal_delta ┆ y_h        ┆ y_a        ┆ time_rema │\n",
       "│ ---    ┆ ---    ┆ tedShotDis ┆ tedXCord   ┆   ┆ ---        ┆ ---        ┆ ---        ┆ ining_vec │\n",
       "│ i64    ┆ i64    ┆ tance      ┆ ---        ┆   ┆ i64        ┆ list[f64]  ┆ list[f64]  ┆ tor       │\n",
       "│        ┆        ┆ ---        ┆ f64        ┆   ┆            ┆            ┆            ┆ ---       │\n",
       "│        ┆        ┆ f64        ┆            ┆   ┆            ┆            ┆            ┆ array[f64 │\n",
       "│        ┆        ┆            ┆            ┆   ┆            ┆            ┆            ┆ , 3]      │\n",
       "╞════════╪════════╪════════════╪════════════╪═══╪════════════╪════════════╪════════════╪═══════════╡\n",
       "│ 0      ┆ 0      ┆ 39.698866  ┆ 59.0       ┆ … ┆ 0          ┆ [0.098837, ┆ [0.066667, ┆ [0.0,     │\n",
       "│        ┆        ┆            ┆            ┆   ┆            ┆ 0.148276,  ┆ 0.126712,  ┆ 0.0, 0.0] │\n",
       "│        ┆        ┆            ┆            ┆   ┆            ┆ 0.045045]  ┆ 0.071895]  ┆           │\n",
       "│ 1      ┆ 1      ┆ 11.313708  ┆ 81.0       ┆ … ┆ 0          ┆ [0.098837, ┆ [0.066667, ┆ [0.0,     │\n",
       "│        ┆        ┆            ┆            ┆   ┆            ┆ 0.148276,  ┆ 0.126712,  ┆ 0.0, 0.0] │\n",
       "│        ┆        ┆            ┆            ┆   ┆            ┆ 0.045045]  ┆ 0.071895]  ┆           │\n",
       "│ 2      ┆ 2      ┆ 45.343136  ┆ 55.0       ┆ … ┆ 0          ┆ [0.098837, ┆ [0.066667, ┆ [0.0,     │\n",
       "│        ┆        ┆            ┆            ┆   ┆            ┆ 0.148276,  ┆ 0.126712,  ┆ 0.0, 0.0] │\n",
       "│        ┆        ┆            ┆            ┆   ┆            ┆ 0.045045]  ┆ 0.071895]  ┆           │\n",
       "│ 3      ┆ 3      ┆ 43.139309  ┆ 58.0       ┆ … ┆ 0          ┆ [0.098837, ┆ [0.066667, ┆ [0.0,     │\n",
       "│        ┆        ┆            ┆            ┆   ┆            ┆ 0.148276,  ┆ 0.126712,  ┆ 0.0, 0.0] │\n",
       "│        ┆        ┆            ┆            ┆   ┆            ┆ 0.045045]  ┆ 0.071895]  ┆           │\n",
       "│ 4      ┆ 4      ┆ 42.201896  ┆ -64.0      ┆ … ┆ 0          ┆ [0.098837, ┆ [0.066667, ┆ [0.0,     │\n",
       "│        ┆        ┆            ┆            ┆   ┆            ┆ 0.148276,  ┆ 0.126712,  ┆ 0.0, 0.0] │\n",
       "│        ┆        ┆            ┆            ┆   ┆            ┆ 0.045045]  ┆ 0.071895]  ┆           │\n",
       "│ …      ┆ …      ┆ …          ┆ …          ┆ … ┆ …          ┆ …          ┆ …          ┆ …         │\n",
       "│ 150748 ┆ 1219   ┆ 13.0       ┆ -76.0      ┆ … ┆ 5          ┆ [0.056338, ┆ [0.083333, ┆ [0.0,     │\n",
       "│        ┆        ┆            ┆            ┆   ┆            ┆ 0.153846,  ┆ 0.093333,  ┆ 0.0, 0.0] │\n",
       "│        ┆        ┆            ┆            ┆   ┆            ┆ 0.0]       ┆ 0.090909]  ┆           │\n",
       "│ 150749 ┆ 1220   ┆ 32.0       ┆ -58.0      ┆ … ┆ 5          ┆ [0.056338, ┆ [0.083333, ┆ [0.0,     │\n",
       "│        ┆        ┆            ┆            ┆   ┆            ┆ 0.153846,  ┆ 0.093333,  ┆ 0.0, 0.0] │\n",
       "│        ┆        ┆            ┆            ┆   ┆            ┆ 0.0]       ┆ 0.090909]  ┆           │\n",
       "│ 150750 ┆ 1221   ┆ 53.0       ┆ 58.0       ┆ … ┆ 4          ┆ [0.056338, ┆ [0.083333, ┆ [0.0,     │\n",
       "│        ┆        ┆            ┆            ┆   ┆            ┆ 0.153846,  ┆ 0.093333,  ┆ 0.0, 0.0] │\n",
       "│        ┆        ┆            ┆            ┆   ┆            ┆ 0.0]       ┆ 0.090909]  ┆           │\n",
       "│ 150751 ┆ 1222   ┆ 13.0       ┆ -78.0      ┆ … ┆ 4          ┆ [0.056338, ┆ [0.083333, ┆ [0.0,     │\n",
       "│        ┆        ┆            ┆            ┆   ┆            ┆ 0.153846,  ┆ 0.093333,  ┆ 0.0, 0.0] │\n",
       "│        ┆        ┆            ┆            ┆   ┆            ┆ 0.0]       ┆ 0.090909]  ┆           │\n",
       "│ 150752 ┆ 1223   ┆ 13.0       ┆ -77.0      ┆ … ┆ 4          ┆ [0.056338, ┆ [0.083333, ┆ [0.0,     │\n",
       "│        ┆        ┆            ┆            ┆   ┆            ┆ 0.153846,  ┆ 0.093333,  ┆ 0.0, 0.0] │\n",
       "│        ┆        ┆            ┆            ┆   ┆            ┆ 0.0]       ┆ 0.090909]  ┆           │\n",
       "└────────┴────────┴────────────┴────────────┴───┴────────────┴────────────┴────────────┴───────────┘"
      ]
     },
     "execution_count": 12,
     "metadata": {},
     "output_type": "execute_result"
    }
   ],
   "source": [
    "df = add_remaining_cols(df)\n",
    "df"
   ]
  },
  {
   "cell_type": "markdown",
   "id": "6c0c8353",
   "metadata": {},
   "source": [
    "Now we have a finished dataset! Time to apply the Pettigrew Model to the Dataset. We found issues using the Pythagenpuck, Pythagenport and Ryder models, so we will instead be using the `Basic Competing Poisson` model to estimate our Win Probabilities with a given goal differential."
   ]
  },
  {
   "cell_type": "markdown",
   "id": "8baa4e6c",
   "metadata": {},
   "source": [
    "## 3. The Model"
   ]
  },
  {
   "cell_type": "markdown",
   "id": "8c10125f",
   "metadata": {},
   "source": [
    "### 3.a. Basic Competing Poisson Model"
   ]
  },
  {
   "cell_type": "code",
   "execution_count": 13,
   "id": "d5d19d22",
   "metadata": {},
   "outputs": [],
   "source": [
    "# Working!!\n",
    "def competing_poisson_helper(delta, GFg, GAg):\n",
    "    part1 = exp(-(GFg + GAg))\n",
    "    part2 = (GFg / GAg) ** (delta/2)\n",
    "\n",
    "    # Working version of using Modified Bessel function of first order\n",
    "    # (verified against Excel's BESSELI)\n",
    "    x = 2 * sqrt(GFg * GAg)\n",
    "    n = abs(delta)\n",
    "    part3 = special.iv(n,x)\n",
    "\n",
    "    prob = part1 * part2 * part3\n",
    "    return prob"
   ]
  },
  {
   "cell_type": "code",
   "execution_count": 14,
   "id": "a01bd1e6",
   "metadata": {},
   "outputs": [],
   "source": [
    "# Working!!\n",
    "def win_prob_competing_poisson(delta, GFg, GAg):\n",
    "    num = competing_poisson_helper(delta, GFg, GAg)\n",
    "    denom = competing_poisson_helper(delta, GFg, GAg) + competing_poisson_helper(-delta, GFg, GAg)\n",
    "    prob = num/denom\n",
    "    return prob"
   ]
  },
  {
   "cell_type": "markdown",
   "id": "2188c3d5",
   "metadata": {},
   "source": [
    "### 3.b. The Pettigrew Win Probability Model\n",
    "\n",
    "Finally, here is the final implementation of the Pettigrew Win Probability Model in Python, using the Basic Competing Poisson Estimation of Ryder Win Probabilities. This function will run the Pettigrew Model using the entire dataset, add win probability and clutch^2 columns classifying each shot, and return the resultant DataFrame."
   ]
  },
  {
   "cell_type": "code",
   "execution_count": 15,
   "id": "46de3e02",
   "metadata": {},
   "outputs": [],
   "source": [
    "def add_wp_and_clutch2(df: pl.DataFrame, wp_method=None, use_pettigrew: bool=True) -> pl.DataFrame:\n",
    "    \"\"\"\n",
    "    Compute Win Probabilities and Clutch² classification for each row in the DataFrame.\n",
    "\n",
    "    Parameters:\n",
    "    -----------\n",
    "    df : pl.DataFrame\n",
    "        Input DataFrame with game and shot information\n",
    "\n",
    "    Returns:\n",
    "    --------\n",
    "    pl.DataFrame\n",
    "        DataFrame with added Win Probability and Clutch² columns\n",
    "    \"\"\"\n",
    "    # Ensure the DataFrame is sorted by game and time\n",
    "    df_sorted = df.sort([\"composite_game_id\", \"time\"])\n",
    "\n",
    "    # Compute Win Probabilities and Clutch2 classification\n",
    "    def process_game(game_df):\n",
    "      # Initialize lists to store Win Probabilities\n",
    "      wp_before = []\n",
    "      wp_after = []\n",
    "      goal_flags = []\n",
    "\n",
    "      for i in range(len(game_df)):\n",
    "        row = game_df.row(i, named=True)\n",
    "\n",
    "        # redesigning this logic is hurting my head\n",
    "        # going to use this space to extract whichever row values are potentially needed\n",
    "        # and then have the win_prob module wrapper take care of which to actually send through\n",
    "\n",
    "        chosen_wp_method = wp_method\n",
    "\n",
    "        isHomeTeam = row['isHomeTeam'] == 1\n",
    "\n",
    "        # computing goal_diff with respect to the home team\n",
    "        goal_diff = row['homeTeamGoals'] - row['awayTeamGoals']\n",
    "\n",
    "        # determining status of home team before the shot\n",
    "        if goal_diff > 0:\n",
    "          homeStatus = 'leading'\n",
    "        elif goal_diff < 0:\n",
    "          homeStatus = 'behind'\n",
    "        else:\n",
    "          homeStatus = 'tied'\n",
    "\n",
    "        wp_b = calc_win_prob(\n",
    "            chosen_wp_method,\n",
    "            isHomeTeam = isHomeTeam,\n",
    "            homeTeamStatus = homeStatus,\n",
    "            homeTeamGoals = row['homeTeamGoals'],\n",
    "            awayTeamGoals = row['awayTeamGoals'],\n",
    "            homeGFg_all = row['GFg_all'],\n",
    "            awayGFg_all = row['GFg_all_away'],\n",
    "            homeGAg_all = row['GAg_all'],\n",
    "            awayGAg_all = row['GAg_all_away'],\n",
    "\n",
    "            #going of Pettigrew's statement that home team has 54% chance of winning when score diff = 0\n",
    "            tied_home_wp = 0.54,\n",
    "\n",
    "            # not needed for Ryder methods but building in for future improvement/retry\n",
    "            homeScoringRate = row['y_h'],\n",
    "            awayScoringRate = row['y_a'],\n",
    "            timeRemaining = row['time_remaining_vector']\n",
    "        )\n",
    "\n",
    "        wp_before.append(wp_b)\n",
    "        goal_flags.append(row.get('goal', 0))\n",
    "\n",
    "        # Logic to process if shot was a goal before computing wp_a\n",
    "        if row.get('goal', 0) == 1 and isHomeTeam:\n",
    "            homeTeamGoals_a = row['homeTeamGoals'] + 1\n",
    "            awayTeamGoals_a = row['awayTeamGoals']\n",
    "        elif row.get('goal', 0) == 1 and not isHomeTeam:\n",
    "            homeTeamGoals_a = row['homeTeamGoals']\n",
    "            awayTeamGoals_a = row['awayTeamGoals'] + 1\n",
    "        else:\n",
    "            homeTeamGoals_a = row['homeTeamGoals']\n",
    "            awayTeamGoals_a = row['awayTeamGoals']\n",
    "\n",
    "        # recomputing goal_diff with respect to the home team\n",
    "        goal_diff_a = homeTeamGoals_a - awayTeamGoals_a\n",
    "\n",
    "        # redetermining status of home team after the shot\n",
    "        if goal_diff_a > 0:\n",
    "          homeStatus_a = 'leading'\n",
    "        elif goal_diff < 0:\n",
    "          homeStatus_a = 'behind'\n",
    "        else:\n",
    "          homeStatus_a = 'tied'\n",
    "\n",
    "        wp_a = calc_win_prob(\n",
    "            chosen_wp_method,\n",
    "            isHomeTeam = isHomeTeam,\n",
    "            homeTeamStatus = homeStatus_a,\n",
    "            homeTeamGoals = homeTeamGoals_a,\n",
    "            awayTeamGoals = awayTeamGoals_a,\n",
    "            homeGFg_all = row['GFg_all'],\n",
    "            awayGFg_all = row['GFg_all_away'],\n",
    "            homeGAg_all = row['GAg_all'],\n",
    "            awayGAg_all = row['GAg_all_away'],\n",
    "\n",
    "            #going of Pettigrew's statement that home team has 54% chance of winning when score diff = 0\n",
    "            tied_home_wp = 0.54,\n",
    "\n",
    "            # not needed for Ryder methods but building in for future improvement/retry\n",
    "            homeScoringRate = row['y_h'],\n",
    "            awayScoringRate = row['y_a'],\n",
    "            timeRemaining = row['time_remaining_vector']\n",
    "        )\n",
    "\n",
    "        wp_after.append(wp_a)\n",
    "\n",
    "      # Compute Win Probability changes\n",
    "      wp_changes = np.array(wp_after) - np.array(wp_before)\n",
    "      avg_wp_change = np.mean(np.abs(wp_changes))\n",
    "      # TODO: interrogate the logic of abs()\n",
    "      # would it make more sense to avg out the positive wp_changes since that's what we are interested in?\n",
    "\n",
    "      # Create a new DataFrame with computed values\n",
    "      clutch_df = game_df.with_columns([\n",
    "            pl.Series(name='wp_before', values=wp_before),\n",
    "            pl.Series(name='wp_after', values=wp_after),\n",
    "            pl.Series(name='wp_change', values=wp_changes),\n",
    "            pl.Series(name='is_clutch2', values=wp_changes > avg_wp_change),\n",
    "            pl.Series(name='goal_flag', values=goal_flags)\n",
    "      ])\n",
    "      return clutch_df\n",
    "\n",
    "    def calc_win_prob(wp_method, **kwargs):\n",
    "      \"\"\"\n",
    "      Uses row values in kwargs to determine how to pass args into the chosen wp_method.\n",
    "      Designed to be flexible where you can construct more complicated wp_methods in the future\n",
    "      and need little to no modification to swap in\n",
    "\n",
    "      Returns a single float win probability\n",
    "      \"\"\"\n",
    "      if use_pettigrew:\n",
    "        #Win Probs for if Home team\n",
    "        if kwargs['homeTeamStatus'] == 'tied':\n",
    "          wp = kwargs['tied_home_wp']\n",
    "\n",
    "        else:\n",
    "          wp = pettigrew_wp(\n",
    "              delta = kwargs['homeTeamGoals'] - kwargs['awayTeamGoals'],\n",
    "              GFg = kwargs['homeGFg_all'],\n",
    "              GAg = kwargs['homeGAg_all'],\n",
    "              scoring_rate_home=kwargs['homeScoringRate'],\n",
    "              scoring_rate_away=kwargs['awayScoringRate'],\n",
    "              times_remaining=kwargs['timeRemaining']\n",
    "          )\n",
    "\n",
    "        # Handling if Away team\n",
    "        if not kwargs['isHomeTeam']:\n",
    "          wp = 1-wp\n",
    "\n",
    "        return wp\n",
    "\n",
    "      else:\n",
    "        wp_kwargs = kwargs.copy()\n",
    "        # Win Probs for if tied\n",
    "        if kwargs['homeTeamStatus'] == 'tied' and kwargs['isHomeTeam']:\n",
    "          wp = kwargs['tied_home_wp']\n",
    "        elif kwargs['homeTeamStatus'] == 'tied' and not kwargs['isHomeTeam']:\n",
    "          wp = 1 - kwargs['tied_home_wp']\n",
    "\n",
    "        # Win Probs for if Home is leading\n",
    "        elif kwargs['homeTeamStatus'] == 'leading' and kwargs['isHomeTeam']:\n",
    "          wp = wp_method(\n",
    "              delta = kwargs['homeTeamGoals'] - kwargs['awayTeamGoals'], #needs to > 0\n",
    "              GFg = kwargs['homeGFg_all'],\n",
    "              GAg = kwargs['homeGAg_all']\n",
    "          )\n",
    "        elif kwargs['homeTeamStatus'] == 'leading' and not kwargs['isHomeTeam']:\n",
    "          wp = 1 - wp_method(\n",
    "              delta = kwargs['homeTeamGoals'] - kwargs['awayTeamGoals'], #needs to > 0\n",
    "              GFg = kwargs['homeGFg_all'],\n",
    "              GAg = kwargs['homeGAg_all']\n",
    "          )\n",
    "\n",
    "        # Win Probs for if Home is behind\n",
    "        elif kwargs['homeTeamStatus'] == 'behind' and kwargs['isHomeTeam']:\n",
    "          wp = 1 - wp_method(\n",
    "              delta = kwargs['awayTeamGoals'] - kwargs['homeTeamGoals'], #needs to > 0\n",
    "              GFg = kwargs['awayGFg_all'],\n",
    "              GAg = kwargs['awayGAg_all']\n",
    "          )\n",
    "        elif kwargs['homeTeamStatus'] == 'behind' and not kwargs['isHomeTeam']:\n",
    "          wp = wp_method(\n",
    "              delta = kwargs['awayTeamGoals'] - kwargs['homeTeamGoals'], #needs to > 0\n",
    "              GFg = kwargs['awayGFg_all'],\n",
    "              GAg = kwargs['awayGAg_all']\n",
    "          )\n",
    "        return wp\n",
    "\n",
    "    # Process each game group\n",
    "    result_dfs = []\n",
    "    for game_id, game_df in df_sorted.group_by(\"composite_game_id\"):\n",
    "        processed_game_df = process_game(game_df)\n",
    "        result_dfs.append(processed_game_df)\n",
    "\n",
    "    # Combine the results and sort\n",
    "    return (pl.concat(result_dfs)\n",
    "            .sort([\"composite_game_id\", \"time\"])\n",
    "    )"
   ]
  },
  {
   "cell_type": "code",
   "execution_count": 16,
   "id": "60b25435",
   "metadata": {},
   "outputs": [],
   "source": [
    "def poisson_wp(gamma, nu):\n",
    "    # gamma and nu are vectors\n",
    "    dotprod = np.dot(gamma, nu, out=None)\n",
    "    pmf_val = poisson.pmf(1, dotprod)\n",
    "    return pmf_val"
   ]
  },
  {
   "cell_type": "markdown",
   "id": "9c3af474",
   "metadata": {},
   "source": [
    "Finally, we can call the function to add the win probabilities and clutch^2 values to the DataFrame, and write it to a CSV to import into Tableau."
   ]
  },
  {
   "cell_type": "code",
   "execution_count": 17,
   "id": "d4e1a30f",
   "metadata": {},
   "outputs": [
    {
     "ename": "NameError",
     "evalue": "name 'pettigrew_wp' is not defined",
     "output_type": "error",
     "traceback": [
      "\u001b[0;31m---------------------------------------------------------------------------\u001b[0m",
      "\u001b[0;31mNameError\u001b[0m                                 Traceback (most recent call last)",
      "Cell \u001b[0;32mIn[17], line 1\u001b[0m\n\u001b[0;32m----> 1\u001b[0m result \u001b[38;5;241m=\u001b[39m \u001b[43madd_wp_and_clutch2\u001b[49m\u001b[43m(\u001b[49m\n\u001b[1;32m      2\u001b[0m \u001b[43m    \u001b[49m\u001b[43mdf\u001b[49m\u001b[43m \u001b[49m\u001b[38;5;241;43m=\u001b[39;49m\u001b[43m \u001b[49m\u001b[43mdf\u001b[49m\u001b[43m,\u001b[49m\n\u001b[1;32m      3\u001b[0m \u001b[43m    \u001b[49m\u001b[43mwp_method\u001b[49m\u001b[43m \u001b[49m\u001b[38;5;241;43m=\u001b[39;49m\u001b[43m \u001b[49m\u001b[38;5;28;43;01mNone\u001b[39;49;00m\u001b[43m,\u001b[49m\n\u001b[1;32m      4\u001b[0m \u001b[43m    \u001b[49m\u001b[43muse_pettigrew\u001b[49m\u001b[43m \u001b[49m\u001b[38;5;241;43m=\u001b[39;49m\u001b[43m \u001b[49m\u001b[38;5;28;43;01mTrue\u001b[39;49;00m\n\u001b[1;32m      5\u001b[0m \u001b[43m)\u001b[49m\n",
      "Cell \u001b[0;32mIn[15], line 199\u001b[0m, in \u001b[0;36madd_wp_and_clutch2\u001b[0;34m(df, wp_method, use_pettigrew)\u001b[0m\n\u001b[1;32m    197\u001b[0m result_dfs \u001b[38;5;241m=\u001b[39m []\n\u001b[1;32m    198\u001b[0m \u001b[38;5;28;01mfor\u001b[39;00m game_id, game_df \u001b[38;5;129;01min\u001b[39;00m df_sorted\u001b[38;5;241m.\u001b[39mgroup_by(\u001b[38;5;124m\"\u001b[39m\u001b[38;5;124mcomposite_game_id\u001b[39m\u001b[38;5;124m\"\u001b[39m):\n\u001b[0;32m--> 199\u001b[0m     processed_game_df \u001b[38;5;241m=\u001b[39m \u001b[43mprocess_game\u001b[49m\u001b[43m(\u001b[49m\u001b[43mgame_df\u001b[49m\u001b[43m)\u001b[49m\n\u001b[1;32m    200\u001b[0m     result_dfs\u001b[38;5;241m.\u001b[39mappend(processed_game_df)\n\u001b[1;32m    202\u001b[0m \u001b[38;5;66;03m# Combine the results and sort\u001b[39;00m\n",
      "Cell \u001b[0;32mIn[15], line 92\u001b[0m, in \u001b[0;36madd_wp_and_clutch2.<locals>.process_game\u001b[0;34m(game_df)\u001b[0m\n\u001b[1;32m     89\u001b[0m   \u001b[38;5;28;01melse\u001b[39;00m:\n\u001b[1;32m     90\u001b[0m     homeStatus_a \u001b[38;5;241m=\u001b[39m \u001b[38;5;124m'\u001b[39m\u001b[38;5;124mtied\u001b[39m\u001b[38;5;124m'\u001b[39m\n\u001b[0;32m---> 92\u001b[0m   wp_a \u001b[38;5;241m=\u001b[39m \u001b[43mcalc_win_prob\u001b[49m\u001b[43m(\u001b[49m\n\u001b[1;32m     93\u001b[0m \u001b[43m      \u001b[49m\u001b[43mchosen_wp_method\u001b[49m\u001b[43m,\u001b[49m\n\u001b[1;32m     94\u001b[0m \u001b[43m      \u001b[49m\u001b[43misHomeTeam\u001b[49m\u001b[43m \u001b[49m\u001b[38;5;241;43m=\u001b[39;49m\u001b[43m \u001b[49m\u001b[43misHomeTeam\u001b[49m\u001b[43m,\u001b[49m\n\u001b[1;32m     95\u001b[0m \u001b[43m      \u001b[49m\u001b[43mhomeTeamStatus\u001b[49m\u001b[43m \u001b[49m\u001b[38;5;241;43m=\u001b[39;49m\u001b[43m \u001b[49m\u001b[43mhomeStatus_a\u001b[49m\u001b[43m,\u001b[49m\n\u001b[1;32m     96\u001b[0m \u001b[43m      \u001b[49m\u001b[43mhomeTeamGoals\u001b[49m\u001b[43m \u001b[49m\u001b[38;5;241;43m=\u001b[39;49m\u001b[43m \u001b[49m\u001b[43mhomeTeamGoals_a\u001b[49m\u001b[43m,\u001b[49m\n\u001b[1;32m     97\u001b[0m \u001b[43m      \u001b[49m\u001b[43mawayTeamGoals\u001b[49m\u001b[43m \u001b[49m\u001b[38;5;241;43m=\u001b[39;49m\u001b[43m \u001b[49m\u001b[43mawayTeamGoals_a\u001b[49m\u001b[43m,\u001b[49m\n\u001b[1;32m     98\u001b[0m \u001b[43m      \u001b[49m\u001b[43mhomeGFg_all\u001b[49m\u001b[43m \u001b[49m\u001b[38;5;241;43m=\u001b[39;49m\u001b[43m \u001b[49m\u001b[43mrow\u001b[49m\u001b[43m[\u001b[49m\u001b[38;5;124;43m'\u001b[39;49m\u001b[38;5;124;43mGFg_all\u001b[39;49m\u001b[38;5;124;43m'\u001b[39;49m\u001b[43m]\u001b[49m\u001b[43m,\u001b[49m\n\u001b[1;32m     99\u001b[0m \u001b[43m      \u001b[49m\u001b[43mawayGFg_all\u001b[49m\u001b[43m \u001b[49m\u001b[38;5;241;43m=\u001b[39;49m\u001b[43m \u001b[49m\u001b[43mrow\u001b[49m\u001b[43m[\u001b[49m\u001b[38;5;124;43m'\u001b[39;49m\u001b[38;5;124;43mGFg_all_away\u001b[39;49m\u001b[38;5;124;43m'\u001b[39;49m\u001b[43m]\u001b[49m\u001b[43m,\u001b[49m\n\u001b[1;32m    100\u001b[0m \u001b[43m      \u001b[49m\u001b[43mhomeGAg_all\u001b[49m\u001b[43m \u001b[49m\u001b[38;5;241;43m=\u001b[39;49m\u001b[43m \u001b[49m\u001b[43mrow\u001b[49m\u001b[43m[\u001b[49m\u001b[38;5;124;43m'\u001b[39;49m\u001b[38;5;124;43mGAg_all\u001b[39;49m\u001b[38;5;124;43m'\u001b[39;49m\u001b[43m]\u001b[49m\u001b[43m,\u001b[49m\n\u001b[1;32m    101\u001b[0m \u001b[43m      \u001b[49m\u001b[43mawayGAg_all\u001b[49m\u001b[43m \u001b[49m\u001b[38;5;241;43m=\u001b[39;49m\u001b[43m \u001b[49m\u001b[43mrow\u001b[49m\u001b[43m[\u001b[49m\u001b[38;5;124;43m'\u001b[39;49m\u001b[38;5;124;43mGAg_all_away\u001b[39;49m\u001b[38;5;124;43m'\u001b[39;49m\u001b[43m]\u001b[49m\u001b[43m,\u001b[49m\n\u001b[1;32m    102\u001b[0m \n\u001b[1;32m    103\u001b[0m \u001b[43m      \u001b[49m\u001b[38;5;66;43;03m#going of Pettigrew's statement that home team has 54% chance of winning when score diff = 0\u001b[39;49;00m\n\u001b[1;32m    104\u001b[0m \u001b[43m      \u001b[49m\u001b[43mtied_home_wp\u001b[49m\u001b[43m \u001b[49m\u001b[38;5;241;43m=\u001b[39;49m\u001b[43m \u001b[49m\u001b[38;5;241;43m0.54\u001b[39;49m\u001b[43m,\u001b[49m\n\u001b[1;32m    105\u001b[0m \n\u001b[1;32m    106\u001b[0m \u001b[43m      \u001b[49m\u001b[38;5;66;43;03m# not needed for Ryder methods but building in for future improvement/retry\u001b[39;49;00m\n\u001b[1;32m    107\u001b[0m \u001b[43m      \u001b[49m\u001b[43mhomeScoringRate\u001b[49m\u001b[43m \u001b[49m\u001b[38;5;241;43m=\u001b[39;49m\u001b[43m \u001b[49m\u001b[43mrow\u001b[49m\u001b[43m[\u001b[49m\u001b[38;5;124;43m'\u001b[39;49m\u001b[38;5;124;43my_h\u001b[39;49m\u001b[38;5;124;43m'\u001b[39;49m\u001b[43m]\u001b[49m\u001b[43m,\u001b[49m\n\u001b[1;32m    108\u001b[0m \u001b[43m      \u001b[49m\u001b[43mawayScoringRate\u001b[49m\u001b[43m \u001b[49m\u001b[38;5;241;43m=\u001b[39;49m\u001b[43m \u001b[49m\u001b[43mrow\u001b[49m\u001b[43m[\u001b[49m\u001b[38;5;124;43m'\u001b[39;49m\u001b[38;5;124;43my_a\u001b[39;49m\u001b[38;5;124;43m'\u001b[39;49m\u001b[43m]\u001b[49m\u001b[43m,\u001b[49m\n\u001b[1;32m    109\u001b[0m \u001b[43m      \u001b[49m\u001b[43mtimeRemaining\u001b[49m\u001b[43m \u001b[49m\u001b[38;5;241;43m=\u001b[39;49m\u001b[43m \u001b[49m\u001b[43mrow\u001b[49m\u001b[43m[\u001b[49m\u001b[38;5;124;43m'\u001b[39;49m\u001b[38;5;124;43mtime_remaining_vector\u001b[39;49m\u001b[38;5;124;43m'\u001b[39;49m\u001b[43m]\u001b[49m\n\u001b[1;32m    110\u001b[0m \u001b[43m  \u001b[49m\u001b[43m)\u001b[49m\n\u001b[1;32m    112\u001b[0m   wp_after\u001b[38;5;241m.\u001b[39mappend(wp_a)\n\u001b[1;32m    114\u001b[0m \u001b[38;5;66;03m# Compute Win Probability changes\u001b[39;00m\n",
      "Cell \u001b[0;32mIn[15], line 144\u001b[0m, in \u001b[0;36madd_wp_and_clutch2.<locals>.calc_win_prob\u001b[0;34m(wp_method, **kwargs)\u001b[0m\n\u001b[1;32m    141\u001b[0m   wp \u001b[38;5;241m=\u001b[39m kwargs[\u001b[38;5;124m'\u001b[39m\u001b[38;5;124mtied_home_wp\u001b[39m\u001b[38;5;124m'\u001b[39m]\n\u001b[1;32m    143\u001b[0m \u001b[38;5;28;01melse\u001b[39;00m:\n\u001b[0;32m--> 144\u001b[0m   wp \u001b[38;5;241m=\u001b[39m \u001b[43mpettigrew_wp\u001b[49m(\n\u001b[1;32m    145\u001b[0m       delta \u001b[38;5;241m=\u001b[39m kwargs[\u001b[38;5;124m'\u001b[39m\u001b[38;5;124mhomeTeamGoals\u001b[39m\u001b[38;5;124m'\u001b[39m] \u001b[38;5;241m-\u001b[39m kwargs[\u001b[38;5;124m'\u001b[39m\u001b[38;5;124mawayTeamGoals\u001b[39m\u001b[38;5;124m'\u001b[39m],\n\u001b[1;32m    146\u001b[0m       GFg \u001b[38;5;241m=\u001b[39m kwargs[\u001b[38;5;124m'\u001b[39m\u001b[38;5;124mhomeGFg_all\u001b[39m\u001b[38;5;124m'\u001b[39m],\n\u001b[1;32m    147\u001b[0m       GAg \u001b[38;5;241m=\u001b[39m kwargs[\u001b[38;5;124m'\u001b[39m\u001b[38;5;124mhomeGAg_all\u001b[39m\u001b[38;5;124m'\u001b[39m],\n\u001b[1;32m    148\u001b[0m       scoring_rate_home\u001b[38;5;241m=\u001b[39mkwargs[\u001b[38;5;124m'\u001b[39m\u001b[38;5;124mhomeScoringRate\u001b[39m\u001b[38;5;124m'\u001b[39m],\n\u001b[1;32m    149\u001b[0m       scoring_rate_away\u001b[38;5;241m=\u001b[39mkwargs[\u001b[38;5;124m'\u001b[39m\u001b[38;5;124mawayScoringRate\u001b[39m\u001b[38;5;124m'\u001b[39m],\n\u001b[1;32m    150\u001b[0m       times_remaining\u001b[38;5;241m=\u001b[39mkwargs[\u001b[38;5;124m'\u001b[39m\u001b[38;5;124mtimeRemaining\u001b[39m\u001b[38;5;124m'\u001b[39m]\n\u001b[1;32m    151\u001b[0m   )\n\u001b[1;32m    153\u001b[0m \u001b[38;5;66;03m# Handling if Away team\u001b[39;00m\n\u001b[1;32m    154\u001b[0m \u001b[38;5;28;01mif\u001b[39;00m \u001b[38;5;129;01mnot\u001b[39;00m kwargs[\u001b[38;5;124m'\u001b[39m\u001b[38;5;124misHomeTeam\u001b[39m\u001b[38;5;124m'\u001b[39m]:\n",
      "\u001b[0;31mNameError\u001b[0m: name 'pettigrew_wp' is not defined"
     ]
    }
   ],
   "source": [
    "result = add_wp_and_clutch2(\n",
    "    df = df,\n",
    "    wp_method = None,\n",
    "    use_pettigrew = True\n",
    ")"
   ]
  },
  {
   "cell_type": "code",
   "execution_count": null,
   "id": "e55c07ab",
   "metadata": {},
   "outputs": [],
   "source": [
    "result = result.drop([\"y_a\", \"y_h\", \"time_remaining_vector\"]) # Drop these vectors, they don't play nice outside of a dataframe\n",
    "result.write_csv('/path/to/save/output/final_shots.csv')"
   ]
  },
  {
   "cell_type": "markdown",
   "id": "b57c2596",
   "metadata": {},
   "source": [
    "## 4. Next Steps"
   ]
  },
  {
   "cell_type": "markdown",
   "id": "be60fe9e",
   "metadata": {},
   "source": [
    "The model is working as expected, and from the dashboard we are seeing accurate results. However, this model was never tested for accuracy, so the next steps are to manually identify shots that would be considered by audiences as \"Clutch\" and then comparing our Clutch^2 predictions to assess the accuracy of the model. \n",
    "\n",
    "Additionally, we could update the model to factor in defensive plays like Corsi and blocked shots to better examine clutch defensive plays. We may need to make this into its own model however, so stay tuned for that!\n",
    "\n",
    "Lastly, the Pettigrew model is a very simple implementation of Win Probability. This model could be taken further with Pettigrew's Added Goal Value metric outlined in the paper, and could be made stricter to better classify Clutch^2 shots, or made more comprehensive through an overtime handler.\n",
    "\n",
    "These better models and a better testing methodology could lead the team to using Machine Learning to either improve the model, or scrap the Pettigrew model entirely for a widely-used model like `XGBoost` and a Random Forest for identifying important features of the model.\n",
    "\n",
    "Overall this was an incredibly interesting and motivating project to work on, and we are excited to see where this will lead."
   ]
  },
  {
   "cell_type": "markdown",
   "id": "41313d8e",
   "metadata": {},
   "source": [
    "## 4. Comparing Clutch^2 Shots to Game-Winning Goals\n",
    "\n",
    "To assess the accuracy of the model, we are comparing our classified shots to the initial clutch metric. If a clutch^2 shot is a game-winning goal, then that is considered an accurate classification."
   ]
  },
  {
   "cell_type": "markdown",
   "id": "4d81e27b",
   "metadata": {},
   "source": []
  }
 ],
 "metadata": {
  "kernelspec": {
   "display_name": ".env",
   "language": "python",
   "name": "python3"
  },
  "language_info": {
   "codemirror_mode": {
    "name": "ipython",
    "version": 3
   },
   "file_extension": ".py",
   "mimetype": "text/x-python",
   "name": "python",
   "nbconvert_exporter": "python",
   "pygments_lexer": "ipython3",
   "version": "3.13.0"
  }
 },
 "nbformat": 4,
 "nbformat_minor": 5
}
