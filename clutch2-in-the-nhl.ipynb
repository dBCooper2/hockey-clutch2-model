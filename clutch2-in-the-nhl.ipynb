{
 "cells": [
  {
   "cell_type": "markdown",
   "metadata": {},
   "source": [
    "---\n",
    "title: Defining Clutch in the NHL\n",
    "description: Applying Mike Beuoy's Clutch^2 Model to Hockey Players and Teams\n",
    "date: 2024-12-23\n",
    "tags: [\"hockey\", \"python\", \"data-analysis\", \"classification\"]\n",
    "published: true\n",
    "---"
   ]
  },
  {
   "cell_type": "markdown",
   "metadata": {},
   "source": [
    "**Remove this section after conversion!**\n",
    "\n",
    "# Defining Clutch: Hype Moments in the NHL"
   ]
  },
  {
   "cell_type": "markdown",
   "metadata": {},
   "source": [
    "###### By:: Trevor Rowland ([dBCooper2](<https://github.com/dBCooper2>)), Abhishek Menothu ([sh4ken](<https://github.com/sh4ken>)) and Johnathen Wigfall ([jwigfall4627](<https://github.com/Jwigfall4627>))"
   ]
  },
  {
   "cell_type": "markdown",
   "metadata": {},
   "source": [
    "## Resources\n",
    "\n",
    "Beuoy, Mike. *Measuring Clutch Play in the NBA* https://www.inpredictable.com/2014/03/measuring-clutch-play-in-nba.html"
   ]
  },
  {
   "cell_type": "markdown",
   "metadata": {},
   "source": [
    "## Table of Contents:\n",
    "\n",
    "1. Abstract\n",
    "\n",
    "1.a. Problem Statement\n",
    "\n",
    "1.b. Method Overview\n",
    "\n",
    "1.c. Key Findings\n",
    "\n",
    "1.d. Main Impact\n",
    "\n",
    "2. Introduction\n",
    "\n",
    "2.a. What is Known\n",
    "\n",
    "2.b. Our Understanding\n",
    "\n",
    "3. Literature Reviews\n",
    "\n",
    "3.a. What is Known\n",
    "\n",
    "3.b. What is the Gap We Want to Fill?\n",
    "\n",
    "4. Methodology\n",
    "\n",
    "4.a. How Should We Fill the Gap?\n",
    "\n",
    "4.b. What Did You Do?\n",
    "\n",
    "5. Discussion\n",
    "\n",
    "5.a. What Findings Did You Get?\n",
    "\n",
    "6. Discussion\n",
    "\n",
    "6.a. How do the Findings Bridge the Gap?\n",
    "\n",
    "7. Conclusion\n",
    "\n",
    "7.a. What Does this Mean Going Forward?\n",
    "\n",
    "8. References\n"
   ]
  },
  {
   "cell_type": "markdown",
   "metadata": {},
   "source": [
    "### Method Overview\n",
    "\n",
    "To define a shot or goal as \"clutch\", we used a modified version of the NBA's definition of a Clutch Play, as we were unable to find one for the NHL. In basketball, clutch is defined as \"shots made when the score is within five points or less with five minutes or less left in the game\" (MacKelvie). While this creates a good starting point, MacKelvie notes that this isn't what people think of when they think of a clutch play. Clutch plays are buzzer beaters, last second bombs, not layups that win the game with four minutes and 50 seconds left on the clock. This leads us to Mike Beuoy's Clutch<sup>2</sup> model, where \"Clutch plays are when a play (either positive or negative) has a greater than average impact on win probability, and garbage time is when a play has a lower than average impact.\" (Beuoy)"
   ]
  },
  {
   "cell_type": "markdown",
   "metadata": {},
   "source": [
    "## Methodology\n",
    "\n",
    "### a. How should we fill the gap?\n",
    "\n",
    "### b. What did you do?"
   ]
  },
  {
   "cell_type": "markdown",
   "metadata": {},
   "source": []
  }
 ],
 "metadata": {
  "language_info": {
   "name": "python"
  }
 },
 "nbformat": 4,
 "nbformat_minor": 2
}
